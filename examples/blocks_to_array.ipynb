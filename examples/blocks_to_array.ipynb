{
 "metadata": {
  "language_info": {
   "codemirror_mode": {
    "name": "ipython",
    "version": 3
   },
   "file_extension": ".py",
   "mimetype": "text/x-python",
   "name": "python",
   "nbconvert_exporter": "python",
   "pygments_lexer": "ipython3",
   "version": "3.8.3-final"
  },
  "orig_nbformat": 2,
  "kernelspec": {
   "name": "python3",
   "display_name": "Python 3",
   "language": "python"
  }
 },
 "nbformat": 4,
 "nbformat_minor": 2,
 "cells": [
  {
   "source": [
    "Blocks to array"
   ],
   "cell_type": "markdown",
   "metadata": {}
  },
  {
   "cell_type": "code",
   "execution_count": 269,
   "metadata": {},
   "outputs": [],
   "source": [
    "yellow_follow = 'C:/Users/caspe/Desktop/yellow/lib/'\n",
    "\n",
    "import sys; sys.path.append(yellow_follow) \n",
    "from patch_extraction import extract_patches\n",
    "from raster_io import raster_to_array, array_to_raster, raster_to_metadata\n",
    "import numpy as np\n",
    "import sqlite3\n",
    "import pandas as pd\n",
    "from glob import glob\n",
    "import matplotlib.pyplot as plt\n",
    "import os\n",
    "\n",
    "from sqlalchemy import create_engine"
   ]
  },
  {
   "cell_type": "code",
   "execution_count": 285,
   "metadata": {},
   "outputs": [],
   "source": [
    "predict_me = np.stack([\n",
    "    np.load(folder + \"b04.npy\"),\n",
    "    np.load(folder + \"b08.npy\"),\n",
    "    np.load(folder + \"bs_asc.npy\"),\n",
    "    np.load(folder + \"bs_desc.npy\"),\n",
    "    np.load(folder + \"coh_asc.npy\"),\n",
    "    np.load(folder + \"coh_desc.npy\"),\n",
    "], axis=3)"
   ]
  },
  {
   "cell_type": "code",
   "execution_count": 288,
   "metadata": {},
   "outputs": [],
   "source": [
    "np.save(folder + \"predict_me.npy\", predict_me)"
   ]
  }
 ]
}