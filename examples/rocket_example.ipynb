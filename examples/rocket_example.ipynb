{
 "cells": [
  {
   "cell_type": "code",
   "execution_count": null,
   "metadata": {},
   "outputs": [],
   "source": []
  }
 ],
 "metadata": {
  "kernelspec": {
   "display_name": "Python 3.7.13 ('buteo-dev')",
   "language": "python",
   "name": "python3"
  },
  "language_info": {
   "name": "python",
   "version": "3.7.13"
  },
  "orig_nbformat": 4,
  "vscode": {
   "interpreter": {
    "hash": "62b269afa36b0f8dc9a8e6355384fc608716d850e497e4373fa0333c41e6f5b8"
   }
  }
 },
 "nbformat": 4,
 "nbformat_minor": 2
}
