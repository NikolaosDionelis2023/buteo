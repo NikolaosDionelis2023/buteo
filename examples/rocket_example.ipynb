{
 "cells": [
  {
   "cell_type": "markdown",
   "metadata": {},
   "source": [
    "# Prepare raster files by clipped and aligned to a master for Deep Learning, every weekend.\n",
    "This notebook demonstrates how you can use Buteo together with Rocketry to schedule the processing of geospatial data. </br> The example does the following:\n",
    "1. Reads the raster content of a folder.\n",
    "2. Clips all the rasters to a target in memory (Can be vector, raster).\n",
    "3. Aligns all the resulting rasters in memory.\n",
    "4. Combines all the rasters into a single numpy array and saves it to disc as \"latest.npz\".\n",
    "5. Conducts all of the above step every Saturday afternoon after 16:00."
   ]
  },
  {
   "cell_type": "code",
   "execution_count": null,
   "metadata": {},
   "outputs": [],
   "source": [
    "!pip install rocketry\n",
    "!pip install buteo"
   ]
  },
  {
   "cell_type": "code",
   "execution_count": null,
   "metadata": {},
   "outputs": [],
   "source": [
    "import buteo as beo\n",
    "import numpy as np\n",
    "from rocketry import Rocketry"
   ]
  },
  {
   "cell_type": "code",
   "execution_count": null,
   "metadata": {},
   "outputs": [],
   "source": [
    "ORIGIN_FOLDER = \"/content/coarse_data/\"\n",
    "DESTINATION_FOLDER = \"/content/cleaned_data/\"\n",
    "BOUNDS_FILE = \"content/cleaned_data/bounds.tif\" # can also be a vector."
   ]
  },
  {
   "cell_type": "code",
   "execution_count": null,
   "metadata": {},
   "outputs": [],
   "source": [
    "def ready_files():\n",
    "    # Clip all the .tif files in the folder to the bounding box of a raster. (Works regardless of projections.)\n",
    "    clipped = beo.clip_raster(ORIGIN_FOLDER + \"*.tif:glob\", BOUNDS_FILE, suffix=\"_clipped\")\n",
    "\n",
    "    # Aligns and reprojections all the rasters to a master file.\n",
    "    aligned = beo.align_rasters(clipped, master=BOUNDS_FILE, suffix=\"_aligned\")\n",
    "\n",
    "    # Reads the rasters as a NumPy array and stacks them. (Only works if they are aligned.)\n",
    "    stacked = beo.raster_to_array(aligned)\n",
    "\n",
    "    # Save as a compressed NumPy array.\n",
    "    np.savez_compressed(DESTINATION_FOLDER + \"latest.npz\", data=stacked)\n",
    "\n",
    "    return True"
   ]
  },
  {
   "cell_type": "code",
   "execution_count": null,
   "metadata": {},
   "outputs": [],
   "source": [
    "# Start the rocketry scheduling service and run it on Saturday afternoons.\n",
    "app = Rocketry()\n",
    "\n",
    "@app.task(rocketry.conds.weekly.on(\"Sat\") & rocketry.conds.time_of_day.after(\"16:00\"))\n",
    "def do_daily():\n",
    "    ready_files()"
   ]
  }
 ],
 "metadata": {
  "kernelspec": {
   "display_name": "Python 3.7.13 ('buteo-dev')",
   "language": "python",
   "name": "python3"
  },
  "language_info": {
   "name": "python",
   "version": "3.7.13"
  },
  "orig_nbformat": 4,
  "vscode": {
   "interpreter": {
    "hash": "62b269afa36b0f8dc9a8e6355384fc608716d850e497e4373fa0333c41e6f5b8"
   }
  }
 },
 "nbformat": 4,
 "nbformat_minor": 2
}
