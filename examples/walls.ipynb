{
 "metadata": {
  "language_info": {
   "codemirror_mode": {
    "name": "ipython",
    "version": 3
   },
   "file_extension": ".py",
   "mimetype": "text/x-python",
   "name": "python",
   "nbconvert_exporter": "python",
   "pygments_lexer": "ipython3",
   "version": "3.8.3-final"
  },
  "orig_nbformat": 2,
  "kernelspec": {
   "name": "python3",
   "display_name": "Python 3.8.3 64-bit ('green': conda)",
   "metadata": {
    "interpreter": {
     "hash": "a95dea4baa8b0a5487e3b911736b1dfe08e111b8d5f5715e18765428cf11f279"
    }
   }
  }
 },
 "nbformat": 4,
 "nbformat_minor": 2,
 "cells": [
  {
   "source": [
    "Identifying stonewalls"
   ],
   "cell_type": "markdown",
   "metadata": {}
  },
  {
   "cell_type": "code",
   "execution_count": 2,
   "metadata": {},
   "outputs": [],
   "source": [
    "# Local path, change this.\n",
    "yellow_follow = 'C:/Users/caspe/Desktop/yellow/lib/'\n",
    "\n",
    "import sys; sys.path.append(yellow_follow) \n",
    "import pandas as pd\n",
    "import ml_utils\n",
    "import math\n",
    "import time\n",
    "import numpy as np\n",
    "import os\n",
    "\n",
    "np.set_printoptions(suppress=True)\n",
    "os.environ['TF_FORCE_GPU_ALLOW_GROWTH'] = 'true'\n",
    "\n",
    "from sqlalchemy import create_engine\n",
    "\n",
    "from sklearn.model_selection import train_test_split\n",
    "\n",
    "# Tensorflow\n",
    "import tensorflow_addons as tfa\n",
    "from tensorflow.keras import Model, Input\n",
    "from tensorflow.keras.layers import Dense, BatchNormalization, Dropout, Dropout, Conv2D, MaxPooling2D, Flatten, Conv2DTranspose, Add\n",
    "from tensorflow.keras.optimizers import Adam\n",
    "from tensorflow.keras.callbacks import EarlyStopping, LearningRateScheduler\n",
    "from tensorflow.keras.constraints import max_norm\n",
    "from tensorflow.keras.utils import plot_model\n",
    "\n",
    "folder = \"C:/Users/caspe/Desktop/wall_data/\""
   ]
  },
  {
   "cell_type": "code",
   "execution_count": 3,
   "metadata": {},
   "outputs": [],
   "source": [
    "dtm = np.load(folder + \"dtm.npy\")\n",
    "walls = np.load(folder + \"walls.npy\")\n",
    "meta = pd.read_csv(folder + \"metadata.csv\")"
   ]
  },
  {
   "cell_type": "code",
   "execution_count": 14,
   "metadata": {},
   "outputs": [],
   "source": [
    "walls = (walls == 1).astype('uint8')"
   ]
  },
  {
   "cell_type": "code",
   "execution_count": 19,
   "metadata": {},
   "outputs": [
    {
     "output_type": "execute_result",
     "data": {
      "text/plain": [
       "array([    4,     5,     6, ..., 19337, 19338, 19339], dtype=int64)"
      ]
     },
     "metadata": {},
     "execution_count": 19
    }
   ],
   "source": [
    "np.swapaxes(meta[meta[\"land\"] == 1].values, 0, 1)[0]"
   ]
  },
  {
   "cell_type": "code",
   "execution_count": 21,
   "metadata": {},
   "outputs": [],
   "source": [
    "land_mask = np.swapaxes(meta[meta[\"land\"] == 1].values, 0, 1)[0]\n",
    "wall_mask = np.swapaxes(meta[meta[\"wall\"] == 1].values, 0, 1)[0]    # Has a wall\n",
    "no_wall_mask = np.swapaxes(meta[meta[\"wall\"] == 2].values, 0, 1)[0] # Has _no_ wall"
   ]
  },
  {
   "cell_type": "code",
   "execution_count": 22,
   "metadata": {},
   "outputs": [
    {
     "output_type": "execute_result",
     "data": {
      "text/plain": [
       "(715,)"
      ]
     },
     "metadata": {},
     "execution_count": 22
    }
   ],
   "source": [
    "no_wall_mask.shape"
   ]
  },
  {
   "cell_type": "code",
   "execution_count": 23,
   "metadata": {},
   "outputs": [
    {
     "output_type": "execute_result",
     "data": {
      "text/plain": [
       "(599,)"
      ]
     },
     "metadata": {},
     "execution_count": 23
    }
   ],
   "source": [
    "wall_mask.shape"
   ]
  },
  {
   "source": [
    "Regression first"
   ],
   "cell_type": "markdown",
   "metadata": {}
  },
  {
   "cell_type": "code",
   "execution_count": 25,
   "metadata": {},
   "outputs": [
    {
     "output_type": "execute_result",
     "data": {
      "text/plain": [
       "(1314, 64, 64)"
      ]
     },
     "metadata": {},
     "execution_count": 25
    }
   ],
   "source": [
    "train = np.concatenate([dtm[wall_mask], dtm[no_wall_mask]])\n",
    "train.shape"
   ]
  },
  {
   "cell_type": "code",
   "execution_count": 28,
   "metadata": {},
   "outputs": [],
   "source": [
    "truth = np.concatenate([meta.values[wall_mask], meta.values[no_wall_mask]])"
   ]
  },
  {
   "cell_type": "code",
   "execution_count": 29,
   "metadata": {},
   "outputs": [],
   "source": [
    "truth = (np.swapaxes(truth, 0, 1)[2] == 1).astype('uint8')"
   ]
  },
  {
   "cell_type": "code",
   "execution_count": 31,
   "metadata": {},
   "outputs": [
    {
     "output_type": "execute_result",
     "data": {
      "text/plain": [
       "(1314,)"
      ]
     },
     "metadata": {},
     "execution_count": 31
    }
   ],
   "source": [
    "truth.shape"
   ]
  },
  {
   "cell_type": "code",
   "execution_count": 32,
   "metadata": {},
   "outputs": [
    {
     "output_type": "execute_result",
     "data": {
      "text/plain": [
       "(5256, 64, 64)"
      ]
     },
     "metadata": {},
     "execution_count": 32
    }
   ],
   "source": [
    "train = ml_utils.add_rotations(train)\n",
    "train.shape"
   ]
  },
  {
   "cell_type": "code",
   "execution_count": 33,
   "metadata": {},
   "outputs": [],
   "source": [
    "truth = np.concatenate([truth, truth, truth, truth])"
   ]
  },
  {
   "cell_type": "code",
   "execution_count": 35,
   "metadata": {},
   "outputs": [],
   "source": [
    "# Shuffle the dataset\n",
    "shuffle_mask = np.random.permutation(len(truth))\n",
    "train = train[shuffle_mask]\n",
    "truth = truth[shuffle_mask]\n",
    "\n",
    "train = train[..., np.newaxis]"
   ]
  },
  {
   "cell_type": "code",
   "execution_count": 37,
   "metadata": {},
   "outputs": [
    {
     "output_type": "execute_result",
     "data": {
      "text/plain": [
       "(5256, 64, 64, 1)"
      ]
     },
     "metadata": {},
     "execution_count": 37
    }
   ],
   "source": [
    "train.shape"
   ]
  },
  {
   "cell_type": "code",
   "execution_count": 38,
   "metadata": {},
   "outputs": [],
   "source": [
    "X_train, X_test, y_train, y_test = train_test_split(train, truth, test_size=0.33, random_state=42)"
   ]
  },
  {
   "cell_type": "code",
   "execution_count": 62,
   "metadata": {},
   "outputs": [],
   "source": [
    "def define_model(shape, name, activation='relu', kernel_initializer='uniform', maxnorm=4, sizes=[64, 96, 128]):\n",
    "    model_input = Input(shape=shape, name=name)\n",
    "    model = Conv2D(sizes[0],\n",
    "        kernel_size=5,\n",
    "        padding='same',\n",
    "        activation=activation,\n",
    "        kernel_initializer=kernel_initializer,\n",
    "    )(model_input)\n",
    "\n",
    "    model = MaxPooling2D(pool_size=(2, 2), padding='same', strides=(2, 2))(model)\n",
    "\n",
    "    model = Conv2D(sizes[1],\n",
    "        kernel_size=3,\n",
    "        padding='same',\n",
    "        activation=activation,\n",
    "        kernel_initializer=kernel_initializer,\n",
    "    )(model)\n",
    "\n",
    "    model = MaxPooling2D(pool_size=(2, 2), padding='same', strides=(2, 2))(model)\n",
    "\n",
    "    model = Conv2D(sizes[1],\n",
    "        kernel_size=3,\n",
    "        padding='same',\n",
    "        activation=activation,\n",
    "        kernel_initializer=kernel_initializer,\n",
    "    )(model)\n",
    "\n",
    "    # model = Flatten()(model)\n",
    "\n",
    "    model = Dense(32, activation='relu', kernel_initializer=kernel_initializer)(model)\n",
    "\n",
    "    # output = Dense(1, activation='sigmoid')(model)\n",
    "    output = Conv2D(1, kernel_size=3, padding='same', activation='relu', kernel_initializer=kernel_initializer)(model)\n",
    "\n",
    "    return Model(inputs=[model_input], outputs=output)\n",
    "\n",
    "lr = 0.001\n",
    "bs = 16\n",
    "epochs = 50\n",
    "\n",
    "def step_decay(epoch):\n",
    "    initial_lrate = lr\n",
    "    drop = 0.5\n",
    "    epochs_drop = 5\n",
    "    lrate = initial_lrate * math.pow(drop, math.floor((1 + epoch) / epochs_drop))\n",
    "    return lrate\n",
    "\n",
    "model = define_model(X_train.shape[1:], \"Generative\")\n",
    "\n",
    "model.compile(\n",
    "    optimizer=Adam(\n",
    "        learning_rate=lr,\n",
    "        name=\"Adam\",\n",
    "    ),\n",
    "    loss='BinaryCrossentropy',\n",
    ")"
   ]
  },
  {
   "cell_type": "code",
   "execution_count": 63,
   "metadata": {},
   "outputs": [
    {
     "output_type": "stream",
     "name": "stdout",
     "text": [
      "Epoch 1/50\n",
      "154/154 [==============================] - 3s 11ms/step - loss: 0.9756 - val_loss: 0.6586\n",
      "Epoch 2/50\n",
      "154/154 [==============================] - 2s 10ms/step - loss: 0.6748 - val_loss: 0.6312\n",
      "Epoch 3/50\n",
      "154/154 [==============================] - 1s 10ms/step - loss: 0.8387 - val_loss: 0.6589\n",
      "Epoch 4/50\n",
      "154/154 [==============================] - 2s 10ms/step - loss: 0.6600 - val_loss: 0.6468\n",
      "Epoch 5/50\n",
      "154/154 [==============================] - 1s 10ms/step - loss: 0.6476 - val_loss: 0.6463\n",
      "Epoch 6/50\n",
      "154/154 [==============================] - 2s 10ms/step - loss: 0.6522 - val_loss: 0.6460\n",
      "Epoch 7/50\n",
      "154/154 [==============================] - 2s 10ms/step - loss: 0.6478 - val_loss: 0.6458\n",
      "Epoch 8/50\n",
      "154/154 [==============================] - 2s 10ms/step - loss: 0.6466 - val_loss: 0.6457\n",
      "Epoch 9/50\n",
      "154/154 [==============================] - 2s 10ms/step - loss: 0.6470 - val_loss: 0.6457\n",
      "Epoch 10/50\n",
      "154/154 [==============================] - 2s 10ms/step - loss: 0.6516 - val_loss: 0.6457\n",
      "Epoch 11/50\n",
      "154/154 [==============================] - 2s 11ms/step - loss: 0.6518 - val_loss: 0.6457\n",
      "Batch_size: 16\n"
     ]
    }
   ],
   "source": [
    "model.fit(\n",
    "    x=X_train,\n",
    "    y=y_train,\n",
    "    epochs=epochs,\n",
    "    verbose=1,\n",
    "    batch_size=bs,\n",
    "    validation_split=0.3,\n",
    "    callbacks=[\n",
    "        LearningRateScheduler(step_decay),\n",
    "        EarlyStopping(\n",
    "            monitor=\"val_loss\",\n",
    "            patience=10,\n",
    "            min_delta=0.1,\n",
    "            restore_best_weights=True,\n",
    "        ),\n",
    "    ],\n",
    ")\n",
    "\n",
    "print(f\"Batch_size: {str(bs)}\")\n",
    "loss = model.evaluate(X_test, y_test, verbose=0)"
   ]
  },
  {
   "cell_type": "code",
   "execution_count": 64,
   "metadata": {},
   "outputs": [],
   "source": [
    "pred = model.predict(X_test)"
   ]
  },
  {
   "cell_type": "code",
   "execution_count": 65,
   "metadata": {},
   "outputs": [
    {
     "output_type": "execute_result",
     "data": {
      "text/plain": [
       "array([[0.20459574],\n",
       "       [0.3543476 ],\n",
       "       [0.36457402],\n",
       "       ...,\n",
       "       [0.28134596],\n",
       "       [0.36416388],\n",
       "       [0.3762661 ]], dtype=float32)"
      ]
     },
     "metadata": {},
     "execution_count": 65
    }
   ],
   "source": [
    "pred"
   ]
  },
  {
   "cell_type": "code",
   "execution_count": 68,
   "metadata": {},
   "outputs": [
    {
     "output_type": "execute_result",
     "data": {
      "text/plain": [
       "array([[0],\n",
       "       [1],\n",
       "       [1],\n",
       "       ...,\n",
       "       [1],\n",
       "       [1],\n",
       "       [1]], dtype=uint8)"
      ]
     },
     "metadata": {},
     "execution_count": 68
    }
   ],
   "source": [
    "y_test"
   ]
  },
  {
   "cell_type": "code",
   "execution_count": null,
   "metadata": {},
   "outputs": [],
   "source": []
  }
 ]
}