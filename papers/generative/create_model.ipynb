{
 "metadata": {
  "language_info": {
   "codemirror_mode": {
    "name": "ipython",
    "version": 3
   },
   "file_extension": ".py",
   "mimetype": "text/x-python",
   "name": "python",
   "nbconvert_exporter": "python",
   "pygments_lexer": "ipython3",
   "version": "3.8.3-final"
  },
  "orig_nbformat": 2,
  "kernelspec": {
   "name": "green",
   "display_name": "green",
   "language": "python"
  }
 },
 "nbformat": 4,
 "nbformat_minor": 2,
 "cells": [
  {
   "source": [
    "Create model"
   ],
   "cell_type": "markdown",
   "metadata": {}
  },
  {
   "cell_type": "code",
   "execution_count": 1,
   "metadata": {},
   "outputs": [],
   "source": [
    "yellow_follow = 'C:/Users/caspe/Desktop/yellow/lib/'\n",
    "import sys; sys.path.append(yellow_follow) \n",
    "\n",
    "import os\n",
    "import numpy as np\n",
    "import pandas as pd\n",
    "import ml_utils\n",
    "from sqlalchemy import create_engine\n",
    "from sklearn.model_selection import GridSearchCV\n",
    "\n",
    "import tensorflow as tf\n",
    "import tensorflow_addons as tfa\n",
    "from tensorflow.keras import Model, Input\n",
    "from tensorflow.keras.layers import Dense, BatchNormalization, Dropout, Dropout, Conv2D, MaxPooling2D, Conv2DTranspose\n",
    "from tensorflow.keras.optimizers import Adam\n",
    "from tensorflow.keras.callbacks import EarlyStopping, LearningRateScheduler\n",
    "from tensorflow.keras.constraints import max_norm\n",
    "\n",
    "np.set_printoptions(suppress=True)\n",
    "os.environ['TF_FORCE_GPU_ALLOW_GROWTH'] = 'true'"
   ]
  },
  {
   "cell_type": "code",
   "execution_count": 2,
   "metadata": {},
   "outputs": [],
   "source": [
    "folder = \"C:/Users/caspe/Desktop/Paper_6_Generative/\"\n",
    "\n",
    "# Load data\n",
    "X_train = np.load(folder + \"X_train.npy\").transpose(0, 2, 3, 1)\n",
    "y_train = np.load(folder + \"y_train.npy\")[..., np.newaxis]\n",
    "X_test = np.load(folder + \"X_test.npy\").transpose(0, 2, 3, 1)\n",
    "y_test = np.load(folder + \"y_test.npy\")[..., np.newaxis]"
   ]
  },
  {
   "cell_type": "code",
   "execution_count": 3,
   "metadata": {},
   "outputs": [],
   "source": [
    "def define_model(shape, name, activation='relu', kernel_initializer='normal', dropout=0.2, maxnorm=4, sizes=[32, 64, 96]):\n",
    "\n",
    "    model_input = Input(shape=shape, name=name)\n",
    "    model = Conv2D(sizes[0],\n",
    "        kernel_size=3,\n",
    "        padding='same',\n",
    "        activation=activation,\n",
    "        kernel_initializer=kernel_initializer,\n",
    "        kernel_constraint=max_norm(maxnorm),\n",
    "        bias_constraint=max_norm(maxnorm),\n",
    "    )(model_input)\n",
    "    model = BatchNormalization()(model)\n",
    "    model = Dropout(dropout)(model)\n",
    "\n",
    "    model = Conv2D(sizes[1],\n",
    "        kernel_size=3,\n",
    "        padding='same',\n",
    "        activation=activation,\n",
    "        kernel_initializer=kernel_initializer,\n",
    "        kernel_constraint=max_norm(maxnorm),\n",
    "        bias_constraint=max_norm(maxnorm),\n",
    "    )(model)\n",
    "    model = BatchNormalization()(model)\n",
    "    model = Dropout(dropout)(model)\n",
    "\n",
    "    model = Conv2D(sizes[2],\n",
    "        kernel_size=3,\n",
    "        padding='same',\n",
    "        activation=activation,\n",
    "        kernel_initializer=kernel_initializer,\n",
    "        kernel_constraint=max_norm(maxnorm),\n",
    "        bias_constraint=max_norm(maxnorm),\n",
    "    )(model)\n",
    "    model = BatchNormalization()(model)\n",
    "    model = Dropout(dropout)(model)\n",
    "\n",
    "    output = Conv2D(1, kernel_size=3, padding='same', activation='relu', kernel_initializer=kernel_initializer)(model)\n",
    "\n",
    "    return Model(inputs=[model_input], outputs=output)"
   ]
  },
  {
   "cell_type": "code",
   "execution_count": null,
   "metadata": {},
   "outputs": [],
   "source": [
    "model = define_model(X_train.shape[1:], \"Generative\", dropout=0.0)\n",
    "model.summary()"
   ]
  },
  {
   "cell_type": "code",
   "execution_count": null,
   "metadata": {},
   "outputs": [],
   "source": [
    "epochs = 50\n",
    "lr = 0.001\n",
    "bs = 512\n",
    "\n",
    "model.compile(\n",
    "    optimizer=Adam(\n",
    "            learning_rate=lr,\n",
    "            name=\"Adam\",\n",
    "    ),\n",
    "    loss='log_cosh',\n",
    "    metrics=[\n",
    "        'mse',\n",
    "        'mae',\n",
    "        'log_cosh',\n",
    "    ]\n",
    ")\n",
    "\n",
    "model.fit(\n",
    "    x=X_train,\n",
    "    y=y_train,\n",
    "    epochs=epochs,\n",
    "    verbose=1,\n",
    "    batch_size=bs,\n",
    "    validation_split=0.2,\n",
    ")\n",
    "\n",
    "loss, mse, mae, log_cosh = model.evaluate(X_test, y_test, verbose=0)\n",
    "print(f\"Mean Square Error:      {round(mse, 3)}\")\n",
    "print(f\"Mean Absolute Error:    {round(mae, 3)}\")\n",
    "print(f\"log_cosh:               {round(log_cosh, 3)}\")\n",
    "print(\"\")"
   ]
  },
  {
   "cell_type": "code",
   "execution_count": null,
   "metadata": {},
   "outputs": [],
   "source": [
    "from matplotlib import pyplot\n",
    "\n",
    "pyplot.plot(mode.history['accuracy'], label='train')\n",
    "pyplot.plot(model.history['val_loss'], label='test')\n",
    "pyplot.legend()\n",
    "pyplot.show()"
   ]
  },
  {
   "cell_type": "code",
   "execution_count": null,
   "metadata": {},
   "outputs": [],
   "source": [
    "pred = model.predict(X_test)"
   ]
  },
  {
   "cell_type": "code",
   "execution_count": null,
   "metadata": {},
   "outputs": [],
   "source": [
    "gimg = 2001\n",
    "import matplotlib.pyplot as plt\n",
    "\n",
    "def to_8bit(arr, arrmax=None):\n",
    "    if arrmax == None:\n",
    "        red = (arr * 255 / y_test.max()).astype('uint8')\n",
    "    else:\n",
    "        red = (arr * 255 / arrmax).astype('uint8')\n",
    "    if len(red.shape) == 3:\n",
    "        return red[:, :, 0]\n",
    "    return red"
   ]
  },
  {
   "cell_type": "code",
   "execution_count": null,
   "metadata": {},
   "outputs": [],
   "source": [
    "plt.imshow(to_8bit(pred[gimg]), interpolation='none')\n",
    "plt.show()"
   ]
  },
  {
   "cell_type": "code",
   "execution_count": null,
   "metadata": {},
   "outputs": [],
   "source": [
    "plt.imshow(to_8bit(y_test[gimg]), interpolation='none')\n",
    "plt.show()"
   ]
  },
  {
   "cell_type": "code",
   "execution_count": null,
   "metadata": {},
   "outputs": [],
   "source": [
    "plt.imshow(to_8bit(X_test[gimg][:, :, 0], 1), interpolation='none')\n",
    "plt.show()"
   ]
  },
  {
   "cell_type": "code",
   "execution_count": null,
   "metadata": {},
   "outputs": [],
   "source": []
  }
 ]
}