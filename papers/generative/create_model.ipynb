{
 "metadata": {
  "language_info": {
   "codemirror_mode": {
    "name": "ipython",
    "version": 3
   },
   "file_extension": ".py",
   "mimetype": "text/x-python",
   "name": "python",
   "nbconvert_exporter": "python",
   "pygments_lexer": "ipython3",
   "version": "3.8.3-final"
  },
  "orig_nbformat": 2,
  "kernelspec": {
   "name": "green",
   "display_name": "green",
   "language": "python"
  }
 },
 "nbformat": 4,
 "nbformat_minor": 2,
 "cells": [
  {
   "source": [
    "Create model"
   ],
   "cell_type": "markdown",
   "metadata": {}
  },
  {
   "cell_type": "code",
   "execution_count": 1,
   "metadata": {},
   "outputs": [],
   "source": [
    "yellow_follow = 'C:/Users/caspe/Desktop/yellow/lib/'\n",
    "\n",
    "import sys; sys.path.append(yellow_follow) \n",
    "import sqlite3\n",
    "import pandas as pd\n",
    "import ml_utils\n",
    "import numpy as np\n",
    "import os\n",
    "from sqlalchemy import create_engine\n",
    "import tensorflow as tf\n",
    "import tensorflow_addons as tfa\n",
    "from tensorflow.keras import Model, Input\n",
    "from tensorflow.keras.layers import Dense, BatchNormalization, Dropout, Dropout, Conv2D, MaxPooling2D, GlobalAveragePooling2D, Flatten, Conv3D, MaxPooling3D, Conv2DTranspose\n",
    "from tensorflow.keras.optimizers import Adam\n",
    "from tensorflow.keras.callbacks import EarlyStopping, LearningRateScheduler\n",
    "\n",
    "np.set_printoptions(suppress=True)\n",
    "os.environ['TF_FORCE_GPU_ALLOW_GROWTH'] = 'true'"
   ]
  },
  {
   "cell_type": "code",
   "execution_count": 2,
   "metadata": {},
   "outputs": [],
   "source": [
    "folder = \"C:/Users/caspe/Desktop/Paper_6_Generative/\"\n",
    "\n",
    "# Load data\n",
    "X_train = np.load(folder + \"X_train.npy\").transpose(0, 2, 3, 1)\n",
    "y_train = np.load(folder + \"y_train.npy\")[..., np.newaxis]\n",
    "X_test = np.load(folder + \"X_test.npy\").transpose(0, 2, 3, 1)\n",
    "y_test = np.load(folder + \"y_test.npy\")[..., np.newaxis]"
   ]
  },
  {
   "cell_type": "code",
   "execution_count": 3,
   "metadata": {},
   "outputs": [],
   "source": [
    "def lr_time_based_decay(epoch):\n",
    "    return initial_learning_rate - (epoch * ((initial_learning_rate - end_learning_rate) / epochs))\n",
    "\n",
    "def define_optimizer(learning_rate):\n",
    "    return tfa.optimizers.Lookahead(\n",
    "        Adam(\n",
    "            learning_rate=learning_rate,\n",
    "            name=\"Adam\",\n",
    "        )\n",
    "    )"
   ]
  },
  {
   "cell_type": "code",
   "execution_count": 39,
   "metadata": {},
   "outputs": [],
   "source": [
    "def define_model(shape, name):\n",
    "    drop = 0.2\n",
    "    acti = \"elu\"\n",
    "\n",
    "    model_input = Input(shape=shape, name=name)\n",
    "    model = Conv2D(128, kernel_size=3, padding='same', activation=acti, kernel_initializer='he_uniform')(model_input)\n",
    "    model = BatchNormalization()(model)\n",
    "    model = Conv2D(128, kernel_size=3, padding='same', activation=acti, kernel_initializer='he_uniform')(model_input)\n",
    "    model = BatchNormalization()(model)\n",
    "    model = Dropout(drop)(model)\n",
    "\n",
    "    model = MaxPooling2D(pool_size=(2, 2), padding='same', strides=(2, 2))(model)\n",
    "\n",
    "    model = Conv2D(96, kernel_size=3, padding='same', activation=acti, kernel_initializer='he_uniform')(model)\n",
    "    model = BatchNormalization()(model)\n",
    "    model = Conv2D(96, kernel_size=3, padding='same', activation=acti, kernel_initializer='he_uniform')(model)\n",
    "    model = BatchNormalization()(model)\n",
    "    model = Dropout(drop)(model)\n",
    "\n",
    "    model = Conv2DTranspose(128, kernel_size=3, padding='same', strides=2, activation=acti, kernel_initializer='he_uniform')(model)\n",
    "    model = BatchNormalization()(model)\n",
    "\n",
    "    model = Conv2D(96, kernel_size=3, padding='same', activation=acti, kernel_initializer='he_uniform')(model)\n",
    "    model = BatchNormalization()(model)\n",
    "    model = Conv2D(64, kernel_size=3, padding='same', activation=acti, kernel_initializer='he_uniform')(model)\n",
    "    model = BatchNormalization()(model)\n",
    "    model = Dropout(drop)(model)\n",
    "\n",
    "    output = Conv2D(1, kernel_size=3, padding='same', activation=acti, kernel_initializer='he_uniform')(model)\n",
    "\n",
    "    return Model(inputs=[model_input], outputs=output)"
   ]
  },
  {
   "cell_type": "code",
   "execution_count": 40,
   "metadata": {},
   "outputs": [
    {
     "output_type": "stream",
     "name": "stdout",
     "text": [
      "Model: \"model_6\"\n_________________________________________________________________\nLayer (type)                 Output Shape              Param #   \n=================================================================\nGenerative (InputLayer)      [(None, 16, 16, 6)]       0         \n_________________________________________________________________\nconv2d_35 (Conv2D)           (None, 16, 16, 64)        3520      \n_________________________________________________________________\nbatch_normalization_24 (Batc (None, 16, 16, 64)        256       \n_________________________________________________________________\ndropout (Dropout)            (None, 16, 16, 64)        0         \n_________________________________________________________________\nmax_pooling2d_6 (MaxPooling2 (None, 8, 8, 64)          0         \n_________________________________________________________________\nconv2d_36 (Conv2D)           (None, 8, 8, 96)          55392     \n_________________________________________________________________\nbatch_normalization_25 (Batc (None, 8, 8, 96)          384       \n_________________________________________________________________\nconv2d_37 (Conv2D)           (None, 8, 8, 96)          83040     \n_________________________________________________________________\nbatch_normalization_26 (Batc (None, 8, 8, 96)          384       \n_________________________________________________________________\ndropout_1 (Dropout)          (None, 8, 8, 96)          0         \n_________________________________________________________________\nconv2d_transpose_6 (Conv2DTr (None, 16, 16, 64)        55360     \n_________________________________________________________________\nbatch_normalization_27 (Batc (None, 16, 16, 64)        256       \n_________________________________________________________________\nconv2d_38 (Conv2D)           (None, 16, 16, 64)        36928     \n_________________________________________________________________\nbatch_normalization_28 (Batc (None, 16, 16, 64)        256       \n_________________________________________________________________\nconv2d_39 (Conv2D)           (None, 16, 16, 32)        18464     \n_________________________________________________________________\nbatch_normalization_29 (Batc (None, 16, 16, 32)        128       \n_________________________________________________________________\ndropout_2 (Dropout)          (None, 16, 16, 32)        0         \n_________________________________________________________________\nconv2d_40 (Conv2D)           (None, 16, 16, 1)         289       \n=================================================================\nTotal params: 254,657\nTrainable params: 253,825\nNon-trainable params: 832\n_________________________________________________________________\n"
     ]
    }
   ],
   "source": [
    "model = define_model(X_train.shape[1:], \"Generative\")\n",
    "model.summary()"
   ]
  },
  {
   "cell_type": "code",
   "execution_count": 41,
   "metadata": {},
   "outputs": [
    {
     "output_type": "stream",
     "name": "stdout",
     "text": [
      "Epoch 1/10\n",
      "\n",
      "Epoch 00001: LearningRateScheduler reducing learning rate to 0.01.\n",
      "482/482 [==============================] - 28s 48ms/step - loss: 6.9413 - mse: 2769.5148 - mae: 7.0790 - log_cosh: 6.9413 - val_loss: 6.6261 - val_mse: 2666.8303 - val_mae: 6.6919 - val_log_cosh: 6.6261\n",
      "Epoch 2/10\n",
      "\n",
      "Epoch 00002: LearningRateScheduler reducing learning rate to 0.00901.\n",
      "482/482 [==============================] - 24s 49ms/step - loss: 6.4623 - mse: 2333.7146 - mae: 6.6114 - log_cosh: 6.4623 - val_loss: 6.6816 - val_mse: 2728.8379 - val_mae: 6.8174 - val_log_cosh: 6.6816\n",
      "Epoch 3/10\n",
      "\n",
      "Epoch 00003: LearningRateScheduler reducing learning rate to 0.00802.\n",
      "482/482 [==============================] - 26s 54ms/step - loss: 6.2753 - mse: 2183.7292 - mae: 6.4401 - log_cosh: 6.2753 - val_loss: 5.9905 - val_mse: 2165.7642 - val_mae: 6.1060 - val_log_cosh: 5.9905\n",
      "Epoch 4/10\n",
      "\n",
      "Epoch 00004: LearningRateScheduler reducing learning rate to 0.00703.\n",
      "482/482 [==============================] - 28s 57ms/step - loss: 6.0809 - mse: 2082.2168 - mae: 6.2516 - log_cosh: 6.0809 - val_loss: 6.3812 - val_mse: 2509.9375 - val_mae: 6.4783 - val_log_cosh: 6.3812\n",
      "Epoch 5/10\n",
      "\n",
      "Epoch 00005: LearningRateScheduler reducing learning rate to 0.00604.\n",
      "482/482 [==============================] - 27s 56ms/step - loss: 6.1201 - mse: 2088.8039 - mae: 6.2931 - log_cosh: 6.1201 - val_loss: 5.9452 - val_mse: 2144.8235 - val_mae: 6.0898 - val_log_cosh: 5.9452\n",
      "Epoch 6/10\n",
      "\n",
      "Epoch 00006: LearningRateScheduler reducing learning rate to 0.005050000000000001.\n",
      "482/482 [==============================] - 27s 55ms/step - loss: 6.0715 - mse: 2062.2462 - mae: 6.2523 - log_cosh: 6.0715 - val_loss: 6.0263 - val_mse: 2261.0249 - val_mae: 6.1838 - val_log_cosh: 6.0263\n",
      "Epoch 7/10\n",
      "\n",
      "Epoch 00007: LearningRateScheduler reducing learning rate to 0.00406.\n",
      "482/482 [==============================] - 27s 55ms/step - loss: 5.9719 - mse: 2020.1586 - mae: 6.1359 - log_cosh: 5.9719 - val_loss: 6.3020 - val_mse: 2372.9583 - val_mae: 6.3938 - val_log_cosh: 6.3020\n",
      "Epoch 8/10\n",
      "\n",
      "Epoch 00008: LearningRateScheduler reducing learning rate to 0.00307.\n",
      "482/482 [==============================] - 27s 55ms/step - loss: 5.8693 - mse: 1971.6939 - mae: 6.0191 - log_cosh: 5.8693 - val_loss: 6.7780 - val_mse: 2436.7986 - val_mae: 6.8847 - val_log_cosh: 6.7780\n",
      "Epoch 9/10\n",
      "\n",
      "Epoch 00009: LearningRateScheduler reducing learning rate to 0.0020800000000000003.\n",
      "482/482 [==============================] - 27s 55ms/step - loss: 5.7985 - mse: 1931.7584 - mae: 5.9442 - log_cosh: 5.7985 - val_loss: 5.9794 - val_mse: 2027.2435 - val_mae: 6.0470 - val_log_cosh: 5.9794\n",
      "Epoch 10/10\n",
      "\n",
      "Epoch 00010: LearningRateScheduler reducing learning rate to 0.0010900000000000007.\n",
      "482/482 [==============================] - 24s 50ms/step - loss: 5.7657 - mse: 1920.0749 - mae: 5.9162 - log_cosh: 5.7657 - val_loss: 6.7125 - val_mse: 2347.8174 - val_mae: 6.8332 - val_log_cosh: 6.7125\n"
     ]
    },
    {
     "output_type": "execute_result",
     "data": {
      "text/plain": [
       "<tensorflow.python.keras.callbacks.History at 0x20649816ee0>"
      ]
     },
     "metadata": {},
     "execution_count": 41
    }
   ],
   "source": [
    "epochs = 10\n",
    "initial_learning_rate = 0.001\n",
    "end_learning_rate = 0.00001\n",
    "\n",
    "model.compile(\n",
    "    optimizer=define_optimizer(initial_learning_rate),\n",
    "    loss=\"log_cosh\",\n",
    "    metrics=[\n",
    "        'mse',\n",
    "        'mae',\n",
    "        'log_cosh',\n",
    "    ]\n",
    ")\n",
    "\n",
    "model.fit(\n",
    "    x=X_train,\n",
    "    y=y_train,\n",
    "    epochs=epochs,\n",
    "    verbose=1,\n",
    "    batch_size=256,\n",
    "    validation_split=0.2,\n",
    "    callbacks=[\n",
    "        LearningRateScheduler(lr_time_based_decay, verbose=1),\n",
    "        EarlyStopping(\n",
    "            monitor=\"val_loss\",\n",
    "            patience=9,\n",
    "            min_delta=1,\n",
    "            restore_best_weights=True,\n",
    "        ),\n",
    "    ]\n",
    ")"
   ]
  },
  {
   "cell_type": "code",
   "execution_count": 42,
   "metadata": {},
   "outputs": [
    {
     "output_type": "stream",
     "name": "stdout",
     "text": [
      "2464/2464 [==============================] - 13s 5ms/step - loss: 5.5705 - mse: 1999.6456 - mae: 5.6352 - log_cosh: 5.5705\n",
      "[5.570501327514648, 1999.6456298828125, 5.635154724121094, 5.570501327514648]\n"
     ]
    }
   ],
   "source": [
    "print(model.evaluate(X_test, y_test))"
   ]
  },
  {
   "cell_type": "code",
   "execution_count": null,
   "metadata": {},
   "outputs": [],
   "source": [
    "pred = model.predict(X_test)"
   ]
  },
  {
   "cell_type": "code",
   "execution_count": null,
   "metadata": {},
   "outputs": [],
   "source": [
    "gimg = 2001\n",
    "import matplotlib.pyplot as plt\n",
    "\n",
    "def to_8bit(arr):\n",
    "    red = (arr * 255 / y_test.max()).astype('uint8')\n",
    "    return red[:, :, 0]"
   ]
  },
  {
   "cell_type": "code",
   "execution_count": null,
   "metadata": {},
   "outputs": [],
   "source": [
    "plt.imshow(to_8bit(pred[gimg]), interpolation='none')\n",
    "plt.show()"
   ]
  },
  {
   "cell_type": "code",
   "execution_count": null,
   "metadata": {},
   "outputs": [],
   "source": [
    "plt.imshow(to_8bit(y_test[gimg]), interpolation='none')\n",
    "plt.show()"
   ]
  }
 ]
}