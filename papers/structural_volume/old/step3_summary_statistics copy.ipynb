{
 "metadata": {
  "language_info": {
   "codemirror_mode": {
    "name": "ipython",
    "version": 3
   },
   "file_extension": ".py",
   "mimetype": "text/x-python",
   "name": "python",
   "nbconvert_exporter": "python",
   "pygments_lexer": "ipython3",
   "version": "3.8.3-final"
  },
  "orig_nbformat": 2,
  "kernelspec": {
   "name": "green",
   "display_name": "green",
   "language": "python"
  }
 },
 "nbformat": 4,
 "nbformat_minor": 2,
 "cells": [
  {
   "source": [
    "# Summary Statistics Approach"
   ],
   "cell_type": "markdown",
   "metadata": {}
  },
  {
   "cell_type": "code",
   "execution_count": 11,
   "metadata": {},
   "outputs": [],
   "source": [
    "# Local path, change this.\n",
    "yellow_follow = 'C:/Users/caspe/Desktop/yellow/lib/'\n",
    "\n",
    "import sys; sys.path.append(yellow_follow) \n",
    "import sqlite3\n",
    "import pandas as pd\n",
    "import ml_utils\n",
    "import numpy as np\n",
    "import matplotlib.pyplot as plt\n",
    "\n",
    "from sklearn.model_selection import train_test_split, StratifiedShuffleSplit\n",
    "from sklearn.preprocessing import MinMaxScaler, StandardScaler"
   ]
  },
  {
   "cell_type": "code",
   "execution_count": 12,
   "metadata": {},
   "outputs": [
    {
     "output_type": "execute_result",
     "data": {
      "text/plain": [
       "[PhysicalDevice(name='/physical_device:GPU:0', device_type='GPU')]"
      ]
     },
     "metadata": {},
     "execution_count": 12
    }
   ],
   "source": [
    "# Tensorflow\n",
    "import tensorflow as tf\n",
    "import tensorflow_addons as tfa\n",
    "from tensorflow.keras import Model, Input\n",
    "from tensorflow.keras.layers import Dense, BatchNormalization, Dropout\n",
    "from tensorflow.keras.optimizers import Adam\n",
    "from tensorflow.keras.callbacks import EarlyStopping\n",
    "\n",
    "tf.config.list_physical_devices('GPU')"
   ]
  },
  {
   "source": [
    "# Load data"
   ],
   "cell_type": "markdown",
   "metadata": {}
  },
  {
   "cell_type": "code",
   "execution_count": 13,
   "metadata": {},
   "outputs": [],
   "source": [
    "# Load data\n",
    "folder = \"C:/Users/caspe/Desktop/Paper_2_StructuralVolume/\"\n",
    "in_path = folder + \"grid_train.sqlite\"\n",
    "\n",
    "db_cnx = sqlite3.connect(in_path)\n",
    "df = pd.read_sql_query(\"SELECT * FROM 'grid_train';\", db_cnx)"
   ]
  },
  {
   "cell_type": "code",
   "execution_count": 14,
   "metadata": {},
   "outputs": [],
   "source": [
    "# load test data\n",
    "in_path_test = folder + \"grid_test.sqlite\"\n",
    "db_cnx_test = sqlite3.connect(in_path_test)\n",
    "dft = pd.read_sql_query(\"SELECT * FROM 'grid_test';\", db_cnx_test)\n",
    "y_test = dft['volume']"
   ]
  },
  {
   "cell_type": "code",
   "execution_count": 15,
   "metadata": {},
   "outputs": [],
   "source": [
    "# Easy reference to the different features in the datasets.\n",
    "s2 = [\n",
    "    'b04_mean', 'b04_stdev', 'b04_min', 'b04_max',\n",
    "    'b08_mean', 'b08_stdev', 'b08_min', 'b08_max',\n",
    "    'b04t_mean', 'b04t_stdev', 'b04t_min', 'b04t_max',\n",
    "    'b08t_mean', 'b08t_stdev', 'b08t_min', 'b08t_max',\n",
    "]\n",
    "\n",
    "bs_asc = ['bs_asc_mean', 'bs_asc_stdev', 'bs_asc_min', 'bs_asc_max']\n",
    "bs_desc = ['bs_desc_mean', 'bs_desc_stdev', 'bs_desc_min', 'bs_desc_max']\n",
    "coh_asc = ['coh_asc_mean', 'coh_asc_stdev', 'coh_asc_min', 'coh_asc_max']\n",
    "coh_desc = ['coh_desc_mean', 'coh_desc_stdev', 'coh_desc_min', 'coh_desc_max']\n",
    "\n",
    "nl = ['nl_mean', 'nl_stdev', 'nl_min', 'nl_max']"
   ]
  },
  {
   "cell_type": "code",
   "execution_count": null,
   "metadata": {},
   "outputs": [],
   "source": [
    "test_municipalities = ['Skive', 'Silkborg', 'Aarhus']"
   ]
  },
  {
   "source": [
    "# Balance the datasets (Optional)"
   ],
   "cell_type": "markdown",
   "metadata": {}
  },
  {
   "cell_type": "code",
   "execution_count": null,
   "metadata": {},
   "outputs": [],
   "source": [
    "# Remove outliers\n",
    "y_start = df['volume'].values\n",
    "y_nonzero = y_start[y_start > 0]\n",
    "\n",
    "median = np.median(y_nonzero)\n",
    "madstd = np.median(np.abs(y_nonzero - median)) * 1.4826\n",
    "\n",
    "lower_bound = median - (3 * madstd)\n",
    "upper_bound = median + (3 * madstd)\n",
    "\n",
    "top_diff = len(y_start) - len(y_start[y_start <= upper_bound])\n",
    "low_diff = len(y_start) - len(y_start[y_start >= lower_bound])\n",
    "\n",
    "outlier_mask = (y_start >= lower_bound) & (y_start <= upper_bound)\n",
    "df = df[outlier_mask]"
   ]
  },
  {
   "cell_type": "code",
   "execution_count": null,
   "metadata": {},
   "outputs": [],
   "source": [
    "# Zero mask - keep only 10% of tiles with no buildings\n",
    "ten_percent = df[df['volume'] == 0].sample(int(len(df[df['volume'] != 0]) * 0.10))\n",
    "df_without = df[df['volume'] != 0]\n",
    "df = df_without.append(ten_percent)"
   ]
  },
  {
   "cell_type": "code",
   "execution_count": null,
   "metadata": {},
   "outputs": [],
   "source": [
    "# Create a balance mask, to ensure the classes are balanced\n",
    "q25 = int(df['volume'].quantile(0.25))\n",
    "q50 = int(df['volume'].median())\n",
    "q75 = int(df['volume'].quantile(0.75))\n",
    "labels = [q25, q50, q75]\n",
    "\n",
    "y_class = np.digitize(df['volume'], labels)\n",
    "freq = ml_utils.count_freq(y_class)\n",
    "\n",
    "# Investigate classes\n",
    "freq"
   ]
  },
  {
   "source": [
    "# Define target values"
   ],
   "cell_type": "markdown",
   "metadata": {}
  },
  {
   "cell_type": "code",
   "execution_count": 16,
   "metadata": {},
   "outputs": [],
   "source": [
    "y = df['volume'].values\n",
    "# y = df['people'].values\n",
    "# y = df['area'].values"
   ]
  },
  {
   "source": [
    "# Define the neural network"
   ],
   "cell_type": "markdown",
   "metadata": {}
  },
  {
   "cell_type": "code",
   "execution_count": 17,
   "metadata": {},
   "outputs": [],
   "source": [
    "# Define model\n",
    "def define_model(shape, name):\n",
    "    model_input = Input(shape=shape, name=\"input\")\n",
    "    model = Dense(1024, activation=tfa.activations.mish, kernel_initializer=\"he_normal\")(model_input)\n",
    "    model = Dropout(0.2)(model)\n",
    "    model = BatchNormalization()(model)\n",
    "    model = Dense(256, activation=tfa.activations.mish, kernel_initializer=\"he_normal\")(model)\n",
    "    model = BatchNormalization()(model)\n",
    "    model = Dense(64, activation=tfa.activations.mish, kernel_initializer=\"he_normal\")(model)\n",
    "    model = Dense(16, activation=tfa.activations.mish, kernel_initializer=\"he_normal\")(model)\n",
    "\n",
    "    predictions = Dense(1, activation='relu')(model)\n",
    "\n",
    "    return Model(inputs=[model_input], outputs=predictions)"
   ]
  },
  {
   "cell_type": "code",
   "execution_count": 18,
   "metadata": {},
   "outputs": [],
   "source": [
    "# Define Optimizer\n",
    "def define_optimizer():\n",
    "    return tfa.optimizers.Lookahead(\n",
    "        Adam(\n",
    "            learning_rate=tfa.optimizers.TriangularCyclicalLearningRate(\n",
    "                initial_learning_rate=1e-5,\n",
    "                maximal_learning_rate=1e-2,\n",
    "                step_size=9,\n",
    "                scale_mode='cycle',\n",
    "                name='TriangularCyclicalLearningRate',\n",
    "            ),\n",
    "            name=\"Adam\",\n",
    "        )\n",
    "    )"
   ]
  },
  {
   "source": [
    "# Start analysis"
   ],
   "cell_type": "markdown",
   "metadata": {}
  },
  {
   "cell_type": "code",
   "execution_count": 19,
   "metadata": {},
   "outputs": [],
   "source": [
    "analysis = [\n",
    "    # nl,\n",
    "    # s2,\n",
    "    # bs_asc,\n",
    "    # bs_desc,\n",
    "    # bs_asc + bs_desc, \n",
    "    # bs_asc + coh_asc,\n",
    "    # bs_desc + coh_desc,\n",
    "    # bs_asc + coh_asc + s2,\n",
    "    # bs_asc + coh_asc + bs_desc + coh_desc,\n",
    "    bs_asc + coh_asc + bs_desc + coh_desc + s2,\n",
    "    # bs_asc + coh_asc + bs_desc + coh_desc + s2 + nl,\n",
    "]"
   ]
  },
  {
   "source": [
    "# Testing all combinations (Optional)"
   ],
   "cell_type": "markdown",
   "metadata": {}
  },
  {
   "cell_type": "code",
   "execution_count": null,
   "metadata": {
    "tags": []
   },
   "outputs": [],
   "source": [
    "all_scores = []\n",
    "\n",
    "for a in analysis:\n",
    "    x = df[a].values\n",
    "    X_test = dft[a].values\n",
    "\n",
    "    # Scores for the kfolds\n",
    "    scores = { \"mean_absolute_error\": [], \"median_absolute_error\": [], \"absolute_percentage_error\": [] }\n",
    "    skf = StratifiedShuffleSplit(n_splits=3, test_size=0.1, train_size=0.5, random_state=42)\n",
    "\n",
    "    for train_index, test_index in skf.split(x, y_class):\n",
    "        X_train = x[train_index]\n",
    "        y_train = y[train_index]\n",
    "\n",
    "        shape = X_train.shape[1]\n",
    "        model = define_model(shape, \"input\")\n",
    "\n",
    "        # Compile and test model\n",
    "        model.compile(\n",
    "            optimizer=define_optimizer(),\n",
    "            loss='mean_absolute_error',\n",
    "            metrics=[\n",
    "                \"mean_absolute_error\",\n",
    "                ml_utils.median_error,\n",
    "                ml_utils.abs_percentage,\n",
    "            ])\n",
    "\n",
    "        model.fit(\n",
    "            x=X_train,\n",
    "            y=y_train,\n",
    "            epochs=100,\n",
    "            verbose=1,\n",
    "            batch_size=512,\n",
    "            validation_split=0.1,\n",
    "            callbacks=[\n",
    "                EarlyStopping(\n",
    "                    monitor=\"val_loss\",\n",
    "                    patience=9,\n",
    "                    min_delta=5.0,\n",
    "                    restore_best_weights=True,\n",
    "                ),\n",
    "            ]\n",
    "        )\n",
    "\n",
    "        # Evaluate model\n",
    "        loss, mean_absolute_error, median_absolute_error, absolute_percentage_error = model.evaluate(X_test, y_test, verbose=1)\n",
    "        mean_absolute_error = round(mean_absolute_error, 5)\n",
    "        median_absolute_error = round(median_absolute_error, 5)\n",
    "        absolute_percentage_error = round(absolute_percentage_error * 100, 5)\n",
    "\n",
    "        scores[\"mean_absolute_error\"].append(mean_absolute_error)\n",
    "        scores[\"median_absolute_error\"].append(median_absolute_error)\n",
    "        scores[\"absolute_percentage_error\"].append(absolute_percentage_error)\n",
    "\n",
    "    all_scores.append(scores)"
   ]
  },
  {
   "cell_type": "code",
   "execution_count": null,
   "metadata": {},
   "outputs": [],
   "source": [
    "# Visualise the scores\n",
    "names = [\n",
    "    # 'nl',\n",
    "    # 's2',\n",
    "    # 'bs_asc',\n",
    "    # 'bs_desc',\n",
    "    # 'bs_asc + bs_desc',\n",
    "    # 'bs_asc + coh_asc',\n",
    "    # 'bs_desc + coh_desc',\n",
    "    # 'bs_asc + coh_asc + s2',\n",
    "    # 'bs_asc + coh_asc + bs_desc + coh_desc',\n",
    "    'bs_asc + coh_asc + bs_desc + coh_desc + s2',\n",
    "    # 'bs_asc + coh_asc + bs_desc + coh_desc + s2 + nl',\n",
    "]\n",
    "\n",
    "for i, score in enumerate(all_scores):\n",
    "    mean_err_mean = np.array(score['mean_absolute_error']).mean()\n",
    "    mean_err_std = np.array(score['mean_absolute_error']).std()\n",
    "\n",
    "    median_err_mean = np.array(score['median_absolute_error']).mean()\n",
    "    median_err_std = np.array(score['median_absolute_error']).std()\n",
    "\n",
    "    percentage_err_mean = np.array(score['absolute_percentage_error']).mean()\n",
    "    percentage_err_std = np.array(score['absolute_percentage_error']).std()\n",
    "\n",
    "    print(f\"Test: {names[i]}\")\n",
    "    print(f\"Mean Absolute Error (MAE):          {ml_utils.pad(str(round(mean_err_mean, 3)), 3, 3)} ({pad(str(round(mean_err_std, 3)), 2, 3)} σ)\")\n",
    "    print(f\"Median Absolute Error (MAE):        {ml_utils.pad(str(round(median_err_mean, 3)), 3, 3)} ({pad(str(round(median_err_std, 3)), 2, 3)} σ)\")\n",
    "    print(f\"Absolute Percentage Error (MAPE):   {ml_utils.pad(str(round(percentage_err_mean, 3)), 3, 3)} ({pad(str(round(percentage_err_std, 3)), 2, 3)} σ)\")\n",
    "    print('')"
   ]
  },
  {
   "source": [
    "Test: nl\n",
    "Mean Absolute Error (MAE):          1937.726 (19.739 σ)\n",
    "Median Absolute Error (MAE):        1152.227 (42.230 σ)\n",
    "Absolute Percentage Error (MAPE):   575139033600.000 (326613017813.593 σ)\n",
    "\n",
    "Test: s2\n",
    "Mean Absolute Error (MAE):          1360.342 ( 8.920 σ)\n",
    "Median Absolute Error (MAE):        769.170 (32.236 σ)\n",
    "Absolute Percentage Error (MAPE):    55.539 ( 0.280 σ)\n",
    "\n",
    "Test: bs_asc\n",
    "Mean Absolute Error (MAE):          1750.128 (75.549 σ)\n",
    "Median Absolute Error (MAE):        852.467 (25.647 σ)\n",
    "Absolute Percentage Error (MAPE):    85.540 ( 6.676 σ)\n",
    "\n",
    "Test: bs_asc + coh_asc\n",
    "Mean Absolute Error (MAE):          1569.794 ( 1.177 σ)\n",
    "Median Absolute Error (MAE):        844.630 (22.201 σ)\n",
    "Absolute Percentage Error (MAPE):    77.257 ( 2.631 σ)\n",
    "\n",
    "Test: bs_desc + coh_desc\n",
    "Mean Absolute Error (MAE):          1618.776 (32.459 σ)\n",
    "Median Absolute Error (MAE):        853.437 (40.073 σ)\n",
    "Absolute Percentage Error (MAPE):    76.257 ( 2.651 σ)\n",
    "\n",
    "Test: bs_asc + coh_asc + s2\n",
    "Mean Absolute Error (MAE):          1215.719 ( 3.477 σ)\n",
    "Median Absolute Error (MAE):        675.802 (29.869 σ)\n",
    "Absolute Percentage Error (MAPE):    50.311 ( 0.709 σ)\n",
    "\n",
    "Test: bs_asc + coh_asc + bs_desc + coh_desc\n",
    "Mean Absolute Error (MAE):          1423.093 (44.561 σ)\n",
    "Median Absolute Error (MAE):        753.970 (11.702 σ)\n",
    "Absolute Percentage Error (MAPE):    65.604 ( 0.135 σ)\n",
    "\n",
    "Test: bs_asc + coh_asc + bs_desc + coh_desc + s2\n",
    "Mean Absolute Error (MAE):          1157.710 (10.546 σ)\n",
    "Median Absolute Error (MAE):        607.587 (13.968 σ)\n",
    "Absolute Percentage Error (MAPE):    48.079 ( 1.347 σ)\n",
    "\n",
    "Test: bs_asc + coh_asc + bs_desc + coh_desc + s2\n",
    "Mean Absolute Error (MAE):          1152.406 ( 4.064 σ)\n",
    "Median Absolute Error (MAE):        597.365 (17.253 σ)\n",
    "Absolute Percentage Error (MAPE):    47.521 ( 1.166 σ)\n",
    "\n",
    "Test: bs_asc + coh_asc + bs_desc + coh_desc + s2 + nl\n",
    "Mean Absolute Error (MAE):          1160.467 (11.254 σ)\n",
    "Median Absolute Error (MAE):        635.434 (22.695 σ)\n",
    "Absolute Percentage Error (MAPE):    47.410 ( 0.671 σ)"
   ],
   "cell_type": "markdown",
   "metadata": {}
  },
  {
   "source": [
    "# Evaluate the model on the two training municipalities"
   ],
   "cell_type": "markdown",
   "metadata": {}
  },
  {
   "cell_type": "code",
   "execution_count": 20,
   "metadata": {},
   "outputs": [
    {
     "output_type": "stream",
     "name": "stdout",
     "text": [
      "Epoch 1/100\n",
      "1560/1560 [==============================] - 29s 16ms/step - loss: 980.3842 - mean_absolute_error: 980.3842 - median_error: 0.0211 - abs_percentage: 36138687.4404 - val_loss: 850.4213 - val_mean_absolute_error: 850.4213 - val_median_error: 0.0000e+00 - val_abs_percentage: 0.0000e+00\n",
      "Epoch 2/100\n",
      "1560/1560 [==============================] - 34s 22ms/step - loss: 787.7597 - mean_absolute_error: 787.7597 - median_error: 0.0000e+00 - abs_percentage: 0.0000e+00 - val_loss: 833.6720 - val_mean_absolute_error: 833.6720 - val_median_error: 0.0000e+00 - val_abs_percentage: 0.0000e+00\n",
      "Epoch 3/100\n",
      "1560/1560 [==============================] - 41s 26ms/step - loss: 762.2080 - mean_absolute_error: 762.2080 - median_error: 0.0000e+00 - abs_percentage: 0.0000e+00 - val_loss: 855.3630 - val_mean_absolute_error: 855.3630 - val_median_error: 0.0000e+00 - val_abs_percentage: 0.0000e+00\n",
      "Epoch 4/100\n",
      "1560/1560 [==============================] - 39s 25ms/step - loss: 753.7920 - mean_absolute_error: 753.7920 - median_error: 0.0000e+00 - abs_percentage: 0.0000e+00 - val_loss: 802.2797 - val_mean_absolute_error: 802.2797 - val_median_error: 0.0000e+00 - val_abs_percentage: 0.0000e+00\n",
      "Epoch 5/100\n",
      "1560/1560 [==============================] - 38s 24ms/step - loss: 746.8546 - mean_absolute_error: 746.8546 - median_error: 0.0000e+00 - abs_percentage: 0.0000e+00 - val_loss: 796.0522 - val_mean_absolute_error: 796.0522 - val_median_error: 0.0000e+00 - val_abs_percentage: 0.0000e+00\n",
      "Epoch 6/100\n",
      "1560/1560 [==============================] - 39s 25ms/step - loss: 741.7482 - mean_absolute_error: 741.7482 - median_error: 0.0000e+00 - abs_percentage: 0.0000e+00 - val_loss: 801.0091 - val_mean_absolute_error: 801.0091 - val_median_error: 0.0398 - val_abs_percentage: 2.2035e-05\n",
      "Epoch 7/100\n",
      "1560/1560 [==============================] - 35s 23ms/step - loss: 735.8051 - mean_absolute_error: 735.8051 - median_error: 0.0000e+00 - abs_percentage: 0.0000e+00 - val_loss: 804.4148 - val_mean_absolute_error: 804.4148 - val_median_error: 0.1877 - val_abs_percentage: 3.8344e-05\n",
      "Epoch 8/100\n",
      "1560/1560 [==============================] - 30s 19ms/step - loss: 732.0991 - mean_absolute_error: 732.0991 - median_error: 0.0000e+00 - abs_percentage: 0.0000e+00 - val_loss: 790.9028 - val_mean_absolute_error: 790.9028 - val_median_error: 0.0000e+00 - val_abs_percentage: 0.0000e+00\n",
      "Epoch 9/100\n",
      "1560/1560 [==============================] - 37s 24ms/step - loss: 729.9341 - mean_absolute_error: 729.9341 - median_error: 0.0000e+00 - abs_percentage: 0.0000e+00 - val_loss: 823.7851 - val_mean_absolute_error: 823.7851 - val_median_error: 0.0000e+00 - val_abs_percentage: 0.0000e+00\n",
      "Epoch 10/100\n",
      "1560/1560 [==============================] - 32s 20ms/step - loss: 726.0373 - mean_absolute_error: 726.0373 - median_error: 0.0000e+00 - abs_percentage: 0.0000e+00 - val_loss: 795.0423 - val_mean_absolute_error: 795.0423 - val_median_error: 0.0000e+00 - val_abs_percentage: 0.0000e+00\n",
      "Epoch 11/100\n",
      "1560/1560 [==============================] - 39s 25ms/step - loss: 724.1869 - mean_absolute_error: 724.1869 - median_error: 0.0000e+00 - abs_percentage: 0.0000e+00 - val_loss: 780.4782 - val_mean_absolute_error: 780.4782 - val_median_error: 0.0000e+00 - val_abs_percentage: 0.0000e+00\n",
      "Epoch 12/100\n",
      "1560/1560 [==============================] - 37s 24ms/step - loss: 720.0452 - mean_absolute_error: 720.0452 - median_error: 0.0000e+00 - abs_percentage: 0.0000e+00 - val_loss: 786.1924 - val_mean_absolute_error: 786.1924 - val_median_error: 0.0000e+00 - val_abs_percentage: 0.0000e+00\n",
      "Epoch 13/100\n",
      "1560/1560 [==============================] - 38s 25ms/step - loss: 718.1512 - mean_absolute_error: 718.1512 - median_error: 0.0000e+00 - abs_percentage: 0.0000e+00 - val_loss: 781.4778 - val_mean_absolute_error: 781.4778 - val_median_error: 0.0000e+00 - val_abs_percentage: 0.0000e+00\n",
      "Epoch 14/100\n",
      "1560/1560 [==============================] - 32s 20ms/step - loss: 719.7038 - mean_absolute_error: 719.7038 - median_error: 0.0000e+00 - abs_percentage: 0.0000e+00 - val_loss: 803.9451 - val_mean_absolute_error: 803.9451 - val_median_error: 0.0000e+00 - val_abs_percentage: 0.0000e+00\n",
      "Epoch 15/100\n",
      "1560/1560 [==============================] - 33s 21ms/step - loss: 718.7822 - mean_absolute_error: 718.7822 - median_error: 0.0000e+00 - abs_percentage: 0.0000e+00 - val_loss: 775.6484 - val_mean_absolute_error: 775.6484 - val_median_error: 0.1254 - val_abs_percentage: 8.3404e-05\n",
      "Epoch 16/100\n",
      "1560/1560 [==============================] - 32s 20ms/step - loss: 712.5541 - mean_absolute_error: 712.5541 - median_error: 0.0000e+00 - abs_percentage: 0.0000e+00 - val_loss: 772.2343 - val_mean_absolute_error: 772.2343 - val_median_error: 0.0000e+00 - val_abs_percentage: 0.0000e+00\n",
      "Epoch 17/100\n",
      "1560/1560 [==============================] - 37s 24ms/step - loss: 712.1027 - mean_absolute_error: 712.1027 - median_error: 0.0000e+00 - abs_percentage: 0.0000e+00 - val_loss: 777.2228 - val_mean_absolute_error: 777.2228 - val_median_error: 0.3202 - val_abs_percentage: 1.6550e-04\n",
      "Epoch 18/100\n",
      "1560/1560 [==============================] - 37s 23ms/step - loss: 710.8004 - mean_absolute_error: 710.8004 - median_error: 0.0000e+00 - abs_percentage: 0.0000e+00 - val_loss: 795.1086 - val_mean_absolute_error: 795.1086 - val_median_error: 0.0000e+00 - val_abs_percentage: 0.0000e+00\n",
      "Epoch 19/100\n",
      "1560/1560 [==============================] - 33s 21ms/step - loss: 709.6134 - mean_absolute_error: 709.6134 - median_error: 0.0000e+00 - abs_percentage: 0.0000e+00 - val_loss: 775.5104 - val_mean_absolute_error: 775.5104 - val_median_error: 0.0000e+00 - val_abs_percentage: 0.0000e+00\n",
      "Epoch 20/100\n",
      "1560/1560 [==============================] - 33s 21ms/step - loss: 705.7999 - mean_absolute_error: 705.7999 - median_error: 0.0000e+00 - abs_percentage: 0.0000e+00 - val_loss: 758.8639 - val_mean_absolute_error: 758.8639 - val_median_error: 0.0000e+00 - val_abs_percentage: 0.0000e+00\n",
      "Epoch 21/100\n",
      "1560/1560 [==============================] - 38s 24ms/step - loss: 705.2825 - mean_absolute_error: 705.2825 - median_error: 0.0000e+00 - abs_percentage: 0.0000e+00 - val_loss: 782.9340 - val_mean_absolute_error: 782.9340 - val_median_error: 0.0000e+00 - val_abs_percentage: 0.0000e+00\n",
      "Epoch 22/100\n",
      "1560/1560 [==============================] - 39s 25ms/step - loss: 706.5788 - mean_absolute_error: 706.5788 - median_error: 0.0000e+00 - abs_percentage: 0.0000e+00 - val_loss: 792.3007 - val_mean_absolute_error: 792.3007 - val_median_error: 0.0000e+00 - val_abs_percentage: 0.0000e+00\n",
      "Epoch 23/100\n",
      "1560/1560 [==============================] - 34s 22ms/step - loss: 705.8052 - mean_absolute_error: 705.8052 - median_error: 0.0000e+00 - abs_percentage: 0.0000e+00 - val_loss: 762.6177 - val_mean_absolute_error: 762.6177 - val_median_error: 0.0000e+00 - val_abs_percentage: 0.0000e+00\n",
      "Epoch 24/100\n",
      "1560/1560 [==============================] - 39s 25ms/step - loss: 703.1493 - mean_absolute_error: 703.1493 - median_error: 0.0000e+00 - abs_percentage: 0.0000e+00 - val_loss: 781.1021 - val_mean_absolute_error: 781.1021 - val_median_error: 1.4460 - val_abs_percentage: 6.7222e-04\n",
      "Epoch 25/100\n",
      "1560/1560 [==============================] - 39s 25ms/step - loss: 697.6662 - mean_absolute_error: 697.6662 - median_error: 0.0000e+00 - abs_percentage: 0.0000e+00 - val_loss: 766.9144 - val_mean_absolute_error: 766.9144 - val_median_error: 0.5365 - val_abs_percentage: 2.6199e-04\n",
      "Epoch 26/100\n",
      "1560/1560 [==============================] - 40s 26ms/step - loss: 698.9166 - mean_absolute_error: 698.9166 - median_error: 0.0000e+00 - abs_percentage: 0.0000e+00 - val_loss: 763.4470 - val_mean_absolute_error: 763.4470 - val_median_error: 0.0000e+00 - val_abs_percentage: 0.0000e+00\n",
      "Epoch 27/100\n",
      "1560/1560 [==============================] - 42s 27ms/step - loss: 696.3496 - mean_absolute_error: 696.3496 - median_error: 0.0000e+00 - abs_percentage: 0.0000e+00 - val_loss: 757.2544 - val_mean_absolute_error: 757.2544 - val_median_error: 0.0000e+00 - val_abs_percentage: 0.0000e+00\n",
      "Epoch 28/100\n",
      "1560/1560 [==============================] - 39s 25ms/step - loss: 696.0248 - mean_absolute_error: 696.0248 - median_error: 0.0000e+00 - abs_percentage: 0.0000e+00 - val_loss: 755.1461 - val_mean_absolute_error: 755.1461 - val_median_error: 0.0000e+00 - val_abs_percentage: 0.0000e+00\n",
      "Epoch 29/100\n",
      "1560/1560 [==============================] - 42s 27ms/step - loss: 692.9959 - mean_absolute_error: 692.9959 - median_error: 0.0000e+00 - abs_percentage: 0.0000e+00 - val_loss: 759.5358 - val_mean_absolute_error: 759.5358 - val_median_error: 0.0000e+00 - val_abs_percentage: 0.0000e+00\n",
      "6646/6646 [==============================] - 42s 6ms/step - loss: 1346.1208 - mean_absolute_error: 1346.1208 - median_error: 290.7746 - abs_percentage: 0.0356\n",
      "Mean Absolute Error (MAE):          1346.121\n",
      "Median Absolute Error (MAE):        290.775\n",
      "Absolute Percentage Error (MAPE):     3.564\n"
     ]
    }
   ],
   "source": [
    "xf = df[analysis[0]].values\n",
    "X_test = dft[analysis[0]].values\n",
    "\n",
    "# TRAIN ON ALL DATA\n",
    "shape = xf.shape[1]\n",
    "model = define_model(shape, \"input\")\n",
    "\n",
    "# Compile and test model\n",
    "model.compile(\n",
    "    optimizer=define_optimizer(),\n",
    "    loss='mean_absolute_error',\n",
    "    metrics=[\n",
    "        \"mean_absolute_error\",\n",
    "        ml_utils.median_error,\n",
    "        ml_utils.abs_percentage,\n",
    "    ])\n",
    "\n",
    "model.fit(\n",
    "    x=xf,\n",
    "    y=y,\n",
    "    epochs=100,\n",
    "    verbose=1,\n",
    "    batch_size=1024,\n",
    "    validation_split=0.1,\n",
    "    callbacks=[\n",
    "        EarlyStopping(\n",
    "            monitor=\"val_loss\",\n",
    "            patience=9,\n",
    "            min_delta=5.0,\n",
    "            restore_best_weights=True,\n",
    "        ),\n",
    "    ]\n",
    ")\n",
    "\n",
    "# Evaluate model\n",
    "loss, mean_absolute_error, median_absolute_error, absolute_percentage_error = model.evaluate(X_test, y_test, verbose=1)\n",
    "mean_absolute_error = round(mean_absolute_error, 5)\n",
    "median_absolute_error = round(median_absolute_error, 5)\n",
    "absolute_percentage_error = round(absolute_percentage_error * 100, 5)\n",
    "\n",
    "print(f\"Mean Absolute Error (MAE):          {ml_utils.pad(str(round(mean_absolute_error, 3)), 3, 3)}\")\n",
    "print(f\"Median Absolute Error (MAE):        {ml_utils.pad(str(round(median_absolute_error, 3)), 3, 3)}\")\n",
    "print(f\"Absolute Percentage Error (MAPE):   {ml_utils.pad(str(round(absolute_percentage_error, 3)), 3, 3)}\")"
   ]
  },
  {
   "source": [
    "# Output the model to a new sqlite file."
   ],
   "cell_type": "markdown",
   "metadata": {}
  },
  {
   "cell_type": "code",
   "execution_count": null,
   "metadata": {},
   "outputs": [],
   "source": [
    "from sqlalchemy import create_engine\n",
    "\n",
    "pred = model.predict(X_test)\n",
    "dft['pred_vol'] = pred\n",
    "\n",
    "engine = create_engine('sqlite:///C:/Users/caspe/Desktop/Paper_2_StructuralVolume/grid_test_pred_s1_s2.sqlite', echo=True)\n",
    "sqlite_connection = engine.connect()\n",
    "\n",
    "dft.to_sql('grid_test_pred_s1_s2', sqlite_connection, if_exists='fail')\n",
    "sqlite_connection.close()"
   ]
  },
  {
   "source": [
    "S1 + S2\n",
    "Mean Absolute Error (MAE):          1342.747\n",
    "Median Absolute Error (MAE):        287.852\n",
    "Absolute Percentage Error (MAPE):     3.392\n",
    "\n",
    "S2\n",
    "Mean Absolute Error (MAE):          1676.217\n",
    "Median Absolute Error (MAE):        372.632\n",
    "Absolute Percentage Error (MAPE):     4.936\n",
    "\n",
    "S2 - No textures\n",
    "Mean Absolute Error (MAE):          2350.090\n",
    "Median Absolute Error (MAE):        604.787\n",
    "Absolute Percentage Error (MAPE):     9.112\n",
    "\n",
    "S1 (COH)\n",
    "Mean Absolute Error (MAE):          2024.537\n",
    "Median Absolute Error (MAE):        525.089\n",
    "Absolute Percentage Error (MAPE):     6.573\n",
    "\n",
    "S1\n",
    "Mean Absolute Error (MAE):          2177.647\n",
    "Median Absolute Error (MAE):        589.839\n",
    "Absolute Percentage Error (MAPE):     7.302\n",
    "\n",
    "ASC (COH)\n",
    "Mean Absolute Error (MAE):          2376.465\n",
    "Median Absolute Error (MAE):        642.327\n",
    "Absolute Percentage Error (MAPE):     8.725\n",
    "\n",
    "ASC\n",
    "Mean Absolute Error (MAE):          2588.544\n",
    "Median Absolute Error (MAE):        727.163\n",
    "Absolute Percentage Error (MAPE):     9.234\n",
    "\n",
    "DESC (COH)\n",
    "Mean Absolute Error (MAE):          2459.001\n",
    "Median Absolute Error (MAE):        677.623\n",
    "Absolute Percentage Error (MAPE):     8.805\n",
    "\n",
    "DESC\n",
    "Mean Absolute Error (MAE):          2639.927\n",
    "Median Absolute Error (MAE):        783.926\n",
    "Absolute Percentage Error (MAPE):     9.956"
   ],
   "cell_type": "markdown",
   "metadata": {}
  }
 ]
}