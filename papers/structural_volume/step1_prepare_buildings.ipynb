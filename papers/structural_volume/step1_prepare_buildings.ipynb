{
 "metadata": {
  "language_info": {
   "codemirror_mode": {
    "name": "ipython",
    "version": 3
   },
   "file_extension": ".py",
   "mimetype": "text/x-python",
   "name": "python",
   "nbconvert_exporter": "python",
   "pygments_lexer": "ipython3",
   "version": "3.8.3-final"
  },
  "orig_nbformat": 2,
  "kernelspec": {
   "name": "green",
   "display_name": "green",
   "language": "python"
  }
 },
 "nbformat": 4,
 "nbformat_minor": 2,
 "cells": [
  {
   "source": [
    "## Read sklearn and the yellow toolbox"
   ],
   "cell_type": "markdown",
   "metadata": {}
  },
  {
   "cell_type": "code",
   "execution_count": 1,
   "metadata": {},
   "outputs": [],
   "source": [
    "yellow_follow = 'C:/Users/caspe/Desktop/yellow/lib'\n",
    "\n",
    "import sys; sys.path.append(yellow_follow) \n",
    "import sqlite3\n",
    "import pandas as pd\n",
    "import ml_utils\n",
    "import numpy as np\n",
    "import math\n",
    "\n",
    "from sklearn.model_selection import train_test_split, StratifiedShuffleSplit\n",
    "from sklearn.preprocessing import StandardScaler"
   ]
  },
  {
   "cell_type": "code",
   "execution_count": 2,
   "metadata": {},
   "outputs": [],
   "source": [
    "import tensorflow as tf\n",
    "import tensorflow_addons as tfa\n",
    "from tensorflow.keras import Model, Input\n",
    "from tensorflow.keras.layers import Dense, Dropout, BatchNormalization\n",
    "from tensorflow.keras.optimizers import Adam\n",
    "from tensorflow.keras.callbacks import EarlyStopping, LearningRateScheduler\n",
    "from tensorflow.keras.utils import plot_model\n",
    "from tensorflow.keras.constraints import max_norm"
   ]
  },
  {
   "source": [
    "## Load datasets and scale them"
   ],
   "cell_type": "markdown",
   "metadata": {}
  },
  {
   "cell_type": "code",
   "execution_count": 3,
   "metadata": {},
   "outputs": [],
   "source": [
    "# Local folder\n",
    "folder = \"C:/Users/caspe/Desktop/Paper_2_StructuralVolume/raw/\"\n",
    "\n",
    "in_path = folder + \"buildings.sqlite\"\n",
    "\n",
    "db_cnx = sqlite3.connect(in_path)\n",
    "\n",
    "df = pd.read_sql_query(\"SELECT * FROM 'buildings' WHERE buildings.area_vol_ratio >= 1 AND buildings.vol_sum > 1 ORDER BY RANDOM();\", db_cnx)\n",
    "df['pred_vol'] = np.nan\n",
    "\n",
    "scaler = StandardScaler()\n",
    "cols = ['area', 'perimeter', 'ipq']"
   ]
  },
  {
   "cell_type": "code",
   "execution_count": 4,
   "metadata": {},
   "outputs": [
    {
     "output_type": "execute_result",
     "data": {
      "text/plain": [
       "522.8423209885111"
      ]
     },
     "metadata": {},
     "execution_count": 4
    }
   ],
   "source": [
    "# What is the mean building size?\n",
    "df['vol_sum'].mean()"
   ]
  },
  {
   "cell_type": "code",
   "execution_count": 5,
   "metadata": {},
   "outputs": [
    {
     "output_type": "execute_result",
     "data": {
      "text/plain": [
       "178.02704305648808"
      ]
     },
     "metadata": {},
     "execution_count": 5
    }
   ],
   "source": [
    "# What is the mean building size?\n",
    "df['vol_sum'].median()"
   ]
  },
  {
   "cell_type": "code",
   "execution_count": 6,
   "metadata": {},
   "outputs": [
    {
     "output_type": "stream",
     "name": "stdout",
     "text": [
      "Total out out sync: 125547\nTotal: 1674270\nPercent: 7.5\n"
     ]
    }
   ],
   "source": [
    "# How many are taken out for reevaluation?\n",
    "df_total = pd.read_sql_query(\"SELECT * FROM 'buildings' WHERE buildings.area_vol_ratio < 1 OR buildings.vol_sum <= 1;\", db_cnx)\n",
    "print(f\"Total out out sync: {len(df_total)}\")\n",
    "print(f\"Total: {len(df)}\")\n",
    "print(f\"Percent: {round((len(df_total) / len(df)) * 100, 2)}\")\n",
    "del df_total"
   ]
  },
  {
   "cell_type": "code",
   "execution_count": 7,
   "metadata": {},
   "outputs": [],
   "source": [
    "# Ready the traning data\n",
    "x = df_scaled = scaler.fit_transform(df[cols])\n",
    "y = df[['vol_sum']].values"
   ]
  },
  {
   "cell_type": "code",
   "execution_count": 8,
   "metadata": {},
   "outputs": [],
   "source": [
    "# Create a balance mask, to ensure the classes are balanced\n",
    "labels = [50, 150, 300, 500, 800]\n",
    "truth_labels = np.rot90(np.digitize(y, labels))[0]\n",
    "freq = ml_utils.count_freq(truth_labels)\n",
    "minority = freq.min(axis=0)[1]\n",
    "balance_mask = ml_utils.minority_class_mask(truth_labels, minority)"
   ]
  },
  {
   "source": [
    "## Investigate the classes"
   ],
   "cell_type": "markdown",
   "metadata": {}
  },
  {
   "cell_type": "code",
   "execution_count": 9,
   "metadata": {},
   "outputs": [
    {
     "output_type": "execute_result",
     "data": {
      "text/plain": [
       "array([[     0, 402273],\n",
       "       [     1, 383556],\n",
       "       [     2, 203936],\n",
       "       [     3, 212904],\n",
       "       [     4, 237773],\n",
       "       [     5, 233828]], dtype=int64)"
      ]
     },
     "metadata": {},
     "execution_count": 9
    }
   ],
   "source": [
    "freq"
   ]
  },
  {
   "cell_type": "code",
   "execution_count": 10,
   "metadata": {},
   "outputs": [],
   "source": [
    "X = x[balance_mask]\n",
    "Y = y[balance_mask]\n",
    "Y_class = truth_labels[balance_mask]"
   ]
  },
  {
   "source": [
    "# Deep Learning step"
   ],
   "cell_type": "markdown",
   "metadata": {}
  },
  {
   "cell_type": "code",
   "execution_count": 10,
   "metadata": {},
   "outputs": [],
   "source": [
    "# Define model\n",
    "def define_model(shape, name, maxnorm=4, drop=0.1):\n",
    "    model_input = Input(shape=shape, name=\"input\")\n",
    "    model = Dense(64, activation=tfa.activations.mish, kernel_initializer=\"he_uniform\", kernel_constraint=max_norm(maxnorm), bias_constraint=max_norm(maxnorm))(model_input)\n",
    "    model = Dropout(drop)(model)\n",
    "    model = Dense(32, activation=tfa.activations.mish, kernel_initializer=\"he_uniform\", kernel_constraint=max_norm(maxnorm), bias_constraint=max_norm(maxnorm))(model)\n",
    "    model = Dropout(drop)(model)\n",
    "    model = Dense(16, activation=tfa.activations.mish, kernel_initializer=\"he_uniform\", kernel_constraint=max_norm(maxnorm), bias_constraint=max_norm(maxnorm))(model)\n",
    "    model = Dropout(drop)(model)\n",
    "    model = Dense(8, activation=tfa.activations.mish, kernel_initializer=\"he_uniform\", kernel_constraint=max_norm(maxnorm), bias_constraint=max_norm(maxnorm))(model)\n",
    "\n",
    "    predictions = Dense(1, activation=\"relu\", dtype=\"float32\")(model)\n",
    "\n",
    "    return Model(inputs=[model_input], outputs=predictions)"
   ]
  },
  {
   "cell_type": "code",
   "execution_count": 11,
   "metadata": {},
   "outputs": [],
   "source": [
    "lr = 0.01\n",
    "bs = 1024\n",
    "epochs = 50\n",
    "\n",
    "def step_decay(epoch):\n",
    "    initial_lrate = lr\n",
    "    drop = 0.5\n",
    "    epochs_drop = 3\n",
    "    lrate = initial_lrate * math.pow(drop, math.floor((1 + epoch) / epochs_drop))\n",
    "    return lrate"
   ]
  },
  {
   "cell_type": "code",
   "execution_count": 12,
   "metadata": {
    "tags": []
   },
   "outputs": [
    {
     "output_type": "stream",
     "name": "stdout",
     "text": [
      "Epoch 1/50\n",
      "655/655 [==============================] - 29s 35ms/step - loss: 228.2878 - mean_absolute_error: 228.9725 - mean_absolute_percentage_error: 84.2177 - median_absolute_error: 68.8696 - median_absolute_percentage_error: 42.3163 - val_loss: 143.8360 - val_mean_absolute_error: 144.5126 - val_mean_absolute_percentage_error: 28.4007 - val_median_absolute_error: 26.7714 - val_median_absolute_percentage_error: 19.9145\n",
      "Epoch 2/50\n",
      "655/655 [==============================] - 21s 32ms/step - loss: 138.5474 - mean_absolute_error: 139.2263 - mean_absolute_percentage_error: 32.2886 - median_absolute_error: 32.1870 - median_absolute_percentage_error: 21.8229 - val_loss: 134.9921 - val_mean_absolute_error: 135.6694 - val_mean_absolute_percentage_error: 28.9777 - val_median_absolute_error: 26.3492 - val_median_absolute_percentage_error: 19.1885\n",
      "Epoch 3/50\n",
      "655/655 [==============================] - 21s 33ms/step - loss: 137.5141 - mean_absolute_error: 138.1915 - mean_absolute_percentage_error: 30.8959 - median_absolute_error: 31.2780 - median_absolute_percentage_error: 20.9971 - val_loss: 151.4375 - val_mean_absolute_error: 152.1102 - val_mean_absolute_percentage_error: 26.8524 - val_median_absolute_error: 29.3581 - val_median_absolute_percentage_error: 20.4628\n",
      "Epoch 4/50\n",
      "655/655 [==============================] - 22s 33ms/step - loss: 137.2862 - mean_absolute_error: 137.9641 - mean_absolute_percentage_error: 31.2772 - median_absolute_error: 31.0066 - median_absolute_percentage_error: 20.9654 - val_loss: 144.3248 - val_mean_absolute_error: 144.9949 - val_mean_absolute_percentage_error: 25.5964 - val_median_absolute_error: 28.1884 - val_median_absolute_percentage_error: 19.2591\n",
      "Epoch 5/50\n",
      "655/655 [==============================] - 22s 34ms/step - loss: 136.1849 - mean_absolute_error: 136.8623 - mean_absolute_percentage_error: 30.6717 - median_absolute_error: 30.8636 - median_absolute_percentage_error: 20.5648 - val_loss: 132.8628 - val_mean_absolute_error: 133.5385 - val_mean_absolute_percentage_error: 27.6579 - val_median_absolute_error: 29.3971 - val_median_absolute_percentage_error: 18.9227\n",
      "Epoch 6/50\n",
      "655/655 [==============================] - 23s 35ms/step - loss: 133.1681 - mean_absolute_error: 133.8451 - mean_absolute_percentage_error: 30.5229 - median_absolute_error: 30.6377 - median_absolute_percentage_error: 20.3915 - val_loss: 140.7849 - val_mean_absolute_error: 141.4569 - val_mean_absolute_percentage_error: 26.4336 - val_median_absolute_error: 28.2692 - val_median_absolute_percentage_error: 19.0305\n",
      "Epoch 7/50\n",
      "655/655 [==============================] - 22s 33ms/step - loss: 134.0636 - mean_absolute_error: 134.7405 - mean_absolute_percentage_error: 30.1240 - median_absolute_error: 30.5839 - median_absolute_percentage_error: 20.2030 - val_loss: 140.4758 - val_mean_absolute_error: 141.1463 - val_mean_absolute_percentage_error: 25.6953 - val_median_absolute_error: 28.5413 - val_median_absolute_percentage_error: 19.2519\n",
      "Epoch 8/50\n",
      "655/655 [==============================] - 22s 33ms/step - loss: 133.5725 - mean_absolute_error: 134.2496 - mean_absolute_percentage_error: 29.8872 - median_absolute_error: 30.5489 - median_absolute_percentage_error: 20.3050 - val_loss: 140.2581 - val_mean_absolute_error: 140.9291 - val_mean_absolute_percentage_error: 25.7149 - val_median_absolute_error: 29.1830 - val_median_absolute_percentage_error: 19.4636\n",
      "Epoch 9/50\n",
      "655/655 [==============================] - 23s 35ms/step - loss: 134.9357 - mean_absolute_error: 135.6122 - mean_absolute_percentage_error: 29.6300 - median_absolute_error: 30.5096 - median_absolute_percentage_error: 20.0469 - val_loss: 138.6501 - val_mean_absolute_error: 139.3200 - val_mean_absolute_percentage_error: 25.0142 - val_median_absolute_error: 27.9888 - val_median_absolute_percentage_error: 18.8175\n",
      "Epoch 10/50\n",
      "655/655 [==============================] - 23s 35ms/step - loss: 135.0822 - mean_absolute_error: 135.7587 - mean_absolute_percentage_error: 29.5878 - median_absolute_error: 30.6527 - median_absolute_percentage_error: 20.0519 - val_loss: 147.5711 - val_mean_absolute_error: 148.2417 - val_mean_absolute_percentage_error: 25.9605 - val_median_absolute_error: 29.5902 - val_median_absolute_percentage_error: 19.5272\n",
      "Epoch 11/50\n",
      "655/655 [==============================] - 22s 34ms/step - loss: 134.4213 - mean_absolute_error: 135.0979 - mean_absolute_percentage_error: 29.4855 - median_absolute_error: 30.6280 - median_absolute_percentage_error: 20.0883 - val_loss: 146.8638 - val_mean_absolute_error: 147.5350 - val_mean_absolute_percentage_error: 26.4329 - val_median_absolute_error: 29.5760 - val_median_absolute_percentage_error: 19.6189\n",
      "Epoch 12/50\n",
      "655/655 [==============================] - 22s 33ms/step - loss: 133.9028 - mean_absolute_error: 134.5793 - mean_absolute_percentage_error: 29.4447 - median_absolute_error: 30.3257 - median_absolute_percentage_error: 19.9701 - val_loss: 142.5048 - val_mean_absolute_error: 143.1752 - val_mean_absolute_percentage_error: 25.9087 - val_median_absolute_error: 28.8274 - val_median_absolute_percentage_error: 19.1835\n",
      "Epoch 13/50\n",
      "655/655 [==============================] - 22s 34ms/step - loss: 134.2806 - mean_absolute_error: 134.9571 - mean_absolute_percentage_error: 29.5169 - median_absolute_error: 30.4318 - median_absolute_percentage_error: 20.0220 - val_loss: 143.0031 - val_mean_absolute_error: 143.6731 - val_mean_absolute_percentage_error: 25.5994 - val_median_absolute_error: 28.6118 - val_median_absolute_percentage_error: 19.0646\n",
      "Epoch 14/50\n",
      "655/655 [==============================] - 23s 35ms/step - loss: 136.4031 - mean_absolute_error: 137.0795 - mean_absolute_percentage_error: 29.4911 - median_absolute_error: 30.3945 - median_absolute_percentage_error: 20.0433 - val_loss: 144.4480 - val_mean_absolute_error: 145.1185 - val_mean_absolute_percentage_error: 25.5498 - val_median_absolute_error: 28.7399 - val_median_absolute_percentage_error: 19.1986\n",
      "5233/5233 [==============================] - 78s 15ms/step - loss: 133.0615 - mean_absolute_error: 133.7371 - mean_absolute_percentage_error: 27.8428 - median_absolute_error: 29.2994 - median_absolute_percentage_error: 18.5714\n"
     ]
    }
   ],
   "source": [
    "# Scores for the kfolds\n",
    "scores =  {\n",
    "    \"mean_absolute_error\": [],\n",
    "    \"mean_absolute_percentage_error\": [],\n",
    "    \"median_absolute_error\": [],\n",
    "    \"median_absolute_percentage_error\": [],\n",
    "}\n",
    "\n",
    "skf = StratifiedShuffleSplit(n_splits=1, test_size=0.1, train_size=0.5, random_state=42)\n",
    "\n",
    "for train_index, test_index in skf.split(x, truth_labels):\n",
    "    X_train, X_test = x[train_index], x[test_index]\n",
    "    y_train, y_test = y[train_index], y[test_index]\n",
    "\n",
    "    shape = X_train.shape[1]\n",
    "    model = define_model(shape, \"input\")\n",
    "\n",
    "    # Compile and test model\n",
    "    model.compile(\n",
    "        optimizer=Adam(\n",
    "            learning_rate=lr,\n",
    "            name=\"Adam\",\n",
    "        ),\n",
    "        loss='log_cosh',\n",
    "        metrics=[\n",
    "            \"mean_absolute_error\",\n",
    "            \"mean_absolute_percentage_error\",\n",
    "            ml_utils.median_absolute_error,\n",
    "            ml_utils.median_absolute_percentage_error,\n",
    "        ])\n",
    "\n",
    "    model.fit(\n",
    "        x=X_train,\n",
    "        y=y_train,\n",
    "        epochs=epochs,\n",
    "        verbose=1,\n",
    "        batch_size=bs,\n",
    "        validation_split=0.2,\n",
    "        callbacks=[\n",
    "            LearningRateScheduler(step_decay),\n",
    "            EarlyStopping(\n",
    "                monitor=\"val_loss\",\n",
    "                patience=9,\n",
    "                min_delta=1.0,\n",
    "                restore_best_weights=True,\n",
    "            ),\n",
    "        ]\n",
    "    )\n",
    "\n",
    "    # Evaluate model\n",
    "    loss, mean_absolute_error, mean_absolute_percentage_error, median_absolute_error, median_absolute_percentage_error = model.evaluate(X_test, y_test, verbose=1)\n",
    "\n",
    "    scores[\"mean_absolute_error\"].append(mean_absolute_error)\n",
    "    scores[\"mean_absolute_percentage_error\"].append(mean_absolute_percentage_error)\n",
    "    scores[\"median_absolute_error\"].append(median_absolute_error)\n",
    "    scores[\"median_absolute_percentage_error\"].append(median_absolute_percentage_error)"
   ]
  },
  {
   "cell_type": "code",
   "execution_count": 13,
   "metadata": {},
   "outputs": [
    {
     "output_type": "execute_result",
     "data": {
      "image/png": "[encoded data removed]",
      "text/plain": [
       "<IPython.core.display.Image object>"
      ]
     },
     "metadata": {},
     "execution_count": 13
    }
   ],
   "source": [
    "plot_model(model, to_file=\"./buildings_model_02.png\", show_shapes=True, show_dtype=False, show_layer_names=False)"
   ]
  },
  {
   "cell_type": "code",
   "execution_count": 14,
   "metadata": {},
   "outputs": [
    {
     "output_type": "stream",
     "name": "stdout",
     "text": [
      "    Combined Score:\n    Mean Absolute Error (MAE):                 133.737 (    0.000 stdev)\n    Mean Absolute Percentage Error (MAPE):      27.843 (    0.000 stdev)\n    Median Absolute Error (MeAE):               29.299 (    0.000 stdev)\n    Median Absolute Percentage Error (MAPE):    18.571 (    0.000 stdev)\n\n"
     ]
    }
   ],
   "source": [
    "# scores\n",
    "mae_mean = np.array(scores['mean_absolute_error']).mean()\n",
    "mae_std = np.array(scores['mean_absolute_error']).std()\n",
    "\n",
    "mape_mean = np.array(scores['mean_absolute_percentage_error']).mean()\n",
    "mape_std = np.array(scores['mean_absolute_percentage_error']).std()\n",
    "\n",
    "meae_mean = np.array(scores['median_absolute_error']).mean()\n",
    "meae_std = np.array(scores['median_absolute_error']).std()\n",
    "\n",
    "meape_mean = np.array(scores['median_absolute_percentage_error']).mean()\n",
    "meapee_std = np.array(scores['median_absolute_percentage_error']).std()\n",
    "\n",
    "\n",
    "print(f\"    Combined Score:\")\n",
    "print(f\"    Mean Absolute Error (MAE):               {ml_utils.pad(str(round(mae_mean, 3)), 5, 3)} ({ml_utils.pad(str(round(mae_std, 3)), 5, 3)} stdev)\")\n",
    "print(f\"    Mean Absolute Percentage Error (MAPE):   {ml_utils.pad(str(round(mape_mean, 3)), 5, 3)} ({ml_utils.pad(str(round(mape_std, 3)), 5, 3)} stdev)\")\n",
    "print(f\"    Median Absolute Error (MeAE):            {ml_utils.pad(str(round(meae_mean, 3)), 5, 3)} ({ml_utils.pad(str(round(meae_std, 3)), 5, 3)} stdev)\")\n",
    "print(f\"    Median Absolute Percentage Error (MAPE): {ml_utils.pad(str(round(meape_mean, 3)), 5, 3)} ({ml_utils.pad(str(round(meapee_std, 3)), 5, 3)} stdev)\")\n",
    "print(\"\")"
   ]
  },
  {
   "cell_type": "code",
   "execution_count": null,
   "metadata": {},
   "outputs": [],
   "source": [
    "    # Combined Score:\n",
    "    # Mean Absolute Error (MAE):                 128.722 (    1.369 stdev)\n",
    "    # Mean Absolute Percentage Error (MAPE):      25.092 (    0.368 stdev)\n",
    "    # Median Absolute Error (MeAE):               29.269 (    0.618 stdev)\n",
    "    # Median Absolute Percentage Error (MAPE):    17.772 (    0.111 stdev)\n",
    "\n",
    "    # Combined Score:\n",
    "    # Mean Absolute Error (MAE):                 127.673 (    0.000 stdev)\n",
    "    # Mean Absolute Percentage Error (MAPE):      26.473 (    0.000 stdev)\n",
    "    # Median Absolute Error (MeAE):               30.227 (    0.000 stdev)\n",
    "    # Median Absolute Percentage Error (MAPE):    18.060 (    0.000 stdev)"
   ]
  },
  {
   "cell_type": "code",
   "execution_count": null,
   "metadata": {},
   "outputs": [],
   "source": [
    "# Run model on whole set\n",
    "X_train, X_test, y_train, y_test = train_test_split(X, Y, test_size=0.2, stratify=Y_class)\n",
    "\n",
    "shape = X_train.shape[1]\n",
    "model = define_model(shape, \"input\")\n",
    "\n",
    "# Compile and test model\n",
    "model.compile(\n",
    "    optimizer=define_optimizer(),\n",
    "    loss='mean_absolute_error',\n",
    "    metrics=[\n",
    "        \"mean_absolute_error\",\n",
    "        \"mean_absolute_percentage_error\",\n",
    "        ml_utils.median_absolute_error,\n",
    "        ml_utils.median_absolute_percentage_error,\n",
    "    ])\n",
    "\n",
    "model.fit(\n",
    "    x=X_train,\n",
    "    y=y_train,\n",
    "    epochs=100,\n",
    "    verbose=1,\n",
    "    batch_size=1024,\n",
    "    validation_split=0.2,\n",
    "    callbacks=[\n",
    "        EarlyStopping(\n",
    "            monitor=\"val_loss\",\n",
    "            patience=9,\n",
    "            min_delta=1.0,\n",
    "            restore_best_weights=True,\n",
    "        ),\n",
    "    ]\n",
    ")"
   ]
  },
  {
   "cell_type": "code",
   "execution_count": null,
   "metadata": {},
   "outputs": [],
   "source": [
    "# Evaluate model\n",
    "loss, mean_absolute_error, mean_absolute_percentage_error, median_absolute_error, median_absolute_percentage_error = model.evaluate(X_test, y_test, verbose=1)\n",
    "print(\"Test accuracy:\")\n",
    "\n",
    "print(f\"Mean Absolute Error (MAE):                 {ml_utils.pad(str(round(mean_absolute_error, 3)), 3, 3)}\")\n",
    "print(f\"Mean Absolute Percentage Error (MAPE):     {ml_utils.pad(str(round(mean_absolute_percentage_error, 3)), 3, 3)}\")\n",
    "print(f\"Median Absolute Error (MAE):               {ml_utils.pad(str(round(median_absolute_error, 3)), 3, 3)}\")\n",
    "print(f\"Median Absolute Percentage Error (MeAPE):  {ml_utils.pad(str(round(median_absolute_percentage_error, 3)), 3, 3)}\")"
   ]
  },
  {
   "source": [
    "Test accuracy:\n",
    "Mean Absolute Error (MAE):                 153.878\n",
    "Mean Absolute Percentage Error (MAPE):      24.493\n",
    "Median Absolute Error (MAE):                44.903\n",
    "Median Absolute Percentage Error (MeAPE):   17.986"
   ],
   "cell_type": "markdown",
   "metadata": {}
  },
  {
   "cell_type": "code",
   "execution_count": null,
   "metadata": {},
   "outputs": [],
   "source": [
    "# Lets add it back to the original data and visually inspect the results\n",
    "df = pd.read_sql_query(\"SELECT * FROM 'buildings' ORDER BY RANDOM();\", db_cnx)\n",
    "\n",
    "scaler = StandardScaler()\n",
    "cols = ['area', 'perimeter', 'ipq']\n",
    "\n",
    "x = df_scaled = scaler.fit_transform(df[cols])\n",
    "\n",
    "pred = model.predict(x)"
   ]
  },
  {
   "cell_type": "code",
   "execution_count": null,
   "metadata": {},
   "outputs": [],
   "source": [
    "# Add the predictions back to the list\n",
    "df['pred_vol'] = pred\n",
    "df['abs_p_err'] = (abs(df['vol_sum'] - df['pred_vol'])) / df['vol_sum']\n",
    "\n",
    "# The original volume if it works, otherwise the infered volume.\n",
    "df['use_vol'] = df['vol_sum']\n",
    "df.loc[(df['area_vol_ratio'] < 1) | (df['vol_sum'] < 1), 'use_vol'] = df['pred_vol']"
   ]
  },
  {
   "cell_type": "code",
   "execution_count": null,
   "metadata": {},
   "outputs": [],
   "source": [
    "# Set the error to -1 when it's an infered value\n",
    "df.loc[(df['area_vol_ratio'] < 1) | (df['vol_sum'] < 1), 'abs_p_err'] = -1"
   ]
  },
  {
   "cell_type": "code",
   "execution_count": null,
   "metadata": {},
   "outputs": [],
   "source": [
    "from sqlalchemy import create_engine\n",
    "\n",
    "engine = create_engine('sqlite:///C:/Users/caspe/Desktop/Paper_2_StructuralVolume/buildings/buildings_pred.sqlite', echo=True)\n",
    "sqlite_connection = engine.connect()\n",
    "\n",
    "df.to_sql('buildings_pred', sqlite_connection, if_exists='fail')\n",
    "sqlite_connection.close()"
   ]
  }
 ]
}