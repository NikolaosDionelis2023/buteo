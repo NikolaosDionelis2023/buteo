{
 "metadata": {
  "language_info": {
   "codemirror_mode": {
    "name": "ipython",
    "version": 3
   },
   "file_extension": ".py",
   "mimetype": "text/x-python",
   "name": "python",
   "nbconvert_exporter": "python",
   "pygments_lexer": "ipython3",
   "version": "3.8.3-final"
  },
  "orig_nbformat": 2,
  "kernelspec": {
   "name": "green",
   "display_name": "green",
   "language": "python"
  }
 },
 "nbformat": 4,
 "nbformat_minor": 2,
 "cells": [
  {
   "cell_type": "code",
   "execution_count": 2,
   "metadata": {},
   "outputs": [],
   "source": [
    "import sys; sys.path.append('c:/Users/caspe/desktop/yellow/lib')\n",
    "from lib.raster_io import raster_to_array, array_to_raster\n",
    "from lib.stats_filters import mad_std_filter, scale_to_range_filter, truncate_filter\n",
    "\n",
    "project_folder = 'C:/Users/caspe/Desktop/Paper_2_StructuralVolume/imagery_unscaled/'"
   ]
  },
  {
   "cell_type": "code",
   "execution_count": null,
   "metadata": {},
   "outputs": [],
   "source": [
    "# Calculate the variance textures\n",
    "in_files = ['b04.tif', 'b08.tif']\n",
    "\n",
    "for f in in_files:\n",
    "  ref_path = project_folder + f\n",
    "  ref = raster_to_array(ref_path)\n",
    "  filtered = mad_std_filter(ref, 5)\n",
    "  array_to_raster(filtered, project_folder + f.split('.')[0] + '_madstd5.tif', ref_path)"
   ]
  },
  {
   "cell_type": "code",
   "execution_count": null,
   "metadata": {},
   "outputs": [],
   "source": [
    "# Scale all of the inputs\n",
    "array_to_raster(\n",
    "    scale_to_range_filter(\n",
    "        truncate_filter(\n",
    "            raster_to_array(project_folder + \"b04.tif\"),\n",
    "        0, 4000),\n",
    "    0, 1).astype('float32'),\n",
    "    project_folder + \"b04_scaled.tif\",\n",
    "    project_folder + \"b04.tif\"\n",
    ")\n",
    "\n",
    "array_to_raster(\n",
    "    scale_to_range_filter(\n",
    "        truncate_filter(\n",
    "            raster_to_array(project_folder + \"b04_madstd5.tif\"),\n",
    "        0, 1200),\n",
    "    0, 1).astype('float32'),\n",
    "    project_folder + \"b04_madstd5_scaled.tif\",\n",
    "    project_folder + \"b04_madstd5.tif\"\n",
    ")\n",
    "\n",
    "\n",
    "array_to_raster(\n",
    "    scale_to_range_filter(\n",
    "        truncate_filter(\n",
    "            raster_to_array(project_folder + \"b08.tif\"),\n",
    "        0, 5500),\n",
    "    0, 1).astype('float32'),\n",
    "    project_folder + \"b08_scaled.tif\",\n",
    "    project_folder + \"b08.tif\"\n",
    ")\n",
    "\n",
    "array_to_raster(\n",
    "    scale_to_range_filter(\n",
    "        truncate_filter(\n",
    "            raster_to_array(project_folder + \"b08_madstd5.tif\"),\n",
    "        0, 1650),\n",
    "    0, 1).astype('float32'),\n",
    "    project_folder + \"b08_madstd5_scaled.tif\",\n",
    "    project_folder + \"b08_madstd5.tif\"\n",
    ")\n",
    "\n",
    "array_to_raster(\n",
    "    scale_to_range_filter(\n",
    "        truncate_filter(\n",
    "            raster_to_array(project_folder + \"bs_asc.tif\"),\n",
    "        0, 50),\n",
    "    0, 1).astype('float32'),\n",
    "    project_folder + \"bs_asc_scaled.tif\",\n",
    "    project_folder + \"bs_asc.tif\"\n",
    ")\n",
    "\n",
    "array_to_raster(\n",
    "    scale_to_range_filter(\n",
    "        truncate_filter(\n",
    "            raster_to_array(project_folder + \"bs_desc.tif\"),\n",
    "        0, 50),\n",
    "    0, 1).astype('float32'),\n",
    "    project_folder + \"bs_desc_scaled.tif\",\n",
    "    project_folder + \"bs_desc.tif\"\n",
    ")\n",
    "\n",
    "array_to_raster(\n",
    "    scale_to_range_filter(\n",
    "        truncate_filter(\n",
    "            raster_to_array(project_folder + \"nightlights.tif\"),\n",
    "        0, 50),\n",
    "    0, 1).astype('float32'),\n",
    "    project_folder + \"nightlights_scaled.tif\",\n",
    "    project_folder + \"nightlights.tif\"\n",
    ")\n"
   ]
  },
  {
   "cell_type": "code",
   "execution_count": 3,
   "metadata": {},
   "outputs": [
    {
     "output_type": "execute_result",
     "data": {
      "text/plain": [
       "'C:\\\\Users\\\\caspe\\\\Desktop\\\\Paper_2_StructuralVolume\\\\imagery_unscaled\\\\b03_scaled.tif'"
      ]
     },
     "metadata": {},
     "execution_count": 3
    }
   ],
   "source": [
    "array_to_raster(\n",
    "    scale_to_range_filter(\n",
    "        truncate_filter(\n",
    "            raster_to_array(project_folder + \"b02.tif\"),\n",
    "        0, 2750),\n",
    "    0, 1).astype('float32'),\n",
    "    project_folder + \"b02_scaled.tif\",\n",
    "    project_folder + \"b02.tif\"\n",
    ")\n",
    "\n",
    "array_to_raster(\n",
    "    scale_to_range_filter(\n",
    "        truncate_filter(\n",
    "            raster_to_array(project_folder + \"b03.tif\"),\n",
    "        0, 3500),\n",
    "    0, 1).astype('float32'),\n",
    "    project_folder + \"b03_scaled.tif\",\n",
    "    project_folder + \"b03.tif\"\n",
    ")"
   ]
  },
  {
   "cell_type": "code",
   "execution_count": null,
   "metadata": {},
   "outputs": [],
   "source": []
  }
 ]
}