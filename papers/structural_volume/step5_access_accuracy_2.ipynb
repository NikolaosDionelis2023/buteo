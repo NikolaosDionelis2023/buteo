{
 "metadata": {
  "language_info": {
   "codemirror_mode": {
    "name": "ipython",
    "version": 3
   },
   "file_extension": ".py",
   "mimetype": "text/x-python",
   "name": "python",
   "nbconvert_exporter": "python",
   "pygments_lexer": "ipython3",
   "version": "3.8.3-final"
  },
  "orig_nbformat": 2,
  "kernelspec": {
   "name": "python3",
   "display_name": "Python 3",
   "language": "python"
  }
 },
 "nbformat": 4,
 "nbformat_minor": 2,
 "cells": [
  {
   "source": [
    "# Access quality summary statistics approach"
   ],
   "cell_type": "markdown",
   "metadata": {}
  },
  {
   "cell_type": "code",
   "execution_count": null,
   "metadata": {},
   "outputs": [],
   "source": [
    "# Local path, change this.\n",
    "yellow = 'C:/Users/caspe/Desktop/yellow/'\n",
    "yellow_lib = yellow + \"lib/\"\n",
    "\n",
    "import sys; sys.path.append(yellow_lib) \n",
    "import sqlite3\n",
    "import pandas as pd\n",
    "import numpy as np\n",
    "import ml_utils\n",
    "from os import path\n",
    "from glob import glob\n",
    "import re\n",
    "import sys\n",
    "from sklearn.metrics import r2_score, median_absolute_error, mean_absolute_error, mean_squared_error\n",
    "from math import sqrt\n",
    "from sqlalchemy import create_engine"
   ]
  },
  {
   "cell_type": "code",
   "execution_count": null,
   "metadata": {},
   "outputs": [],
   "source": [
    "def get_tablename(db_connection):\n",
    "    query = \"SELECT name FROM sqlite_master WHERE type IN ('table') AND name NOT LIKE 'sqlite_%' ORDER BY 1;\"\n",
    "    table_name = pd.read_sql_query(query, db_connection)\n",
    "    return table_name.values[0][0]\n",
    "\n",
    "def clean_cols(df):\n",
    "    replace_map = {}\n",
    "    for col in df.columns:\n",
    "        replace_map[col] = re.sub(\"\\ |\\,|\\)|\\(|\\(|\\'\", \"\", col)\n",
    "    return df.rename(columns=replace_map)"
   ]
  },
  {
   "cell_type": "code",
   "execution_count": null,
   "metadata": {},
   "outputs": [],
   "source": [
    "folder = \"C:/Users/caspe/Desktop/Paper_2_StructuralVolume/results_people/\"\n",
    "munis = [665, 740, 751]\n",
    "target = \"people\""
   ]
  },
  {
   "cell_type": "code",
   "execution_count": null,
   "metadata": {},
   "outputs": [],
   "source": [
    "dfs = []\n",
    "\n",
    "for muni in munis:\n",
    "    results = glob(folder + f'*{str(muni)}.sqlite')\n",
    "\n",
    "    base_file = results[0]\n",
    "\n",
    "    base_db_cnx = sqlite3.connect(base_file)\n",
    "    table_name = get_tablename(base_db_cnx)\n",
    "    base_df = pd.read_sql_query(f\"SELECT * FROM '{table_name}';\", base_db_cnx)\n",
    "    base_df = clean_cols(base_df)\n",
    "    base_df = base_df[[\"index\", \"fid\", \"people\", \"area\", \"volume\", \"muni_code\", \"muni_name\"]]\n",
    "\n",
    "    for result in results:\n",
    "        filename = os.path.splitext(os.path.basename(result))[0]\n",
    "        db_cnx = sqlite3.connect(result)\n",
    "        table_name = get_tablename(db_cnx)\n",
    "        df = pd.read_sql_query(f\"SELECT * FROM '{table_name}';\", db_cnx)\n",
    "        df = clean_cols(df)\n",
    "\n",
    "        layers = \"_\".join(filename.split(\"_\")[1:-1])\n",
    "        \n",
    "        base_df[f\"{target}_{layers}\"] = df[df.columns[-1]]\n",
    "\n",
    "    dfs.append(base_df)"
   ]
  },
  {
   "cell_type": "code",
   "execution_count": null,
   "metadata": {},
   "outputs": [],
   "source": [
    "cols = dfs[0].columns\n",
    "vals = np.concatenate(dfs)\n",
    "merged = pd.DataFrame(vals, columns=cols)"
   ]
  },
  {
   "cell_type": "code",
   "execution_count": null,
   "metadata": {},
   "outputs": [],
   "source": [
    "save_folder = \"C:/Users/caspe/Desktop/Paper_2_StructuralVolume/\"\n",
    "\n",
    "engine = create_engine(f\"sqlite:///{save_folder}results_ss_people.sqlite\", echo=True)\n",
    "sqlite_connection = engine.connect()\n",
    "\n",
    "merged.to_sql(\"results_ss_people\", sqlite_connection, if_exists='fail')\n",
    "sqlite_connection.close()"
   ]
  },
  {
   "cell_type": "code",
   "execution_count": null,
   "metadata": {},
   "outputs": [],
   "source": [
    "volume = save_folder + \"results_ss_volume.sqlite\"\n",
    "area = save_folder + \"results_ss_area.sqlite\"\n",
    "people = save_folder + \"results_ss_people.sqlite\"\n",
    "\n",
    "vol_cnx = sqlite3.connect(volume)\n",
    "vol_table_name = get_tablename(vol_cnx)\n",
    "vol_db = pd.read_sql_query(f\"SELECT * FROM '{vol_table_name}';\", vol_cnx)\n",
    "\n",
    "area_cnx = sqlite3.connect(area)\n",
    "area_table_name = get_tablename(area_cnx)\n",
    "area_db = pd.read_sql_query(f\"SELECT * FROM '{area_table_name}';\", area_cnx)\n",
    "\n",
    "people_cnx = sqlite3.connect(people)\n",
    "people_table_name = get_tablename(people_cnx)\n",
    "people_db = pd.read_sql_query(f\"SELECT * FROM '{people_table_name}';\", people_cnx)"
   ]
  },
  {
   "cell_type": "code",
   "execution_count": null,
   "metadata": {},
   "outputs": [],
   "source": [
    "join_targets = pd.concat([vol_db, area_db[area_db.columns[8:]], people_db[people_db.columns[8:]]], axis=1)\n",
    "join_targets.columns"
   ]
  },
  {
   "cell_type": "code",
   "execution_count": null,
   "metadata": {},
   "outputs": [],
   "source": [
    "join_targets = pd.concat([vol_db, area_db[area_db.columns[8:]], people_db[people_db.columns[8:]]], axis=1)\n",
    "\n",
    "engine = create_engine(f\"sqlite:///{save_folder}results_ss4.sqlite\", echo=True)\n",
    "sqlite_connection = engine.connect()\n",
    "\n",
    "join_targets.to_sql(\"results_ss\", sqlite_connection, if_exists='fail', index=False)\n",
    "sqlite_connection.close()"
   ]
  },
  {
   "cell_type": "code",
   "execution_count": null,
   "metadata": {},
   "outputs": [],
   "source": []
  }
 ]
}