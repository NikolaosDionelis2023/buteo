{
 "metadata": {
  "language_info": {
   "codemirror_mode": {
    "name": "ipython",
    "version": 3
   },
   "file_extension": ".py",
   "mimetype": "text/x-python",
   "name": "python",
   "nbconvert_exporter": "python",
   "pygments_lexer": "ipython3",
   "version": "3.8.3-final"
  },
  "orig_nbformat": 2,
  "kernelspec": {
   "name": "python3",
   "display_name": "Python 3",
   "language": "python"
  }
 },
 "nbformat": 4,
 "nbformat_minor": 2,
 "cells": [
  {
   "source": [
    "## Read sklearn and the yellow toolbox"
   ],
   "cell_type": "markdown",
   "metadata": {}
  },
  {
   "cell_type": "code",
   "execution_count": 47,
   "metadata": {},
   "outputs": [],
   "source": [
    "yellow_follow = 'C:/Users/caspe/Desktop/yellow/lib'\n",
    "# Local path, change this.\n",
    "import sys; sys.path.append(yellow_follow) \n",
    "import sqlite3\n",
    "import pandas as pd\n",
    "import ml_utils\n",
    "import numpy as np\n",
    "from math import floor\n",
    "import matplotlib.pyplot as plt\n",
    "\n",
    "from sklearn.model_selection import train_test_split\n",
    "from sklearn.preprocessing import MinMaxScaler"
   ]
  },
  {
   "source": [
    "## Read tensorflow"
   ],
   "cell_type": "markdown",
   "metadata": {}
  },
  {
   "cell_type": "code",
   "execution_count": 129,
   "metadata": {},
   "outputs": [],
   "source": [
    "import tensorflow as tf\n",
    "import tensorflow_addons as tfa\n",
    "import tensorflow_probability as tfp\n",
    "from tensorflow.keras import Model\n",
    "from tensorflow.keras.layers import Dense\n",
    "from tensorflow.keras.optimizers import Adam\n",
    "from tensorflow.keras.callbacks import EarlyStopping"
   ]
  },
  {
   "source": [
    "## Load datasets and scale them"
   ],
   "cell_type": "markdown",
   "metadata": {}
  },
  {
   "cell_type": "code",
   "execution_count": 140,
   "metadata": {},
   "outputs": [],
   "source": [
    "# Local folder\n",
    "folder = \"C:/Users/caspe/Desktop/paper2_revised/buildings_sync/\"\n",
    "\n",
    "in_path = folder + \"buildings.sqlite\"\n",
    "\n",
    "db_cnx = sqlite3.connect(in_path)\n",
    "\n",
    "df = pd.read_sql_query(\"SELECT * FROM 'buildings' WHERE buildings.area_vol_ratio >= 1 AND buildings.vol_sum > 1 ORDER BY RANDOM();\", db_cnx)\n",
    "\n",
    "scaler = MinMaxScaler()\n",
    "cols = ['area', 'perimeter']\n",
    "\n",
    "df_scaled = scaler.fit_transform(df[cols])"
   ]
  },
  {
   "cell_type": "code",
   "execution_count": 141,
   "metadata": {},
   "outputs": [],
   "source": [
    "# Ready the traning data\n",
    "x = pd.DataFrame(df_scaled, columns=cols).values\n",
    "y = df[['vol_sum']].values"
   ]
  },
  {
   "cell_type": "code",
   "execution_count": 142,
   "metadata": {},
   "outputs": [],
   "source": [
    "# Create a balance mask, to ensure the classes are balanced\n",
    "\n",
    "labels = [50, 150, 300, 500, 800]\n",
    "truth_labels = np.rot90(np.digitize(y, labels))[0]\n",
    "freq = ml_utils.count_freq(truth_labels)\n",
    "minority = freq.min(axis=0)[1]\n",
    "balance_mask = ml_utils.minority_class_mask(truth_labels, minority)"
   ]
  },
  {
   "source": [
    "## Investigate the classes"
   ],
   "cell_type": "markdown",
   "metadata": {}
  },
  {
   "cell_type": "code",
   "execution_count": 101,
   "metadata": {},
   "outputs": [
    {
     "output_type": "execute_result",
     "data": {
      "text/plain": [
       "array([[     0, 402273],\n",
       "       [     1, 383556],\n",
       "       [     2, 203936],\n",
       "       [     3, 212904],\n",
       "       [     4, 237773],\n",
       "       [     5, 233828]], dtype=int64)"
      ]
     },
     "metadata": {},
     "execution_count": 101
    }
   ],
   "source": [
    "freq"
   ]
  },
  {
   "cell_type": "code",
   "execution_count": 143,
   "metadata": {},
   "outputs": [],
   "source": [
    "X = x[balance_mask]\n",
    "Y = y[balance_mask]\n",
    "\n",
    "X_train, X_test, y_train, y_test = train_test_split(X, Y, test_size=0.33, random_state=42)\n",
    "\n",
    "n_features = X.shape[1]"
   ]
  },
  {
   "source": [
    "# Deep Learning step"
   ],
   "cell_type": "markdown",
   "metadata": {}
  },
  {
   "cell_type": "code",
   "execution_count": 144,
   "metadata": {},
   "outputs": [],
   "source": [
    "# Define model\n",
    "model_input = Input(shape=X.shape[1], name=\"input\")\n",
    "model = Dense(80, activation=tfa.activations.mish, kernel_initializer=\"he_normal\")(model_input)\n",
    "model = Dense(40, activation=tfa.activations.mish, kernel_initializer=\"he_normal\")(model)\n",
    "model = Dense(10, activation=tfa.activations.mish, kernel_initializer=\"he_normal\")(model)\n",
    "model = Dense(8, activation=tfa.activations.mish, kernel_initializer=\"he_normal\")(model)\n",
    "\n",
    "predictions = Dense(1, activation=\"relu\", dtype=\"float32\")(model)\n",
    "\n",
    "model = Model(inputs=[model_input], outputs=predictions)"
   ]
  },
  {
   "cell_type": "code",
   "execution_count": 145,
   "metadata": {},
   "outputs": [],
   "source": [
    "# Define Optimizer\n",
    "optimizer = tfa.optimizers.Lookahead(\n",
    "    Adam(\n",
    "        learning_rate=tfa.optimizers.TriangularCyclicalLearningRate(\n",
    "            initial_learning_rate=1e-4,\n",
    "            maximal_learning_rate=1e-2,\n",
    "            step_size=6,\n",
    "            scale_mode='cycle',\n",
    "            name='TriangularCyclicalLearningRate',\n",
    "        ),\n",
    "        name=\"Adam\",\n",
    "    )\n",
    ")"
   ]
  },
  {
   "cell_type": "code",
   "execution_count": 146,
   "metadata": {},
   "outputs": [],
   "source": [
    "# Metrics for testing model accuracy\n",
    "def median_error(y_actual, y_pred):\n",
    "    return tfp.stats.percentile(tf.math.abs(y_actual - y_pred), 50.0)\n",
    "\n",
    "def abs_percentage(y_actual, y_pred):\n",
    "    return tfp.stats.percentile(\n",
    "        tf.divide(\n",
    "            tf.abs(tf.subtract(y_actual, y_pred)), (y_actual + 1e-10)\n",
    "        )\n",
    "    , 50.0)"
   ]
  },
  {
   "cell_type": "code",
   "execution_count": 147,
   "metadata": {
    "tags": []
   },
   "outputs": [
    {
     "output_type": "stream",
     "name": "stdout",
     "text": [
      "Epoch 1/100\n",
      "561/561 [==============================] - 4s 4ms/step - loss: 481.1626 - mean_absolute_error: 481.1626 - median_error: 209.1404 - abs_percentage: 0.7163 - val_loss: 202.5256 - val_mean_absolute_error: 202.5256 - val_median_error: 54.2253 - val_abs_percentage: 0.2354\n",
      "Epoch 2/100\n",
      "561/561 [==============================] - 2s 3ms/step - loss: 193.0682 - mean_absolute_error: 193.0682 - median_error: 54.9748 - abs_percentage: 0.2337 - val_loss: 187.3073 - val_mean_absolute_error: 187.3073 - val_median_error: 62.8580 - val_abs_percentage: 0.2792\n",
      "Epoch 3/100\n",
      "561/561 [==============================] - 2s 3ms/step - loss: 175.8496 - mean_absolute_error: 175.8496 - median_error: 52.0494 - abs_percentage: 0.2276 - val_loss: 170.1254 - val_mean_absolute_error: 170.1254 - val_median_error: 47.6344 - val_abs_percentage: 0.2023\n",
      "Epoch 4/100\n",
      "561/561 [==============================] - 2s 3ms/step - loss: 165.2245 - mean_absolute_error: 165.2245 - median_error: 48.5593 - abs_percentage: 0.2138 - val_loss: 164.0111 - val_mean_absolute_error: 164.0111 - val_median_error: 48.9325 - val_abs_percentage: 0.2057\n",
      "Epoch 5/100\n",
      "561/561 [==============================] - 2s 3ms/step - loss: 161.0879 - mean_absolute_error: 161.0879 - median_error: 47.5122 - abs_percentage: 0.2119 - val_loss: 163.2942 - val_mean_absolute_error: 163.2942 - val_median_error: 45.0641 - val_abs_percentage: 0.1922\n",
      "Epoch 6/100\n",
      "561/561 [==============================] - 2s 3ms/step - loss: 160.4087 - mean_absolute_error: 160.4087 - median_error: 47.3072 - abs_percentage: 0.2092 - val_loss: 162.7218 - val_mean_absolute_error: 162.7218 - val_median_error: 47.6745 - val_abs_percentage: 0.2142\n",
      "Epoch 7/100\n",
      "561/561 [==============================] - 2s 3ms/step - loss: 159.4696 - mean_absolute_error: 159.4696 - median_error: 47.2102 - abs_percentage: 0.2103 - val_loss: 162.7054 - val_mean_absolute_error: 162.7054 - val_median_error: 48.5439 - val_abs_percentage: 0.2200\n",
      "Epoch 8/100\n",
      "561/561 [==============================] - 2s 3ms/step - loss: 159.9492 - mean_absolute_error: 159.9492 - median_error: 47.0968 - abs_percentage: 0.2083 - val_loss: 162.3427 - val_mean_absolute_error: 162.3427 - val_median_error: 47.5416 - val_abs_percentage: 0.2100\n",
      "Epoch 9/100\n",
      "561/561 [==============================] - 2s 3ms/step - loss: 159.0257 - mean_absolute_error: 159.0257 - median_error: 47.3563 - abs_percentage: 0.2072 - val_loss: 165.2975 - val_mean_absolute_error: 165.2975 - val_median_error: 45.0639 - val_abs_percentage: 0.2268\n",
      "Epoch 10/100\n",
      "561/561 [==============================] - 2s 3ms/step - loss: 159.0206 - mean_absolute_error: 159.0206 - median_error: 46.9084 - abs_percentage: 0.2068 - val_loss: 162.1888 - val_mean_absolute_error: 162.1888 - val_median_error: 45.1708 - val_abs_percentage: 0.1898\n",
      "Epoch 11/100\n",
      "561/561 [==============================] - 2s 3ms/step - loss: 159.1422 - mean_absolute_error: 159.1422 - median_error: 46.7048 - abs_percentage: 0.2064 - val_loss: 162.3434 - val_mean_absolute_error: 162.3434 - val_median_error: 44.9933 - val_abs_percentage: 0.1891\n",
      "Epoch 12/100\n",
      "561/561 [==============================] - 2s 3ms/step - loss: 157.1307 - mean_absolute_error: 157.1307 - median_error: 47.5536 - abs_percentage: 0.2131 - val_loss: 161.7301 - val_mean_absolute_error: 161.7301 - val_median_error: 45.2870 - val_abs_percentage: 0.1923\n",
      "Epoch 13/100\n",
      "561/561 [==============================] - 2s 3ms/step - loss: 159.4964 - mean_absolute_error: 159.4964 - median_error: 47.2944 - abs_percentage: 0.2078 - val_loss: 162.8636 - val_mean_absolute_error: 162.8636 - val_median_error: 50.5766 - val_abs_percentage: 0.2231\n",
      "Epoch 14/100\n",
      "561/561 [==============================] - 2s 3ms/step - loss: 159.8516 - mean_absolute_error: 159.8516 - median_error: 47.0141 - abs_percentage: 0.2064 - val_loss: 164.4511 - val_mean_absolute_error: 164.4511 - val_median_error: 53.4598 - val_abs_percentage: 0.2492\n",
      "Epoch 15/100\n",
      "561/561 [==============================] - 2s 3ms/step - loss: 158.7014 - mean_absolute_error: 158.7014 - median_error: 47.0427 - abs_percentage: 0.2091 - val_loss: 161.3217 - val_mean_absolute_error: 161.3217 - val_median_error: 44.8447 - val_abs_percentage: 0.1881\n",
      "Epoch 16/100\n",
      "561/561 [==============================] - 2s 3ms/step - loss: 158.1244 - mean_absolute_error: 158.1244 - median_error: 46.4980 - abs_percentage: 0.2016 - val_loss: 163.5904 - val_mean_absolute_error: 163.5904 - val_median_error: 42.1001 - val_abs_percentage: 0.1890\n",
      "Epoch 17/100\n",
      "561/561 [==============================] - 2s 3ms/step - loss: 158.0707 - mean_absolute_error: 158.0707 - median_error: 46.5866 - abs_percentage: 0.1985 - val_loss: 163.1289 - val_mean_absolute_error: 163.1289 - val_median_error: 52.5692 - val_abs_percentage: 0.2339\n",
      "Epoch 18/100\n",
      "561/561 [==============================] - 2s 3ms/step - loss: 158.4387 - mean_absolute_error: 158.4387 - median_error: 46.7718 - abs_percentage: 0.1984 - val_loss: 164.2731 - val_mean_absolute_error: 164.2731 - val_median_error: 54.8654 - val_abs_percentage: 0.2445\n",
      "Epoch 19/100\n",
      "561/561 [==============================] - 2s 3ms/step - loss: 158.3580 - mean_absolute_error: 158.3580 - median_error: 47.5928 - abs_percentage: 0.2046 - val_loss: 160.8312 - val_mean_absolute_error: 160.8312 - val_median_error: 45.4324 - val_abs_percentage: 0.1860\n",
      "Epoch 20/100\n",
      "561/561 [==============================] - 2s 3ms/step - loss: 156.9906 - mean_absolute_error: 156.9906 - median_error: 47.5352 - abs_percentage: 0.2000 - val_loss: 160.9837 - val_mean_absolute_error: 160.9837 - val_median_error: 49.2429 - val_abs_percentage: 0.2032\n",
      "Epoch 21/100\n",
      "561/561 [==============================] - 2s 3ms/step - loss: 156.5093 - mean_absolute_error: 156.5093 - median_error: 46.9613 - abs_percentage: 0.1967 - val_loss: 164.8882 - val_mean_absolute_error: 164.8882 - val_median_error: 44.2023 - val_abs_percentage: 0.2098\n",
      "Epoch 22/100\n",
      "561/561 [==============================] - 2s 3ms/step - loss: 159.3934 - mean_absolute_error: 159.3934 - median_error: 47.5787 - abs_percentage: 0.2024 - val_loss: 160.5965 - val_mean_absolute_error: 160.5965 - val_median_error: 47.3056 - val_abs_percentage: 0.1923\n",
      "Epoch 23/100\n",
      "561/561 [==============================] - 2s 3ms/step - loss: 158.6734 - mean_absolute_error: 158.6734 - median_error: 47.0079 - abs_percentage: 0.1959 - val_loss: 160.5952 - val_mean_absolute_error: 160.5952 - val_median_error: 46.4719 - val_abs_percentage: 0.1887\n",
      "Epoch 24/100\n",
      "561/561 [==============================] - 2s 3ms/step - loss: 159.2549 - mean_absolute_error: 159.2549 - median_error: 47.3651 - abs_percentage: 0.1993 - val_loss: 160.5438 - val_mean_absolute_error: 160.5438 - val_median_error: 47.1767 - val_abs_percentage: 0.1895\n",
      "Epoch 25/100\n",
      "561/561 [==============================] - 2s 3ms/step - loss: 158.7280 - mean_absolute_error: 158.7280 - median_error: 47.2513 - abs_percentage: 0.1962 - val_loss: 162.1431 - val_mean_absolute_error: 162.1431 - val_median_error: 52.4910 - val_abs_percentage: 0.2220\n",
      "Epoch 26/100\n",
      "561/561 [==============================] - 2s 3ms/step - loss: 157.3229 - mean_absolute_error: 157.3229 - median_error: 47.3446 - abs_percentage: 0.1969 - val_loss: 160.6450 - val_mean_absolute_error: 160.6450 - val_median_error: 45.1724 - val_abs_percentage: 0.2041\n",
      "Epoch 27/100\n",
      "561/561 [==============================] - 2s 3ms/step - loss: 157.4400 - mean_absolute_error: 157.4400 - median_error: 47.5157 - abs_percentage: 0.2006 - val_loss: 160.8822 - val_mean_absolute_error: 160.8822 - val_median_error: 48.1737 - val_abs_percentage: 0.2063\n"
     ]
    },
    {
     "output_type": "execute_result",
     "data": {
      "text/plain": [
       "<tensorflow.python.keras.callbacks.History at 0x23defe9c850>"
      ]
     },
     "metadata": {},
     "execution_count": 147
    }
   ],
   "source": [
    "# Compile and fit model\n",
    "model.compile(\n",
    "    optimizer=optimizer,\n",
    "    loss='mean_absolute_error',\n",
    "    metrics=[\n",
    "        \"mean_absolute_error\",\n",
    "        median_error,\n",
    "        abs_percentage,\n",
    "    ])\n",
    "\n",
    "model.fit(\n",
    "    x=X_train,\n",
    "    y=y_train,\n",
    "    epochs=100,\n",
    "    verbose=1,\n",
    "    batch_size=1024,\n",
    "    validation_split=0.3,\n",
    "    callbacks=[\n",
    "        EarlyStopping(\n",
    "            monitor=\"val_loss\",\n",
    "            patience=12,\n",
    "            min_delta=1.0,\n",
    "            restore_best_weights=True,\n",
    "        ),\n",
    "    ]\n",
    ")"
   ]
  },
  {
   "cell_type": "code",
   "execution_count": 139,
   "metadata": {},
   "outputs": [
    {
     "output_type": "stream",
     "name": "stdout",
     "text": [
      "12619/12619 [==============================] - 8s 654us/step - loss: 157.3372 - mean_absolute_error: 157.3372 - median_error: 43.9274 - abs_percentage: 0.1839\n",
      "Test accuracy:\n",
      "Mean Absolute Error (MAE): 157.33722\n",
      "Median Absolute Error (MAE): 43.92735\n",
      "Absolute Percentage Error (MAPE): 0.18393\n"
     ]
    }
   ],
   "source": [
    "# Evaluate model\n",
    "loss, mean_absolute_error, median_absolute_error, absolute_percentage_error = model.evaluate(X_test, y_test, verbose=1)\n",
    "\n",
    "print(\"Test accuracy:\")\n",
    "print(f\"Mean Absolute Error (MAE): {str(round(mean_absolute_error, 5))}\")\n",
    "print(f\"Median Absolute Error (MAE): {str(round(median_absolute_error, 5))}\")\n",
    "print(f\"Absolute Percentage Error (MAPE): {str(round(absolute_percentage_error, 5))}\")\n"
   ]
  },
  {
   "cell_type": "code",
   "execution_count": 148,
   "metadata": {},
   "outputs": [
    {
     "output_type": "stream",
     "name": "stdout",
     "text": [
      "12619/12619 [==============================] - 8s 661us/step - loss: 157.5904 - mean_absolute_error: 157.5904 - median_error: 44.0406 - abs_percentage: 0.1828\n",
      "Test accuracy:\n",
      "Mean Absolute Error (MAE): 157.59041\n",
      "Median Absolute Error (MAE): 44.04065\n",
      "Absolute Percentage Error (MAPE): 0.18279\n"
     ]
    }
   ],
   "source": [
    "# Evaluate model\n",
    "loss, mean_absolute_error, median_absolute_error, absolute_percentage_error = model.evaluate(X_test, y_test, verbose=1)\n",
    "\n",
    "print(\"Test accuracy:\")\n",
    "print(f\"Mean Absolute Error (MAE): {str(round(mean_absolute_error, 5))}\")\n",
    "print(f\"Median Absolute Error (MAE): {str(round(median_absolute_error, 5))}\")\n",
    "print(f\"Absolute Percentage Error (MAPE): {str(round(absolute_percentage_error, 5))}\")"
   ]
  },
  {
   "cell_type": "code",
   "execution_count": null,
   "metadata": {},
   "outputs": [],
   "source": []
  }
 ]
}