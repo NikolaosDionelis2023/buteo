{
 "metadata": {
  "language_info": {
   "codemirror_mode": {
    "name": "ipython",
    "version": 3
   },
   "file_extension": ".py",
   "mimetype": "text/x-python",
   "name": "python",
   "nbconvert_exporter": "python",
   "pygments_lexer": "ipython3",
   "version": "3.8.3-final"
  },
  "orig_nbformat": 2,
  "kernelspec": {
   "name": "green",
   "display_name": "green",
   "language": "python"
  }
 },
 "nbformat": 4,
 "nbformat_minor": 2,
 "cells": [
  {
   "cell_type": "code",
   "execution_count": 7,
   "metadata": {},
   "outputs": [
    {
     "output_type": "error",
     "ename": "ModuleNotFoundError",
     "evalue": "No module named 'lib.stats_local'",
     "traceback": [
      "\u001b[1;31m---------------------------------------------------------------------------\u001b[0m",
      "\u001b[1;31mModuleNotFoundError\u001b[0m                       Traceback (most recent call last)",
      "\u001b[1;32m<ipython-input-7-21980f95c2cc>\u001b[0m in \u001b[0;36m<module>\u001b[1;34m\u001b[0m\n\u001b[0;32m      1\u001b[0m \u001b[1;32mimport\u001b[0m \u001b[0msys\u001b[0m\u001b[1;33m;\u001b[0m \u001b[0msys\u001b[0m\u001b[1;33m.\u001b[0m\u001b[0mpath\u001b[0m\u001b[1;33m.\u001b[0m\u001b[0mappend\u001b[0m\u001b[1;33m(\u001b[0m\u001b[1;34m'c:/Users/caspe/desktop/yellow'\u001b[0m\u001b[1;33m)\u001b[0m\u001b[1;33m\u001b[0m\u001b[1;33m\u001b[0m\u001b[0m\n\u001b[0;32m      2\u001b[0m \u001b[1;32mfrom\u001b[0m \u001b[0mlib\u001b[0m\u001b[1;33m.\u001b[0m\u001b[0mraster_io\u001b[0m \u001b[1;32mimport\u001b[0m \u001b[0mraster_to_array\u001b[0m\u001b[1;33m,\u001b[0m \u001b[0marray_to_raster\u001b[0m\u001b[1;33m\u001b[0m\u001b[1;33m\u001b[0m\u001b[0m\n\u001b[1;32m----> 3\u001b[1;33m \u001b[1;32mfrom\u001b[0m \u001b[0mlib\u001b[0m\u001b[1;33m.\u001b[0m\u001b[0mstats_filters\u001b[0m \u001b[1;32mimport\u001b[0m \u001b[0mmad_std_filter\u001b[0m\u001b[1;33m,\u001b[0m \u001b[0mscale_to_range_filter\u001b[0m\u001b[1;33m,\u001b[0m \u001b[0mtruncate_filter\u001b[0m\u001b[1;33m\u001b[0m\u001b[1;33m\u001b[0m\u001b[0m\n\u001b[0m\u001b[0;32m      4\u001b[0m \u001b[1;33m\u001b[0m\u001b[0m\n\u001b[0;32m      5\u001b[0m \u001b[0mproject_folder\u001b[0m \u001b[1;33m=\u001b[0m \u001b[1;34m'C:/Users/caspe/Desktop/Paper_2_StructuralVolume/imagery/'\u001b[0m\u001b[1;33m\u001b[0m\u001b[1;33m\u001b[0m\u001b[0m\n",
      "\u001b[1;32mc:/Users/caspe/desktop/yellow\\lib\\stats_filters.py\u001b[0m in \u001b[0;36m<module>\u001b[1;34m\u001b[0m\n\u001b[0;32m      2\u001b[0m \u001b[1;32mimport\u001b[0m \u001b[0msys\u001b[0m\u001b[1;33m;\u001b[0m \u001b[0msys\u001b[0m\u001b[1;33m.\u001b[0m\u001b[0mpath\u001b[0m\u001b[1;33m.\u001b[0m\u001b[0mappend\u001b[0m\u001b[1;33m(\u001b[0m\u001b[1;34m'c:/Users/caspe/desktop/yellow'\u001b[0m\u001b[1;33m)\u001b[0m\u001b[1;33m\u001b[0m\u001b[1;33m\u001b[0m\u001b[0m\n\u001b[0;32m      3\u001b[0m \u001b[1;32mimport\u001b[0m \u001b[0mscipy\u001b[0m\u001b[1;33m.\u001b[0m\u001b[0msignal\u001b[0m\u001b[1;33m\u001b[0m\u001b[1;33m\u001b[0m\u001b[0m\n\u001b[1;32m----> 4\u001b[1;33m \u001b[1;32mfrom\u001b[0m \u001b[0mlib\u001b[0m\u001b[1;33m.\u001b[0m\u001b[0mstats_local\u001b[0m \u001b[1;32mimport\u001b[0m \u001b[0mkernel_filter\u001b[0m\u001b[1;33m,\u001b[0m \u001b[0mmode_array\u001b[0m\u001b[1;33m,\u001b[0m \u001b[0mfeather_s2_array\u001b[0m\u001b[1;33m\u001b[0m\u001b[1;33m\u001b[0m\u001b[0m\n\u001b[0m\u001b[0;32m      5\u001b[0m from lib.stats_local_no_kernel import (\n\u001b[0;32m      6\u001b[0m     \u001b[0mtruncate_array\u001b[0m\u001b[1;33m,\u001b[0m\u001b[1;33m\u001b[0m\u001b[1;33m\u001b[0m\u001b[0m\n",
      "\u001b[1;31mModuleNotFoundError\u001b[0m: No module named 'lib.stats_local'"
     ]
    }
   ],
   "source": [
    "import sys; sys.path.append('c:/Users/caspe/desktop/yellow')\n",
    "from lib.raster_io import raster_to_array, array_to_raster\n",
    "from lib.stats_filters import mad_std_filter, scale_to_range_filter, truncate_filter\n",
    "\n",
    "project_folder = 'C:/Users/caspe/Desktop/Paper_2_StructuralVolume/imagery/'"
   ]
  },
  {
   "cell_type": "code",
   "execution_count": null,
   "metadata": {},
   "outputs": [],
   "source": [
    "# Calculate the variance textures\n",
    "in_files = ['b04.tif', 'b08.tif']\n",
    "\n",
    "for f in in_files:\n",
    "  ref_path = project_folder + f\n",
    "  ref = raster_to_array(ref_path)\n",
    "  filtered = mad_std_filter(ref, 5)\n",
    "  array_to_raster(filtered, project_folder + f.split('.')[0] + '_madstd5.tif', ref_path)"
   ]
  },
  {
   "cell_type": "code",
   "execution_count": 3,
   "metadata": {},
   "outputs": [
    {
     "output_type": "execute_result",
     "data": {
      "text/plain": [
       "'C:\\\\Users\\\\caspe\\\\Desktop\\\\Paper_2_StructuralVolume\\\\imagery\\\\nightlights_scaled.tif'"
      ]
     },
     "metadata": {},
     "execution_count": 3
    }
   ],
   "source": [
    "# Scale all of the inputs\n",
    "array_to_raster(\n",
    "    scale_to_range_filter(\n",
    "        truncate_filter(\n",
    "            raster_to_array(project_folder + \"b04.tif\"),\n",
    "        0, 4000),\n",
    "    0, 1).astype('float32'),\n",
    "    project_folder + \"b04_scaled.tif\",\n",
    "    project_folder + \"b04.tif\"\n",
    ")\n",
    "\n",
    "array_to_raster(\n",
    "    scale_to_range_filter(\n",
    "        truncate_filter(\n",
    "            raster_to_array(project_folder + \"b04_madstd5.tif\"),\n",
    "        0, 1200),\n",
    "    0, 1).astype('float32'),\n",
    "    project_folder + \"b04_madstd5_scaled.tif\",\n",
    "    project_folder + \"b04_madstd5.tif\"\n",
    ")\n",
    "\n",
    "\n",
    "array_to_raster(\n",
    "    scale_to_range_filter(\n",
    "        truncate_filter(\n",
    "            raster_to_array(project_folder + \"b08.tif\"),\n",
    "        0, 5500),\n",
    "    0, 1).astype('float32'),\n",
    "    project_folder + \"b08_scaled.tif\",\n",
    "    project_folder + \"b08.tif\"\n",
    ")\n",
    "\n",
    "array_to_raster(\n",
    "    scale_to_range_filter(\n",
    "        truncate_filter(\n",
    "            raster_to_array(project_folder + \"b08_madstd5.tif\"),\n",
    "        0, 1650),\n",
    "    0, 1).astype('float32'),\n",
    "    project_folder + \"b08_madstd5_scaled.tif\",\n",
    "    project_folder + \"b08_madstd5.tif\"\n",
    ")\n",
    "\n",
    "array_to_raster(\n",
    "    scale_to_range_filter(\n",
    "        truncate_filter(\n",
    "            raster_to_array(project_folder + \"bs_asc.tif\"),\n",
    "        0, 50),\n",
    "    0, 1).astype('float32'),\n",
    "    project_folder + \"bs_asc_scaled.tif\",\n",
    "    project_folder + \"bs_asc.tif\"\n",
    ")\n",
    "\n",
    "array_to_raster(\n",
    "    scale_to_range_filter(\n",
    "        truncate_filter(\n",
    "            raster_to_array(project_folder + \"bs_desc.tif\"),\n",
    "        0, 50),\n",
    "    0, 1).astype('float32'),\n",
    "    project_folder + \"bs_desc_scaled.tif\",\n",
    "    project_folder + \"bs_desc.tif\"\n",
    ")\n",
    "\n",
    "array_to_raster(\n",
    "    scale_to_range_filter(\n",
    "        truncate_filter(\n",
    "            raster_to_array(project_folder + \"nightlights.tif\"),\n",
    "        0, 50),\n",
    "    0, 1).astype('float32'),\n",
    "    project_folder + \"nightlights_scaled.tif\",\n",
    "    project_folder + \"nightlights.tif\"\n",
    ")\n"
   ]
  },
  {
   "source": [
    "## Do zonal calculations on all rasters in folder"
   ],
   "cell_type": "markdown",
   "metadata": {}
  },
  {
   "cell_type": "code",
   "execution_count": 13,
   "metadata": {},
   "outputs": [
    {
     "output_type": "error",
     "ename": "ValueError",
     "evalue": "Buffer dtype mismatch, expected 'double' but got 'float'",
     "traceback": [
      "\u001b[1;31m---------------------------------------------------------------------------\u001b[0m",
      "\u001b[1;31mValueError\u001b[0m                                Traceback (most recent call last)",
      "\u001b[1;32m<ipython-input-13-9c268d903b6a>\u001b[0m in \u001b[0;36m<module>\u001b[1;34m\u001b[0m\n\u001b[0;32m     11\u001b[0m     \u001b[0mprefixes\u001b[0m\u001b[1;33m.\u001b[0m\u001b[0mappend\u001b[0m\u001b[1;33m(\u001b[0m\u001b[0mname\u001b[0m \u001b[1;33m+\u001b[0m \u001b[1;34m\"_\"\u001b[0m\u001b[1;33m)\u001b[0m\u001b[1;33m\u001b[0m\u001b[1;33m\u001b[0m\u001b[0m\n\u001b[0;32m     12\u001b[0m \u001b[1;33m\u001b[0m\u001b[0m\n\u001b[1;32m---> 13\u001b[1;33m \u001b[0mcalc_zonal\u001b[0m\u001b[1;33m(\u001b[0m\u001b[0mfolder\u001b[0m \u001b[1;33m+\u001b[0m \u001b[1;34m'160x160m_all.gpkg'\u001b[0m\u001b[1;33m,\u001b[0m \u001b[0mrasters\u001b[0m\u001b[1;33m,\u001b[0m \u001b[0mprefixes\u001b[0m\u001b[1;33m,\u001b[0m \u001b[1;33m[\u001b[0m\u001b[1;34m'mean'\u001b[0m\u001b[1;33m,\u001b[0m \u001b[1;34m'med'\u001b[0m\u001b[1;33m,\u001b[0m \u001b[1;34m'std'\u001b[0m\u001b[1;33m,\u001b[0m \u001b[1;34m'min'\u001b[0m\u001b[1;33m,\u001b[0m \u001b[1;34m'max'\u001b[0m\u001b[1;33m]\u001b[0m\u001b[1;33m)\u001b[0m\u001b[1;33m\u001b[0m\u001b[1;33m\u001b[0m\u001b[0m\n\u001b[0m",
      "\u001b[1;32mc:/Users/caspe/desktop/yellow\\lib\\stats_zonal.py\u001b[0m in \u001b[0;36mcalc_zonal\u001b[1;34m(in_vector, in_rasters, prefixes, stats)\u001b[0m\n\u001b[0;32m    323\u001b[0m             \u001b[1;32melse\u001b[0m\u001b[1;33m:\u001b[0m\u001b[1;33m\u001b[0m\u001b[1;33m\u001b[0m\u001b[0m\n\u001b[0;32m    324\u001b[0m                 \u001b[0mraster_data_masked\u001b[0m \u001b[1;33m=\u001b[0m \u001b[0mnp\u001b[0m\u001b[1;33m.\u001b[0m\u001b[0mma\u001b[0m\u001b[1;33m.\u001b[0m\u001b[0mmasked_array\u001b[0m\u001b[1;33m(\u001b[0m\u001b[0mcropped_raster\u001b[0m\u001b[1;33m,\u001b[0m \u001b[0mmask\u001b[0m\u001b[1;33m=\u001b[0m\u001b[0mrasterized_features\u001b[0m\u001b[1;33m[\u001b[0m\u001b[0mn\u001b[0m\u001b[1;33m]\u001b[0m\u001b[1;33m,\u001b[0m \u001b[0mdtype\u001b[0m\u001b[1;33m=\u001b[0m\u001b[1;34m'double'\u001b[0m\u001b[1;33m)\u001b[0m\u001b[1;33m.\u001b[0m\u001b[0mcompressed\u001b[0m\u001b[1;33m(\u001b[0m\u001b[1;33m)\u001b[0m\u001b[1;33m\u001b[0m\u001b[1;33m\u001b[0m\u001b[0m\n\u001b[1;32m--> 325\u001b[1;33m                 \u001b[0mzonal_stats\u001b[0m \u001b[1;33m=\u001b[0m \u001b[0mglobal_statistics\u001b[0m\u001b[1;33m(\u001b[0m\u001b[0mraster_data_masked\u001b[0m\u001b[1;33m,\u001b[0m \u001b[0mtranslated_stats\u001b[0m\u001b[1;33m=\u001b[0m\u001b[0mstats_translated\u001b[0m\u001b[1;33m)\u001b[0m\u001b[1;33m\u001b[0m\u001b[1;33m\u001b[0m\u001b[0m\n\u001b[0m\u001b[0;32m    326\u001b[0m                 \u001b[0mnodata\u001b[0m \u001b[1;33m=\u001b[0m \u001b[0mnp\u001b[0m\u001b[1;33m.\u001b[0m\u001b[0misnan\u001b[0m\u001b[1;33m(\u001b[0m\u001b[0mzonal_stats\u001b[0m\u001b[1;33m)\u001b[0m\u001b[1;33m.\u001b[0m\u001b[0many\u001b[0m\u001b[1;33m(\u001b[0m\u001b[1;33m)\u001b[0m\u001b[1;33m\u001b[0m\u001b[1;33m\u001b[0m\u001b[0m\n\u001b[0;32m    327\u001b[0m \u001b[1;33m\u001b[0m\u001b[0m\n",
      "\u001b[1;32mstats_global.pyx\u001b[0m in \u001b[0;36mstats_global.global_statistics\u001b[1;34m()\u001b[0m\n",
      "\u001b[1;31mValueError\u001b[0m: Buffer dtype mismatch, expected 'double' but got 'float'"
     ]
    }
   ],
   "source": [
    "import os\n",
    "from glob import glob\n",
    "from lib.stats_zonal import calc_zonal\n",
    "\n",
    "folder = 'C:/Users/caspe/Desktop/Paper_2_StructuralVolume/'\n",
    "rasters = glob(folder + '*.tif')\n",
    "prefixes = []\n",
    "\n",
    "for raster in rasters:\n",
    "    name = os.path.splitext(os.path.basename(raster))[0] \n",
    "    prefixes.append(name + \"_\")\n",
    "\n",
    "calc_zonal(folder + '160x160m_all.gpkg', rasters, prefixes, ['mean', 'med', 'std', 'min', 'max'])"
   ]
  },
  {
   "cell_type": "code",
   "execution_count": null,
   "metadata": {},
   "outputs": [],
   "source": []
  }
 ]
}