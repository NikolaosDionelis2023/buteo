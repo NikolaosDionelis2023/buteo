{
 "metadata": {
  "language_info": {
   "codemirror_mode": {
    "name": "ipython",
    "version": 3
   },
   "file_extension": ".py",
   "mimetype": "text/x-python",
   "name": "python",
   "nbconvert_exporter": "python",
   "pygments_lexer": "ipython3",
   "version": "3.8.3-final"
  },
  "orig_nbformat": 2,
  "kernelspec": {
   "name": "green",
   "display_name": "green",
   "language": "python"
  }
 },
 "nbformat": 4,
 "nbformat_minor": 2,
 "cells": [
  {
   "source": [
    "## Read sklearn and the yellow toolbox"
   ],
   "cell_type": "markdown",
   "metadata": {}
  },
  {
   "cell_type": "code",
   "execution_count": 1,
   "metadata": {},
   "outputs": [],
   "source": [
    "yellow_follow = 'C:/Users/caspe/Desktop/yellow/lib'\n",
    "\n",
    "import sys; sys.path.append(yellow_follow) \n",
    "import sqlite3\n",
    "import pandas as pd\n",
    "import ml_utils\n",
    "import numpy as np\n",
    "import math\n",
    "\n",
    "from sklearn.model_selection import train_test_split, StratifiedShuffleSplit\n",
    "from sklearn.preprocessing import StandardScaler"
   ]
  },
  {
   "cell_type": "code",
   "execution_count": 2,
   "metadata": {},
   "outputs": [],
   "source": [
    "import tensorflow as tf\n",
    "import tensorflow_addons as tfa\n",
    "from tensorflow.keras import Model, Input\n",
    "from tensorflow.keras.layers import Dense, Dropout, BatchNormalization\n",
    "from tensorflow.keras.optimizers import Adam\n",
    "from tensorflow.keras.callbacks import EarlyStopping, LearningRateScheduler\n",
    "from tensorflow.keras.utils import plot_model\n",
    "from tensorflow.keras.constraints import max_norm"
   ]
  },
  {
   "source": [
    "## Load datasets and scale them"
   ],
   "cell_type": "markdown",
   "metadata": {}
  },
  {
   "cell_type": "code",
   "execution_count": 3,
   "metadata": {},
   "outputs": [],
   "source": [
    "# Local folder\n",
    "folder = \"C:/Users/caspe/Desktop/Paper_2_StructuralVolume/raw/\"\n",
    "\n",
    "in_path = folder + \"buildings.sqlite\"\n",
    "\n",
    "db_cnx = sqlite3.connect(in_path)\n",
    "\n",
    "df = pd.read_sql_query(\"SELECT * FROM 'buildings' WHERE buildings.area_vol_ratio >= 1 AND buildings.vol_sum > 1 ORDER BY RANDOM();\", db_cnx)\n",
    "df['pred_vol'] = np.nan\n",
    "\n",
    "scaler = StandardScaler()\n",
    "cols = ['area', 'perimeter', 'ipq']"
   ]
  },
  {
   "cell_type": "code",
   "execution_count": 4,
   "metadata": {},
   "outputs": [
    {
     "output_type": "execute_result",
     "data": {
      "text/plain": [
       "522.8423209885113"
      ]
     },
     "metadata": {},
     "execution_count": 4
    }
   ],
   "source": [
    "# What is the mean building size?\n",
    "df['vol_sum'].mean()"
   ]
  },
  {
   "cell_type": "code",
   "execution_count": 5,
   "metadata": {},
   "outputs": [
    {
     "output_type": "execute_result",
     "data": {
      "text/plain": [
       "178.02704305648808"
      ]
     },
     "metadata": {},
     "execution_count": 5
    }
   ],
   "source": [
    "# What is the mean building size?\n",
    "df['vol_sum'].median()"
   ]
  },
  {
   "cell_type": "code",
   "execution_count": 6,
   "metadata": {},
   "outputs": [
    {
     "output_type": "stream",
     "name": "stdout",
     "text": [
      "Total out out sync: 125547\nTotal: 1674270\nPercent: 7.5\n"
     ]
    }
   ],
   "source": [
    "# How many are taken out for reevaluation?\n",
    "df_total = pd.read_sql_query(\"SELECT * FROM 'buildings' WHERE buildings.area_vol_ratio < 1 OR buildings.vol_sum <= 1;\", db_cnx)\n",
    "print(f\"Total out out sync: {len(df_total)}\")\n",
    "print(f\"Total: {len(df)}\")\n",
    "print(f\"Percent: {round((len(df_total) / len(df)) * 100, 2)}\")\n",
    "del df_total"
   ]
  },
  {
   "cell_type": "code",
   "execution_count": 7,
   "metadata": {},
   "outputs": [],
   "source": [
    "# Ready the traning data\n",
    "x = df_scaled = scaler.fit_transform(df[cols])\n",
    "y = df[['vol_sum']].values"
   ]
  },
  {
   "cell_type": "code",
   "execution_count": 8,
   "metadata": {},
   "outputs": [],
   "source": [
    "# Create a balance mask, to ensure the classes are balanced\n",
    "labels = [50, 150, 300, 500, 800]\n",
    "truth_labels = np.rot90(np.digitize(y, labels))[0]\n",
    "freq = ml_utils.count_freq(truth_labels)\n",
    "minority = freq.min(axis=0)[1]\n",
    "balance_mask = ml_utils.minority_class_mask(truth_labels, minority)"
   ]
  },
  {
   "source": [
    "## Investigate the classes"
   ],
   "cell_type": "markdown",
   "metadata": {}
  },
  {
   "cell_type": "code",
   "execution_count": 9,
   "metadata": {},
   "outputs": [
    {
     "output_type": "execute_result",
     "data": {
      "text/plain": [
       "array([[     0, 402273],\n",
       "       [     1, 383556],\n",
       "       [     2, 203936],\n",
       "       [     3, 212904],\n",
       "       [     4, 237773],\n",
       "       [     5, 233828]], dtype=int64)"
      ]
     },
     "metadata": {},
     "execution_count": 9
    }
   ],
   "source": [
    "freq"
   ]
  },
  {
   "cell_type": "code",
   "execution_count": 10,
   "metadata": {},
   "outputs": [],
   "source": [
    "# X = x[balance_mask]\n",
    "# Y = y[balance_mask]\n",
    "# Y_class = truth_labels[balance_mask]"
   ]
  },
  {
   "source": [
    "# Deep Learning step"
   ],
   "cell_type": "markdown",
   "metadata": {}
  },
  {
   "cell_type": "code",
   "execution_count": 11,
   "metadata": {},
   "outputs": [],
   "source": [
    "# Define model\n",
    "def define_model(shape, name, maxnorm=4, drop=0.1):\n",
    "    model_input = Input(shape=shape, name=\"input\")\n",
    "    model = Dense(64, activation=tfa.activations.mish, kernel_initializer=\"he_uniform\", kernel_constraint=max_norm(maxnorm), bias_constraint=max_norm(maxnorm))(model_input)\n",
    "    model = Dropout(drop)(model)\n",
    "    model = Dense(32, activation=tfa.activations.mish, kernel_initializer=\"he_uniform\", kernel_constraint=max_norm(maxnorm), bias_constraint=max_norm(maxnorm))(model)\n",
    "    model = Dropout(drop)(model)\n",
    "    model = Dense(16, activation=tfa.activations.mish, kernel_initializer=\"he_uniform\", kernel_constraint=max_norm(maxnorm), bias_constraint=max_norm(maxnorm))(model)\n",
    "    model = Dropout(drop)(model)\n",
    "    model = Dense(8, activation=tfa.activations.mish, kernel_initializer=\"he_uniform\", kernel_constraint=max_norm(maxnorm), bias_constraint=max_norm(maxnorm))(model)\n",
    "\n",
    "    predictions = Dense(1, activation=\"relu\", dtype=\"float32\")(model)\n",
    "\n",
    "    return Model(inputs=[model_input], outputs=predictions)"
   ]
  },
  {
   "cell_type": "code",
   "execution_count": 12,
   "metadata": {},
   "outputs": [],
   "source": [
    "lr = 0.01\n",
    "bs = 1024\n",
    "epochs = 50\n",
    "\n",
    "def step_decay(epoch):\n",
    "    initial_lrate = lr\n",
    "    drop = 0.5\n",
    "    epochs_drop = 3\n",
    "    lrate = initial_lrate * math.pow(drop, math.floor((1 + epoch) / epochs_drop))\n",
    "    return lrate"
   ]
  },
  {
   "cell_type": "code",
   "execution_count": 13,
   "metadata": {
    "tags": []
   },
   "outputs": [
    {
     "output_type": "stream",
     "name": "stdout",
     "text": [
      "Epoch 1/50\n",
      "655/655 [==============================] - 7s 8ms/step - loss: 211.1888 - mean_absolute_error: 211.8722 - mean_absolute_percentage_error: 73.4018 - median_absolute_error: 61.4276 - median_absolute_percentage_error: 38.5935 - val_loss: 130.6552 - val_mean_absolute_error: 131.3358 - val_mean_absolute_percentage_error: 31.0908 - val_median_absolute_error: 29.5419 - val_median_absolute_percentage_error: 19.3985\n",
      "Epoch 2/50\n",
      "655/655 [==============================] - 5s 7ms/step - loss: 143.1680 - mean_absolute_error: 143.8453 - mean_absolute_percentage_error: 31.3031 - median_absolute_error: 32.6852 - median_absolute_percentage_error: 22.3111 - val_loss: 129.9746 - val_mean_absolute_error: 130.6492 - val_mean_absolute_percentage_error: 26.0169 - val_median_absolute_error: 29.7666 - val_median_absolute_percentage_error: 18.7017\n",
      "Epoch 3/50\n",
      "655/655 [==============================] - 4s 7ms/step - loss: 144.3229 - mean_absolute_error: 144.9990 - mean_absolute_percentage_error: 30.2233 - median_absolute_error: 32.0920 - median_absolute_percentage_error: 21.6045 - val_loss: 129.0941 - val_mean_absolute_error: 129.7652 - val_mean_absolute_percentage_error: 24.7735 - val_median_absolute_error: 29.3486 - val_median_absolute_percentage_error: 18.0005\n",
      "Epoch 4/50\n",
      "655/655 [==============================] - 4s 6ms/step - loss: 146.7876 - mean_absolute_error: 147.4637 - mean_absolute_percentage_error: 30.1981 - median_absolute_error: 32.1610 - median_absolute_percentage_error: 21.5135 - val_loss: 129.1011 - val_mean_absolute_error: 129.7732 - val_mean_absolute_percentage_error: 25.1822 - val_median_absolute_error: 29.3685 - val_median_absolute_percentage_error: 18.0554\n",
      "Epoch 5/50\n",
      "655/655 [==============================] - 4s 6ms/step - loss: 141.7964 - mean_absolute_error: 142.4723 - mean_absolute_percentage_error: 29.9567 - median_absolute_error: 31.8283 - median_absolute_percentage_error: 21.3987 - val_loss: 129.1599 - val_mean_absolute_error: 129.8360 - val_mean_absolute_percentage_error: 26.8821 - val_median_absolute_error: 30.7063 - val_median_absolute_percentage_error: 18.9971\n",
      "Epoch 6/50\n",
      "655/655 [==============================] - 5s 7ms/step - loss: 142.6080 - mean_absolute_error: 143.2835 - mean_absolute_percentage_error: 29.7990 - median_absolute_error: 31.6394 - median_absolute_percentage_error: 21.1120 - val_loss: 131.6124 - val_mean_absolute_error: 132.2871 - val_mean_absolute_percentage_error: 26.8145 - val_median_absolute_error: 31.2642 - val_median_absolute_percentage_error: 19.3938\n",
      "Epoch 7/50\n",
      "655/655 [==============================] - 5s 7ms/step - loss: 145.8676 - mean_absolute_error: 146.5434 - mean_absolute_percentage_error: 30.1258 - median_absolute_error: 31.8782 - median_absolute_percentage_error: 21.3183 - val_loss: 129.0008 - val_mean_absolute_error: 129.6768 - val_mean_absolute_percentage_error: 26.4738 - val_median_absolute_error: 30.6324 - val_median_absolute_percentage_error: 19.2482\n",
      "Epoch 8/50\n",
      "655/655 [==============================] - 5s 7ms/step - loss: 142.9171 - mean_absolute_error: 143.5925 - mean_absolute_percentage_error: 29.8694 - median_absolute_error: 31.6881 - median_absolute_percentage_error: 21.1120 - val_loss: 130.2304 - val_mean_absolute_error: 130.9088 - val_mean_absolute_percentage_error: 26.9961 - val_median_absolute_error: 28.8039 - val_median_absolute_percentage_error: 19.4088\n",
      "Epoch 9/50\n",
      "655/655 [==============================] - 5s 8ms/step - loss: 141.2061 - mean_absolute_error: 141.8815 - mean_absolute_percentage_error: 29.8182 - median_absolute_error: 31.4253 - median_absolute_percentage_error: 21.0554 - val_loss: 129.2039 - val_mean_absolute_error: 129.8793 - val_mean_absolute_percentage_error: 25.7788 - val_median_absolute_error: 28.7768 - val_median_absolute_percentage_error: 18.7636\n",
      "Epoch 10/50\n",
      "655/655 [==============================] - 5s 8ms/step - loss: 141.2112 - mean_absolute_error: 141.8865 - mean_absolute_percentage_error: 29.8237 - median_absolute_error: 31.4957 - median_absolute_percentage_error: 20.9568 - val_loss: 128.8806 - val_mean_absolute_error: 129.5604 - val_mean_absolute_percentage_error: 28.3066 - val_median_absolute_error: 30.2621 - val_median_absolute_percentage_error: 19.6533\n",
      "Epoch 11/50\n",
      "655/655 [==============================] - 5s 8ms/step - loss: 140.4699 - mean_absolute_error: 141.1451 - mean_absolute_percentage_error: 29.6462 - median_absolute_error: 31.5225 - median_absolute_percentage_error: 20.9360 - val_loss: 128.8673 - val_mean_absolute_error: 129.5470 - val_mean_absolute_percentage_error: 28.3553 - val_median_absolute_error: 29.4512 - val_median_absolute_percentage_error: 19.4016\n",
      "Epoch 12/50\n",
      "655/655 [==============================] - 6s 10ms/step - loss: 141.1442 - mean_absolute_error: 141.8193 - mean_absolute_percentage_error: 29.6750 - median_absolute_error: 31.3391 - median_absolute_percentage_error: 20.8708 - val_loss: 129.0343 - val_mean_absolute_error: 129.7113 - val_mean_absolute_percentage_error: 27.3827 - val_median_absolute_error: 30.7923 - val_median_absolute_percentage_error: 19.2627\n",
      "5233/5233 [==============================] - 23s 4ms/step - loss: 129.4838 - mean_absolute_error: 130.1547 - mean_absolute_percentage_error: 24.8649 - median_absolute_error: 29.2808 - median_absolute_percentage_error: 17.6567\n"
     ]
    }
   ],
   "source": [
    "# Scores for the kfolds\n",
    "scores =  {\n",
    "    \"mean_absolute_error\": [],\n",
    "    \"mean_absolute_percentage_error\": [],\n",
    "    \"median_absolute_error\": [],\n",
    "    \"median_absolute_percentage_error\": [],\n",
    "}\n",
    "\n",
    "skf = StratifiedShuffleSplit(n_splits=1, test_size=0.1, train_size=0.5, random_state=42)\n",
    "\n",
    "for train_index, test_index in skf.split(x, truth_labels):\n",
    "    X_train, X_test = x[train_index], x[test_index]\n",
    "    y_train, y_test = y[train_index], y[test_index]\n",
    "\n",
    "    shape = X_train.shape[1]\n",
    "    model = define_model(shape, \"input\")\n",
    "\n",
    "    # Compile and test model\n",
    "    model.compile(\n",
    "        optimizer=Adam(\n",
    "            learning_rate=lr,\n",
    "            name=\"Adam\",\n",
    "        ),\n",
    "        loss='log_cosh',\n",
    "        metrics=[\n",
    "            \"mean_absolute_error\",\n",
    "            \"mean_absolute_percentage_error\",\n",
    "            ml_utils.median_absolute_error,\n",
    "            ml_utils.median_absolute_percentage_error,\n",
    "        ])\n",
    "\n",
    "    model.fit(\n",
    "        x=X_train,\n",
    "        y=y_train,\n",
    "        epochs=epochs,\n",
    "        verbose=1,\n",
    "        batch_size=bs,\n",
    "        validation_split=0.2,\n",
    "        callbacks=[\n",
    "            LearningRateScheduler(step_decay),\n",
    "            EarlyStopping(\n",
    "                monitor=\"val_loss\",\n",
    "                patience=9,\n",
    "                min_delta=1.0,\n",
    "                restore_best_weights=True,\n",
    "            ),\n",
    "        ]\n",
    "    )\n",
    "\n",
    "    # Evaluate model\n",
    "    loss, mean_absolute_error, mean_absolute_percentage_error, median_absolute_error, median_absolute_percentage_error = model.evaluate(X_test, y_test, verbose=1)\n",
    "\n",
    "    scores[\"mean_absolute_error\"].append(mean_absolute_error)\n",
    "    scores[\"mean_absolute_percentage_error\"].append(mean_absolute_percentage_error)\n",
    "    scores[\"median_absolute_error\"].append(median_absolute_error)\n",
    "    scores[\"median_absolute_percentage_error\"].append(median_absolute_percentage_error)"
   ]
  },
  {
   "cell_type": "code",
   "execution_count": 15,
   "metadata": {},
   "outputs": [
    {
     "output_type": "execute_result",
     "data": {
      "image/png": "[encoded data removed]",
      "text/plain": [
       "<IPython.core.display.Image object>"
      ]
     },
     "metadata": {},
     "execution_count": 15
    }
   ],
   "source": [
    "plot_model(model, to_file=\"./buildings_model.png\", show_shapes=True, show_dtype=False, show_layer_names=False)"
   ]
  },
  {
   "cell_type": "code",
   "execution_count": null,
   "metadata": {},
   "outputs": [],
   "source": [
    "# scores\n",
    "mae_mean = np.array(scores['mean_absolute_error']).mean()\n",
    "mae_std = np.array(scores['mean_absolute_error']).std()\n",
    "\n",
    "mape_mean = np.array(scores['mean_absolute_percentage_error']).mean()\n",
    "mape_std = np.array(scores['mean_absolute_percentage_error']).std()\n",
    "\n",
    "meae_mean = np.array(scores['median_absolute_error']).mean()\n",
    "meae_std = np.array(scores['median_absolute_error']).std()\n",
    "\n",
    "meape_mean = np.array(scores['median_absolute_percentage_error']).mean()\n",
    "meapee_std = np.array(scores['median_absolute_percentage_error']).std()\n",
    "\n",
    "\n",
    "print(f\"    Combined Score:\")\n",
    "print(f\"    Mean Absolute Error (MAE):               {ml_utils.pad(str(round(mae_mean, 3)), 5, 3)} ({ml_utils.pad(str(round(mae_std, 3)), 5, 3)} stdev)\")\n",
    "print(f\"    Mean Absolute Percentage Error (MAPE):   {ml_utils.pad(str(round(mape_mean, 3)), 5, 3)} ({ml_utils.pad(str(round(mape_std, 3)), 5, 3)} stdev)\")\n",
    "print(f\"    Median Absolute Error (MeAE):            {ml_utils.pad(str(round(meae_mean, 3)), 5, 3)} ({ml_utils.pad(str(round(meae_std, 3)), 5, 3)} stdev)\")\n",
    "print(f\"    Median Absolute Percentage Error (MAPE): {ml_utils.pad(str(round(meape_mean, 3)), 5, 3)} ({ml_utils.pad(str(round(meapee_std, 3)), 5, 3)} stdev)\")\n",
    "print(\"\")"
   ]
  },
  {
   "cell_type": "code",
   "execution_count": null,
   "metadata": {},
   "outputs": [],
   "source": [
    "    # Combined Score:\n",
    "    # Mean Absolute Error (MAE):                 128.722 (    1.369 stdev)\n",
    "    # Mean Absolute Percentage Error (MAPE):      25.092 (    0.368 stdev)\n",
    "    # Median Absolute Error (MeAE):               29.269 (    0.618 stdev)\n",
    "    # Median Absolute Percentage Error (MAPE):    17.772 (    0.111 stdev)\n",
    "\n",
    "    # Combined Score:\n",
    "    # Mean Absolute Error (MAE):                 127.673 (    0.000 stdev)\n",
    "    # Mean Absolute Percentage Error (MAPE):      26.473 (    0.000 stdev)\n",
    "    # Median Absolute Error (MeAE):               30.227 (    0.000 stdev)\n",
    "    # Median Absolute Percentage Error (MAPE):    18.060 (    0.000 stdev)"
   ]
  },
  {
   "cell_type": "code",
   "execution_count": null,
   "metadata": {},
   "outputs": [],
   "source": [
    "# Run model on whole set\n",
    "X_train, X_test, y_train, y_test = train_test_split(X, Y, test_size=0.2, stratify=Y_class)\n",
    "\n",
    "shape = X_train.shape[1]\n",
    "model = define_model(shape, \"input\")\n",
    "\n",
    "# Compile and test model\n",
    "model.compile(\n",
    "    optimizer=define_optimizer(),\n",
    "    loss='mean_absolute_error',\n",
    "    metrics=[\n",
    "        \"mean_absolute_error\",\n",
    "        \"mean_absolute_percentage_error\",\n",
    "        ml_utils.median_absolute_error,\n",
    "        ml_utils.median_absolute_percentage_error,\n",
    "    ])\n",
    "\n",
    "model.fit(\n",
    "    x=X_train,\n",
    "    y=y_train,\n",
    "    epochs=100,\n",
    "    verbose=1,\n",
    "    batch_size=1024,\n",
    "    validation_split=0.2,\n",
    "    callbacks=[\n",
    "        EarlyStopping(\n",
    "            monitor=\"val_loss\",\n",
    "            patience=9,\n",
    "            min_delta=1.0,\n",
    "            restore_best_weights=True,\n",
    "        ),\n",
    "    ]\n",
    ")"
   ]
  },
  {
   "cell_type": "code",
   "execution_count": null,
   "metadata": {},
   "outputs": [],
   "source": [
    "# Evaluate model\n",
    "loss, mean_absolute_error, mean_absolute_percentage_error, median_absolute_error, median_absolute_percentage_error = model.evaluate(X_test, y_test, verbose=1)\n",
    "print(\"Test accuracy:\")\n",
    "\n",
    "print(f\"Mean Absolute Error (MAE):                 {ml_utils.pad(str(round(mean_absolute_error, 3)), 3, 3)}\")\n",
    "print(f\"Mean Absolute Percentage Error (MAPE):     {ml_utils.pad(str(round(mean_absolute_percentage_error, 3)), 3, 3)}\")\n",
    "print(f\"Median Absolute Error (MAE):               {ml_utils.pad(str(round(median_absolute_error, 3)), 3, 3)}\")\n",
    "print(f\"Median Absolute Percentage Error (MeAPE):  {ml_utils.pad(str(round(median_absolute_percentage_error, 3)), 3, 3)}\")"
   ]
  },
  {
   "source": [
    "Test accuracy:\n",
    "Mean Absolute Error (MAE):                 153.878\n",
    "Mean Absolute Percentage Error (MAPE):      24.493\n",
    "Median Absolute Error (MAE):                44.903\n",
    "Median Absolute Percentage Error (MeAPE):   17.986"
   ],
   "cell_type": "markdown",
   "metadata": {}
  },
  {
   "cell_type": "code",
   "execution_count": null,
   "metadata": {},
   "outputs": [],
   "source": [
    "# Lets add it back to the original data and visually inspect the results\n",
    "df = pd.read_sql_query(\"SELECT * FROM 'buildings' ORDER BY RANDOM();\", db_cnx)\n",
    "\n",
    "scaler = StandardScaler()\n",
    "cols = ['area', 'perimeter', 'ipq']\n",
    "\n",
    "x = df_scaled = scaler.fit_transform(df[cols])\n",
    "\n",
    "pred = model.predict(x)"
   ]
  },
  {
   "cell_type": "code",
   "execution_count": null,
   "metadata": {},
   "outputs": [],
   "source": [
    "# Add the predictions back to the list\n",
    "df['pred_vol'] = pred\n",
    "df['abs_p_err'] = (abs(df['vol_sum'] - df['pred_vol'])) / df['vol_sum']\n",
    "\n",
    "# The original volume if it works, otherwise the infered volume.\n",
    "df['use_vol'] = df['vol_sum']\n",
    "df.loc[(df['area_vol_ratio'] < 1) | (df['vol_sum'] < 1), 'use_vol'] = df['pred_vol']"
   ]
  },
  {
   "cell_type": "code",
   "execution_count": null,
   "metadata": {},
   "outputs": [],
   "source": [
    "# Set the error to -1 when it's an infered value\n",
    "df.loc[(df['area_vol_ratio'] < 1) | (df['vol_sum'] < 1), 'abs_p_err'] = -1"
   ]
  },
  {
   "cell_type": "code",
   "execution_count": null,
   "metadata": {},
   "outputs": [],
   "source": [
    "from sqlalchemy import create_engine\n",
    "\n",
    "engine = create_engine('sqlite:///C:/Users/caspe/Desktop/Paper_2_StructuralVolume/buildings/buildings_pred.sqlite', echo=True)\n",
    "sqlite_connection = engine.connect()\n",
    "\n",
    "df.to_sql('buildings_pred', sqlite_connection, if_exists='fail')\n",
    "sqlite_connection.close()"
   ]
  }
 ]
}