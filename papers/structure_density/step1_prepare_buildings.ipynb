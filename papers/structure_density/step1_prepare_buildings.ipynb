{
 "metadata": {
  "language_info": {
   "codemirror_mode": {
    "name": "ipython",
    "version": 3
   },
   "file_extension": ".py",
   "mimetype": "text/x-python",
   "name": "python",
   "nbconvert_exporter": "python",
   "pygments_lexer": "ipython3",
   "version": "3.8.3-final"
  },
  "orig_nbformat": 2,
  "kernelspec": {
   "name": "green",
   "display_name": "green",
   "language": "python"
  }
 },
 "nbformat": 4,
 "nbformat_minor": 2,
 "cells": [
  {
   "source": [
    "## Read sklearn and the yellow toolbox"
   ],
   "cell_type": "markdown",
   "metadata": {}
  },
  {
   "cell_type": "code",
   "execution_count": 1,
   "metadata": {},
   "outputs": [],
   "source": [
    "yellow_follow = 'C:/Users/caspe/Desktop/yellow/lib'\n",
    "# Local path, change this.\n",
    "import sys; sys.path.append(yellow_follow) \n",
    "import sqlite3\n",
    "import pandas as pd\n",
    "import ml_utils\n",
    "import numpy as np\n",
    "from math import floor\n",
    "import matplotlib.pyplot as plt\n",
    "\n",
    "from sklearn.model_selection import train_test_split, StratifiedShuffleSplit\n",
    "from sklearn.preprocessing import MinMaxScaler, StandardScaler"
   ]
  },
  {
   "source": [
    "## Read tensorflow"
   ],
   "cell_type": "markdown",
   "metadata": {}
  },
  {
   "cell_type": "code",
   "execution_count": 2,
   "metadata": {},
   "outputs": [],
   "source": [
    "import tensorflow as tf\n",
    "import tensorflow_addons as tfa\n",
    "import tensorflow_probability as tfp\n",
    "from tensorflow.keras import Model, Input\n",
    "from tensorflow.keras.layers import Dense\n",
    "from tensorflow.keras.optimizers import Adam\n",
    "from tensorflow.keras.callbacks import EarlyStopping"
   ]
  },
  {
   "source": [
    "## Load datasets and scale them"
   ],
   "cell_type": "markdown",
   "metadata": {}
  },
  {
   "cell_type": "code",
   "execution_count": 3,
   "metadata": {},
   "outputs": [],
   "source": [
    "# Local folder\n",
    "folder = \"C:/Users/caspe/Desktop/Paper_2_StructuralVolume/buildings/\"\n",
    "\n",
    "in_path = folder + \"buildings.sqlite\"\n",
    "\n",
    "db_cnx = sqlite3.connect(in_path)\n",
    "\n",
    "df = pd.read_sql_query(\"SELECT * FROM 'buildings' WHERE buildings.area_vol_ratio >= 1 AND buildings.vol_sum > 1 ORDER BY RANDOM();\", db_cnx)\n",
    "df['pred_vol'] = np.nan\n",
    "\n",
    "scaler = StandardScaler()\n",
    "cols = ['area', 'perimeter', 'ipq']"
   ]
  },
  {
   "cell_type": "code",
   "execution_count": 4,
   "metadata": {},
   "outputs": [],
   "source": [
    "# Ready the traning data\n",
    "x = df_scaled = scaler.fit_transform(df[cols])\n",
    "y = df[['vol_sum']].values"
   ]
  },
  {
   "cell_type": "code",
   "execution_count": 5,
   "metadata": {},
   "outputs": [],
   "source": [
    "# Create a balance mask, to ensure the classes are balanced\n",
    "labels = [50, 150, 300, 500, 800]\n",
    "truth_labels = np.rot90(np.digitize(y, labels))[0]\n",
    "freq = ml_utils.count_freq(truth_labels)\n",
    "minority = freq.min(axis=0)[1]\n",
    "balance_mask = ml_utils.minority_class_mask(truth_labels, minority)"
   ]
  },
  {
   "source": [
    "## Investigate the classes"
   ],
   "cell_type": "markdown",
   "metadata": {}
  },
  {
   "cell_type": "code",
   "execution_count": 6,
   "metadata": {},
   "outputs": [
    {
     "output_type": "execute_result",
     "data": {
      "text/plain": [
       "array([[     0, 402273],\n",
       "       [     1, 383556],\n",
       "       [     2, 203936],\n",
       "       [     3, 212904],\n",
       "       [     4, 237773],\n",
       "       [     5, 233828]], dtype=int64)"
      ]
     },
     "metadata": {},
     "execution_count": 6
    }
   ],
   "source": [
    "freq"
   ]
  },
  {
   "cell_type": "code",
   "execution_count": 7,
   "metadata": {},
   "outputs": [],
   "source": [
    "X = x[balance_mask]\n",
    "Y = y[balance_mask]\n",
    "Y_class = truth_labels[balance_mask]"
   ]
  },
  {
   "source": [
    "# Deep Learning step"
   ],
   "cell_type": "markdown",
   "metadata": {}
  },
  {
   "cell_type": "code",
   "execution_count": 8,
   "metadata": {},
   "outputs": [],
   "source": [
    "# Define model\n",
    "def define_model(shape, name):\n",
    "    model_input = Input(shape=shape, name=\"input\")\n",
    "    model = Dense(100, activation=tfa.activations.mish, kernel_initializer=\"he_normal\")(model_input)\n",
    "    model = Dense(50, activation=tfa.activations.mish, kernel_initializer=\"he_normal\")(model)\n",
    "    model = Dense(20, activation=tfa.activations.mish, kernel_initializer=\"he_normal\")(model)\n",
    "    model = Dense(5, activation=tfa.activations.mish, kernel_initializer=\"he_normal\")(model)\n",
    "\n",
    "    predictions = Dense(1, activation=\"relu\", dtype=\"float32\")(model)\n",
    "\n",
    "    return Model(inputs=[model_input], outputs=predictions)"
   ]
  },
  {
   "cell_type": "code",
   "execution_count": 9,
   "metadata": {},
   "outputs": [],
   "source": [
    "# Define Optimizer\n",
    "def define_optimizer():\n",
    "    return tfa.optimizers.Lookahead(\n",
    "        Adam(\n",
    "            learning_rate=tfa.optimizers.TriangularCyclicalLearningRate(\n",
    "                initial_learning_rate=1e-4,\n",
    "                maximal_learning_rate=1e-2,\n",
    "                step_size=6,\n",
    "                scale_mode='cycle',\n",
    "                name='TriangularCyclicalLearningRate',\n",
    "            ),\n",
    "            name=\"Adam\",\n",
    "        )\n",
    "    )"
   ]
  },
  {
   "cell_type": "code",
   "execution_count": 10,
   "metadata": {},
   "outputs": [],
   "source": [
    "# Metrics for testing model accuracy\n",
    "def median_error(y_actual, y_pred):\n",
    "    return tfp.stats.percentile(tf.math.abs(y_actual - y_pred), 50.0)\n",
    "\n",
    "def abs_percentage(y_actual, y_pred):\n",
    "    return tfp.stats.percentile(\n",
    "        tf.divide(\n",
    "            tf.abs(tf.subtract(y_actual, y_pred)), (y_actual + 1e-10)\n",
    "        )\n",
    "    , 50.0)\n",
    "\n",
    "# Printing visuals\n",
    "def pad(s, dl, dr):\n",
    "    split = s.split('.')\n",
    "    left = split[0]\n",
    "    right = split[1]\n",
    "\n",
    "    if len(left) < dl:\n",
    "        left = ((dl - len(left)) * ' ') + left\n",
    "    \n",
    "    if len(right) < dr:\n",
    "        right = right + ((dr - len(right)) * '0')\n",
    "    \n",
    "    return left + '.' + right"
   ]
  },
  {
   "cell_type": "code",
   "execution_count": 11,
   "metadata": {
    "tags": [
     "outputPrepend"
    ]
   },
   "outputs": [
    {
     "output_type": "stream",
     "name": "stdout",
     "text": [
      "ean_absolute_error: 132.1161 - val_median_error: 30.7455 - val_abs_percentage: 0.2110\n",
      "Epoch 5/100\n",
      "655/655 [==============================] - 3s 5ms/step - loss: 129.6555 - mean_absolute_error: 129.6555 - median_error: 29.9034 - abs_percentage: 0.1921 - val_loss: 132.3829 - val_mean_absolute_error: 132.3829 - val_median_error: 28.8252 - val_abs_percentage: 0.2187\n",
      "Epoch 6/100\n",
      "655/655 [==============================] - 3s 5ms/step - loss: 129.4091 - mean_absolute_error: 129.4091 - median_error: 29.6662 - abs_percentage: 0.1905 - val_loss: 131.8310 - val_mean_absolute_error: 131.8310 - val_median_error: 29.1207 - val_abs_percentage: 0.2024\n",
      "Epoch 7/100\n",
      "655/655 [==============================] - 3s 5ms/step - loss: 130.5633 - mean_absolute_error: 130.5633 - median_error: 29.5522 - abs_percentage: 0.1896 - val_loss: 127.0283 - val_mean_absolute_error: 127.0283 - val_median_error: 29.2906 - val_abs_percentage: 0.1834\n",
      "Epoch 8/100\n",
      "655/655 [==============================] - 3s 4ms/step - loss: 130.4094 - mean_absolute_error: 130.4094 - median_error: 29.5441 - abs_percentage: 0.1890 - val_loss: 128.6380 - val_mean_absolute_error: 128.6380 - val_median_error: 29.5713 - val_abs_percentage: 0.1967\n",
      "Epoch 9/100\n",
      "655/655 [==============================] - 3s 4ms/step - loss: 128.9964 - mean_absolute_error: 128.9964 - median_error: 29.4464 - abs_percentage: 0.1877 - val_loss: 134.4731 - val_mean_absolute_error: 134.4731 - val_median_error: 27.3436 - val_abs_percentage: 0.1855\n",
      "Epoch 10/100\n",
      "655/655 [==============================] - 3s 5ms/step - loss: 131.4107 - mean_absolute_error: 131.4107 - median_error: 29.8106 - abs_percentage: 0.1890 - val_loss: 127.3205 - val_mean_absolute_error: 127.3205 - val_median_error: 29.4066 - val_abs_percentage: 0.1965\n",
      "Epoch 11/100\n",
      "655/655 [==============================] - 3s 4ms/step - loss: 130.1437 - mean_absolute_error: 130.1437 - median_error: 29.4692 - abs_percentage: 0.1853 - val_loss: 127.5759 - val_mean_absolute_error: 127.5759 - val_median_error: 29.5383 - val_abs_percentage: 0.1975\n",
      "Epoch 12/100\n",
      "655/655 [==============================] - 3s 5ms/step - loss: 128.5628 - mean_absolute_error: 128.5628 - median_error: 29.1917 - abs_percentage: 0.1849 - val_loss: 126.7160 - val_mean_absolute_error: 126.7160 - val_median_error: 29.0885 - val_abs_percentage: 0.1845\n",
      "Epoch 13/100\n",
      "655/655 [==============================] - 3s 4ms/step - loss: 129.2720 - mean_absolute_error: 129.2720 - median_error: 29.2174 - abs_percentage: 0.1840 - val_loss: 129.6346 - val_mean_absolute_error: 129.6346 - val_median_error: 32.5289 - val_abs_percentage: 0.2054\n",
      "Epoch 14/100\n",
      "655/655 [==============================] - 3s 4ms/step - loss: 130.2052 - mean_absolute_error: 130.2052 - median_error: 29.3051 - abs_percentage: 0.1858 - val_loss: 126.9262 - val_mean_absolute_error: 126.9262 - val_median_error: 29.0772 - val_abs_percentage: 0.1813\n",
      "Epoch 15/100\n",
      "655/655 [==============================] - 3s 4ms/step - loss: 128.5466 - mean_absolute_error: 128.5466 - median_error: 29.2585 - abs_percentage: 0.1836 - val_loss: 131.7516 - val_mean_absolute_error: 131.7516 - val_median_error: 32.1000 - val_abs_percentage: 0.2092\n",
      "Epoch 16/100\n",
      "655/655 [==============================] - 3s 4ms/step - loss: 129.3740 - mean_absolute_error: 129.3740 - median_error: 29.3846 - abs_percentage: 0.1849 - val_loss: 127.9231 - val_mean_absolute_error: 127.9231 - val_median_error: 28.8332 - val_abs_percentage: 0.1955\n",
      "Epoch 17/100\n",
      "655/655 [==============================] - 3s 5ms/step - loss: 128.9039 - mean_absolute_error: 128.9039 - median_error: 28.9968 - abs_percentage: 0.1847 - val_loss: 126.7901 - val_mean_absolute_error: 126.7901 - val_median_error: 29.3374 - val_abs_percentage: 0.1876\n",
      "Epoch 18/100\n",
      "655/655 [==============================] - 3s 4ms/step - loss: 129.2533 - mean_absolute_error: 129.2533 - median_error: 29.1545 - abs_percentage: 0.1832 - val_loss: 126.9539 - val_mean_absolute_error: 126.9539 - val_median_error: 28.7537 - val_abs_percentage: 0.1886\n",
      "Epoch 19/100\n",
      "655/655 [==============================] - 3s 4ms/step - loss: 128.3369 - mean_absolute_error: 128.3369 - median_error: 29.3525 - abs_percentage: 0.1838 - val_loss: 126.4697 - val_mean_absolute_error: 126.4697 - val_median_error: 29.0151 - val_abs_percentage: 0.1825\n",
      "5233/5233 [==============================] - 5s 921us/step - loss: 130.2523 - mean_absolute_error: 130.2523 - median_error: 29.3558 - abs_percentage: 0.1792\n",
      "Epoch 1/100\n",
      "655/655 [==============================] - 6s 6ms/step - loss: 261.1456 - mean_absolute_error: 261.1456 - median_error: 77.1731 - abs_percentage: 0.4635 - val_loss: 158.3212 - val_mean_absolute_error: 158.3212 - val_median_error: 37.0816 - val_abs_percentage: 0.2597\n",
      "Epoch 2/100\n",
      "655/655 [==============================] - 3s 5ms/step - loss: 134.6645 - mean_absolute_error: 134.6645 - median_error: 30.5176 - abs_percentage: 0.1959 - val_loss: 129.2994 - val_mean_absolute_error: 129.2994 - val_median_error: 29.6537 - val_abs_percentage: 0.1851\n",
      "Epoch 3/100\n",
      "655/655 [==============================] - 4s 6ms/step - loss: 131.6482 - mean_absolute_error: 131.6482 - median_error: 29.9563 - abs_percentage: 0.1917 - val_loss: 153.1306 - val_mean_absolute_error: 153.1306 - val_median_error: 34.0640 - val_abs_percentage: 0.2507\n",
      "Epoch 4/100\n",
      "655/655 [==============================] - 4s 5ms/step - loss: 134.4845 - mean_absolute_error: 134.4845 - median_error: 30.0518 - abs_percentage: 0.1946 - val_loss: 134.4788 - val_mean_absolute_error: 134.4788 - val_median_error: 27.6865 - val_abs_percentage: 0.2081\n",
      "Epoch 5/100\n",
      "655/655 [==============================] - 4s 6ms/step - loss: 132.0976 - mean_absolute_error: 132.0976 - median_error: 29.7581 - abs_percentage: 0.1882 - val_loss: 128.3173 - val_mean_absolute_error: 128.3173 - val_median_error: 29.8161 - val_abs_percentage: 0.1865\n",
      "Epoch 6/100\n",
      "655/655 [==============================] - 4s 6ms/step - loss: 131.0516 - mean_absolute_error: 131.0516 - median_error: 29.7862 - abs_percentage: 0.1880 - val_loss: 129.6546 - val_mean_absolute_error: 129.6546 - val_median_error: 32.1113 - val_abs_percentage: 0.1982\n",
      "Epoch 7/100\n",
      "655/655 [==============================] - 4s 6ms/step - loss: 131.3784 - mean_absolute_error: 131.3784 - median_error: 29.5382 - abs_percentage: 0.1884 - val_loss: 128.0302 - val_mean_absolute_error: 128.0302 - val_median_error: 29.2918 - val_abs_percentage: 0.1833\n",
      "Epoch 8/100\n",
      "655/655 [==============================] - 4s 6ms/step - loss: 132.3644 - mean_absolute_error: 132.3644 - median_error: 29.6200 - abs_percentage: 0.1860 - val_loss: 130.7680 - val_mean_absolute_error: 130.7680 - val_median_error: 32.3761 - val_abs_percentage: 0.2310\n",
      "Epoch 9/100\n",
      "655/655 [==============================] - 4s 5ms/step - loss: 129.4290 - mean_absolute_error: 129.4290 - median_error: 29.4402 - abs_percentage: 0.1873 - val_loss: 136.7863 - val_mean_absolute_error: 136.7863 - val_median_error: 27.8971 - val_abs_percentage: 0.1923\n",
      "Epoch 10/100\n",
      "655/655 [==============================] - 4s 6ms/step - loss: 131.4885 - mean_absolute_error: 131.4885 - median_error: 29.6194 - abs_percentage: 0.1893 - val_loss: 129.1375 - val_mean_absolute_error: 129.1375 - val_median_error: 31.1896 - val_abs_percentage: 0.2144\n",
      "Epoch 11/100\n",
      "655/655 [==============================] - 3s 5ms/step - loss: 131.4189 - mean_absolute_error: 131.4189 - median_error: 29.5060 - abs_percentage: 0.1870 - val_loss: 129.6516 - val_mean_absolute_error: 129.6516 - val_median_error: 31.9439 - val_abs_percentage: 0.2505\n",
      "Epoch 12/100\n",
      "655/655 [==============================] - 3s 4ms/step - loss: 129.1641 - mean_absolute_error: 129.1641 - median_error: 29.2473 - abs_percentage: 0.1861 - val_loss: 127.5086 - val_mean_absolute_error: 127.5086 - val_median_error: 29.0726 - val_abs_percentage: 0.1809\n",
      "Epoch 13/100\n",
      "655/655 [==============================] - 3s 5ms/step - loss: 129.8494 - mean_absolute_error: 129.8494 - median_error: 29.1158 - abs_percentage: 0.1840 - val_loss: 134.1753 - val_mean_absolute_error: 134.1753 - val_median_error: 37.9077 - val_abs_percentage: 0.2771\n",
      "Epoch 14/100\n",
      "655/655 [==============================] - 3s 5ms/step - loss: 130.6998 - mean_absolute_error: 130.6998 - median_error: 29.4729 - abs_percentage: 0.1885 - val_loss: 128.2429 - val_mean_absolute_error: 128.2429 - val_median_error: 29.9635 - val_abs_percentage: 0.1895\n",
      "Epoch 15/100\n",
      "655/655 [==============================] - 3s 5ms/step - loss: 131.2168 - mean_absolute_error: 131.2168 - median_error: 29.0426 - abs_percentage: 0.1860 - val_loss: 131.9947 - val_mean_absolute_error: 131.9947 - val_median_error: 34.5457 - val_abs_percentage: 0.2078\n",
      "Epoch 16/100\n",
      "655/655 [==============================] - 3s 5ms/step - loss: 130.8487 - mean_absolute_error: 130.8487 - median_error: 29.3123 - abs_percentage: 0.1854 - val_loss: 135.5458 - val_mean_absolute_error: 135.5458 - val_median_error: 30.3441 - val_abs_percentage: 0.2453\n",
      "Epoch 17/100\n",
      "655/655 [==============================] - 3s 5ms/step - loss: 131.3371 - mean_absolute_error: 131.3371 - median_error: 29.2658 - abs_percentage: 0.1878 - val_loss: 127.7035 - val_mean_absolute_error: 127.7035 - val_median_error: 28.2567 - val_abs_percentage: 0.1867\n",
      "Epoch 18/100\n",
      "655/655 [==============================] - 3s 5ms/step - loss: 129.2549 - mean_absolute_error: 129.2549 - median_error: 28.9909 - abs_percentage: 0.1839 - val_loss: 128.4528 - val_mean_absolute_error: 128.4528 - val_median_error: 28.7588 - val_abs_percentage: 0.1889\n",
      "Epoch 19/100\n",
      "655/655 [==============================] - 3s 5ms/step - loss: 131.5190 - mean_absolute_error: 131.5190 - median_error: 29.1806 - abs_percentage: 0.1842 - val_loss: 127.2638 - val_mean_absolute_error: 127.2638 - val_median_error: 29.0842 - val_abs_percentage: 0.1798\n",
      "5233/5233 [==============================] - 4s 818us/step - loss: 127.3163 - mean_absolute_error: 127.3163 - median_error: 29.6986 - abs_percentage: 0.1796\n",
      "Epoch 1/100\n",
      "655/655 [==============================] - 6s 6ms/step - loss: 262.9807 - mean_absolute_error: 262.9807 - median_error: 80.5621 - abs_percentage: 0.4820 - val_loss: 138.1886 - val_mean_absolute_error: 138.1886 - val_median_error: 37.5806 - val_abs_percentage: 0.2564\n",
      "Epoch 2/100\n",
      "655/655 [==============================] - 3s 5ms/step - loss: 131.9952 - mean_absolute_error: 131.9952 - median_error: 30.2716 - abs_percentage: 0.1913 - val_loss: 133.7574 - val_mean_absolute_error: 133.7574 - val_median_error: 28.6185 - val_abs_percentage: 0.1892\n",
      "Epoch 3/100\n",
      "655/655 [==============================] - 3s 5ms/step - loss: 132.8470 - mean_absolute_error: 132.8470 - median_error: 30.1597 - abs_percentage: 0.1898 - val_loss: 133.3356 - val_mean_absolute_error: 133.3356 - val_median_error: 33.9385 - val_abs_percentage: 0.2054\n",
      "Epoch 4/100\n",
      "655/655 [==============================] - 3s 5ms/step - loss: 130.0947 - mean_absolute_error: 130.0947 - median_error: 29.6377 - abs_percentage: 0.1855 - val_loss: 131.4263 - val_mean_absolute_error: 131.4263 - val_median_error: 29.3624 - val_abs_percentage: 0.1882\n",
      "Epoch 5/100\n",
      "655/655 [==============================] - 3s 5ms/step - loss: 129.8923 - mean_absolute_error: 129.8923 - median_error: 29.2911 - abs_percentage: 0.1841 - val_loss: 132.9518 - val_mean_absolute_error: 132.9518 - val_median_error: 32.2039 - val_abs_percentage: 0.2012\n",
      "Epoch 6/100\n",
      "655/655 [==============================] - 3s 5ms/step - loss: 128.8769 - mean_absolute_error: 128.8769 - median_error: 29.1333 - abs_percentage: 0.1845 - val_loss: 136.4868 - val_mean_absolute_error: 136.4868 - val_median_error: 32.9376 - val_abs_percentage: 0.1984\n",
      "Epoch 7/100\n",
      "655/655 [==============================] - 3s 5ms/step - loss: 131.7708 - mean_absolute_error: 131.7708 - median_error: 29.4747 - abs_percentage: 0.1882 - val_loss: 130.7741 - val_mean_absolute_error: 130.7741 - val_median_error: 29.2754 - val_abs_percentage: 0.1853\n",
      "Epoch 8/100\n",
      "655/655 [==============================] - 3s 5ms/step - loss: 128.6866 - mean_absolute_error: 128.6866 - median_error: 29.2440 - abs_percentage: 0.1831 - val_loss: 144.2536 - val_mean_absolute_error: 144.2536 - val_median_error: 27.3359 - val_abs_percentage: 0.1974\n",
      "Epoch 9/100\n",
      "655/655 [==============================] - 4s 6ms/step - loss: 130.8661 - mean_absolute_error: 130.8661 - median_error: 29.2344 - abs_percentage: 0.1864 - val_loss: 130.9282 - val_mean_absolute_error: 130.9282 - val_median_error: 30.1154 - val_abs_percentage: 0.1835\n",
      "Epoch 10/100\n",
      "655/655 [==============================] - 4s 6ms/step - loss: 129.8953 - mean_absolute_error: 129.8953 - median_error: 29.3286 - abs_percentage: 0.1833 - val_loss: 137.6135 - val_mean_absolute_error: 137.6135 - val_median_error: 28.0852 - val_abs_percentage: 0.1900\n",
      "Epoch 11/100\n",
      "655/655 [==============================] - 4s 6ms/step - loss: 130.1065 - mean_absolute_error: 130.1065 - median_error: 29.1105 - abs_percentage: 0.1836 - val_loss: 132.9652 - val_mean_absolute_error: 132.9652 - val_median_error: 27.4211 - val_abs_percentage: 0.1793\n",
      "Epoch 12/100\n",
      "655/655 [==============================] - 4s 6ms/step - loss: 128.6608 - mean_absolute_error: 128.6608 - median_error: 29.0153 - abs_percentage: 0.1834 - val_loss: 131.1099 - val_mean_absolute_error: 131.1099 - val_median_error: 29.4375 - val_abs_percentage: 0.1855\n",
      "Epoch 13/100\n",
      "655/655 [==============================] - 5s 7ms/step - loss: 129.3740 - mean_absolute_error: 129.3740 - median_error: 29.1263 - abs_percentage: 0.1820 - val_loss: 132.7065 - val_mean_absolute_error: 132.7065 - val_median_error: 31.9224 - val_abs_percentage: 0.1974\n",
      "Epoch 14/100\n",
      "655/655 [==============================] - 4s 6ms/step - loss: 129.5731 - mean_absolute_error: 129.5731 - median_error: 29.1889 - abs_percentage: 0.1833 - val_loss: 130.4875 - val_mean_absolute_error: 130.4875 - val_median_error: 29.0119 - val_abs_percentage: 0.1782\n",
      "Epoch 15/100\n",
      "655/655 [==============================] - 4s 6ms/step - loss: 130.1206 - mean_absolute_error: 130.1206 - median_error: 29.0127 - abs_percentage: 0.1819 - val_loss: 131.1225 - val_mean_absolute_error: 131.1225 - val_median_error: 30.0012 - val_abs_percentage: 0.2008\n",
      "Epoch 16/100\n",
      "655/655 [==============================] - 3s 5ms/step - loss: 129.9664 - mean_absolute_error: 129.9664 - median_error: 28.9527 - abs_percentage: 0.1821 - val_loss: 130.8153 - val_mean_absolute_error: 130.8153 - val_median_error: 29.3131 - val_abs_percentage: 0.1836\n",
      "5233/5233 [==============================] - 4s 823us/step - loss: 129.2955 - mean_absolute_error: 129.2955 - median_error: 29.5195 - abs_percentage: 0.1837\n",
      "Epoch 1/100\n",
      "655/655 [==============================] - 6s 5ms/step - loss: 265.7696 - mean_absolute_error: 265.7696 - median_error: 77.4973 - abs_percentage: 0.4683 - val_loss: 135.6856 - val_mean_absolute_error: 135.6856 - val_median_error: 39.5128 - val_abs_percentage: 0.3095\n",
      "Epoch 2/100\n",
      "655/655 [==============================] - 3s 5ms/step - loss: 131.5240 - mean_absolute_error: 131.5240 - median_error: 30.4752 - abs_percentage: 0.1928 - val_loss: 129.5131 - val_mean_absolute_error: 129.5131 - val_median_error: 31.0186 - val_abs_percentage: 0.1912\n",
      "Epoch 3/100\n",
      "655/655 [==============================] - 3s 5ms/step - loss: 130.9592 - mean_absolute_error: 130.9592 - median_error: 30.0785 - abs_percentage: 0.1892 - val_loss: 139.6350 - val_mean_absolute_error: 139.6350 - val_median_error: 34.9055 - val_abs_percentage: 0.2550\n",
      "Epoch 4/100\n",
      "655/655 [==============================] - 3s 5ms/step - loss: 130.6662 - mean_absolute_error: 130.6662 - median_error: 29.7929 - abs_percentage: 0.1883 - val_loss: 129.3955 - val_mean_absolute_error: 129.3955 - val_median_error: 27.9206 - val_abs_percentage: 0.1940\n",
      "Epoch 5/100\n",
      "655/655 [==============================] - 3s 4ms/step - loss: 131.2338 - mean_absolute_error: 131.2338 - median_error: 29.5244 - abs_percentage: 0.1879 - val_loss: 130.5477 - val_mean_absolute_error: 130.5477 - val_median_error: 28.8723 - val_abs_percentage: 0.1870\n",
      "Epoch 6/100\n",
      "655/655 [==============================] - 3s 4ms/step - loss: 130.0900 - mean_absolute_error: 130.0900 - median_error: 29.3930 - abs_percentage: 0.1849 - val_loss: 129.7228 - val_mean_absolute_error: 129.7228 - val_median_error: 28.9203 - val_abs_percentage: 0.1891\n",
      "Epoch 7/100\n",
      "655/655 [==============================] - 3s 5ms/step - loss: 133.2321 - mean_absolute_error: 133.2321 - median_error: 30.0495 - abs_percentage: 0.1923 - val_loss: 127.2112 - val_mean_absolute_error: 127.2112 - val_median_error: 30.0432 - val_abs_percentage: 0.1826\n",
      "Epoch 8/100\n",
      "655/655 [==============================] - 3s 5ms/step - loss: 129.3974 - mean_absolute_error: 129.3974 - median_error: 29.4464 - abs_percentage: 0.1861 - val_loss: 141.3448 - val_mean_absolute_error: 141.3448 - val_median_error: 37.8937 - val_abs_percentage: 0.3026\n",
      "Epoch 9/100\n",
      "655/655 [==============================] - 3s 4ms/step - loss: 131.9580 - mean_absolute_error: 131.9580 - median_error: 29.9725 - abs_percentage: 0.1924 - val_loss: 134.3607 - val_mean_absolute_error: 134.3607 - val_median_error: 32.5792 - val_abs_percentage: 0.2082\n",
      "Epoch 10/100\n",
      "655/655 [==============================] - 3s 4ms/step - loss: 129.7848 - mean_absolute_error: 129.7848 - median_error: 29.5232 - abs_percentage: 0.1889 - val_loss: 128.2552 - val_mean_absolute_error: 128.2552 - val_median_error: 28.0691 - val_abs_percentage: 0.2061\n",
      "Epoch 11/100\n",
      "655/655 [==============================] - 3s 5ms/step - loss: 129.6172 - mean_absolute_error: 129.6172 - median_error: 29.3936 - abs_percentage: 0.1839 - val_loss: 128.0981 - val_mean_absolute_error: 128.0981 - val_median_error: 27.5183 - val_abs_percentage: 0.1796\n",
      "Epoch 12/100\n",
      "655/655 [==============================] - 3s 5ms/step - loss: 130.2738 - mean_absolute_error: 130.2738 - median_error: 29.4627 - abs_percentage: 0.1829 - val_loss: 126.9422 - val_mean_absolute_error: 126.9422 - val_median_error: 28.4792 - val_abs_percentage: 0.1827\n",
      "Epoch 13/100\n",
      "655/655 [==============================] - 4s 6ms/step - loss: 129.4864 - mean_absolute_error: 129.4864 - median_error: 29.2118 - abs_percentage: 0.1835 - val_loss: 131.6229 - val_mean_absolute_error: 131.6229 - val_median_error: 34.1594 - val_abs_percentage: 0.2233\n",
      "Epoch 14/100\n",
      "655/655 [==============================] - 4s 6ms/step - loss: 129.9651 - mean_absolute_error: 129.9651 - median_error: 29.5383 - abs_percentage: 0.1855 - val_loss: 127.2775 - val_mean_absolute_error: 127.2775 - val_median_error: 27.6204 - val_abs_percentage: 0.1784\n",
      "Epoch 15/100\n",
      "655/655 [==============================] - 4s 6ms/step - loss: 132.5779 - mean_absolute_error: 132.5779 - median_error: 29.5921 - abs_percentage: 0.1846 - val_loss: 128.8420 - val_mean_absolute_error: 128.8420 - val_median_error: 32.0323 - val_abs_percentage: 0.1974\n",
      "Epoch 16/100\n",
      "655/655 [==============================] - 4s 6ms/step - loss: 129.2550 - mean_absolute_error: 129.2550 - median_error: 29.4289 - abs_percentage: 0.1836 - val_loss: 127.9401 - val_mean_absolute_error: 127.9401 - val_median_error: 30.1196 - val_abs_percentage: 0.1964\n",
      "Epoch 17/100\n",
      "655/655 [==============================] - 4s 6ms/step - loss: 132.0710 - mean_absolute_error: 132.0710 - median_error: 29.3594 - abs_percentage: 0.1854 - val_loss: 126.9420 - val_mean_absolute_error: 126.9420 - val_median_error: 30.2428 - val_abs_percentage: 0.1906\n",
      "Epoch 18/100\n",
      "655/655 [==============================] - 3s 5ms/step - loss: 129.3758 - mean_absolute_error: 129.3758 - median_error: 29.2649 - abs_percentage: 0.1823 - val_loss: 126.6341 - val_mean_absolute_error: 126.6341 - val_median_error: 28.8295 - val_abs_percentage: 0.1794\n",
      "Epoch 19/100\n",
      "655/655 [==============================] - 4s 6ms/step - loss: 129.3253 - mean_absolute_error: 129.3253 - median_error: 29.0024 - abs_percentage: 0.1824 - val_loss: 126.6207 - val_mean_absolute_error: 126.6207 - val_median_error: 28.4819 - val_abs_percentage: 0.1769\n",
      "5233/5233 [==============================] - 5s 1ms/step - loss: 132.1622 - mean_absolute_error: 132.1622 - median_error: 30.0962 - abs_percentage: 0.1794\n"
     ]
    }
   ],
   "source": [
    "# Scores for the kfolds\n",
    "scores =  { \"mean_absolute_error\": [], \"median_absolute_error\": [], \"absolute_percentage_error\": [] }\n",
    "skf = StratifiedShuffleSplit(n_splits=5, test_size=0.1, train_size=0.5, random_state=42)\n",
    "\n",
    "for train_index, test_index in skf.split(x, truth_labels):\n",
    "    X_train, X_test = x[train_index], x[test_index]\n",
    "    y_train, y_test = y[train_index], y[test_index]\n",
    "\n",
    "    shape = X_train.shape[1]\n",
    "    model = define_model(shape, \"input\")\n",
    "\n",
    "    # Compile and test model\n",
    "    model.compile(\n",
    "        optimizer=define_optimizer(),\n",
    "        loss='mean_absolute_error',\n",
    "        metrics=[\n",
    "            \"mean_absolute_error\",\n",
    "            median_error,\n",
    "            abs_percentage,\n",
    "        ])\n",
    "\n",
    "    model.fit(\n",
    "        x=X_train,\n",
    "        y=y_train,\n",
    "        epochs=100,\n",
    "        verbose=1,\n",
    "        batch_size=1024,\n",
    "        validation_split=0.2,\n",
    "        callbacks=[\n",
    "            EarlyStopping(\n",
    "                monitor=\"val_loss\",\n",
    "                patience=12,\n",
    "                min_delta=1.0,\n",
    "                restore_best_weights=True,\n",
    "            ),\n",
    "        ]\n",
    "    )\n",
    "\n",
    "    # Evaluate model\n",
    "    loss, mean_absolute_error, median_absolute_error, absolute_percentage_error = model.evaluate(X_test, y_test, verbose=1)\n",
    "    mean_absolute_error = round(mean_absolute_error, 5)\n",
    "    median_absolute_error = round(median_absolute_error, 5)\n",
    "    absolute_percentage_error = round(absolute_percentage_error * 100, 5)\n",
    "\n",
    "    scores[\"mean_absolute_error\"].append(mean_absolute_error)\n",
    "    scores[\"median_absolute_error\"].append(median_absolute_error)\n",
    "    scores[\"absolute_percentage_error\"].append(absolute_percentage_error)"
   ]
  },
  {
   "cell_type": "code",
   "execution_count": 12,
   "metadata": {},
   "outputs": [
    {
     "output_type": "execute_result",
     "data": {
      "text/plain": [
       "{'mean_absolute_error': [127.90305, 130.25229, 127.31625, 129.29553, 132.1622],\n",
       " 'median_absolute_error': [28.9619, 29.35582, 29.69861, 29.51954, 30.0962],\n",
       " 'absolute_percentage_error': [17.62165,\n",
       "  17.9152,\n",
       "  17.96013,\n",
       "  18.37344,\n",
       "  17.94345]}"
      ]
     },
     "metadata": {},
     "execution_count": 12
    }
   ],
   "source": [
    "scores"
   ]
  },
  {
   "cell_type": "code",
   "execution_count": 13,
   "metadata": {},
   "outputs": [
    {
     "output_type": "stream",
     "name": "stdout",
     "text": [
      "Test accuracy:\n",
      "Mean Absolute Error (MAE):          129.386 ( 1.729 σ)\n",
      "Median Absolute Error (MAE):         29.526 ( 0.375 σ)\n",
      "Absolute Percentage Error (MAPE):    17.963 ( 0.240 σ)\n"
     ]
    }
   ],
   "source": [
    "# scores\n",
    "mean_err_mean = np.array(scores['mean_absolute_error']).mean()\n",
    "mean_err_std = np.array(scores['mean_absolute_error']).std()\n",
    "\n",
    "median_err_mean = np.array(scores['median_absolute_error']).mean()\n",
    "median_err_std = np.array(scores['median_absolute_error']).std()\n",
    "\n",
    "percentage_err_mean = np.array(scores['absolute_percentage_error']).mean()\n",
    "percentage_err_std = np.array(scores['absolute_percentage_error']).std()\n",
    "\n",
    "print(\"Test accuracy:\")\n",
    "print(f\"Mean Absolute Error (MAE):          {pad(str(round(mean_err_mean, 3)), 3, 3)} ({pad(str(round(mean_err_std, 3)), 2, 3)} σ)\")\n",
    "print(f\"Median Absolute Error (MAE):        {pad(str(round(median_err_mean, 3)), 3, 3)} ({pad(str(round(median_err_std, 3)), 2, 3)} σ)\")\n",
    "print(f\"Absolute Percentage Error (MAPE):   {pad(str(round(percentage_err_mean, 3)), 3, 3)} ({pad(str(round(percentage_err_std, 3)), 2, 3)} σ)\")"
   ]
  },
  {
   "cell_type": "code",
   "execution_count": 14,
   "metadata": {},
   "outputs": [
    {
     "output_type": "stream",
     "name": "stdout",
     "text": [
      "Epoch 1/100\n",
      "765/765 [==============================] - 6s 6ms/step - loss: 311.4615 - mean_absolute_error: 311.4615 - median_error: 129.7301 - abs_percentage: 0.4720 - val_loss: 158.7832 - val_mean_absolute_error: 158.7832 - val_median_error: 46.3595 - val_abs_percentage: 0.1932\n",
      "Epoch 2/100\n",
      "765/765 [==============================] - 3s 5ms/step - loss: 153.3114 - mean_absolute_error: 153.3114 - median_error: 46.9572 - abs_percentage: 0.1890 - val_loss: 156.8125 - val_mean_absolute_error: 156.8125 - val_median_error: 46.9330 - val_abs_percentage: 0.1879\n",
      "Epoch 3/100\n",
      "765/765 [==============================] - 4s 5ms/step - loss: 153.3923 - mean_absolute_error: 153.3923 - median_error: 46.1080 - abs_percentage: 0.1872 - val_loss: 156.3559 - val_mean_absolute_error: 156.3559 - val_median_error: 46.4784 - val_abs_percentage: 0.1865\n",
      "Epoch 4/100\n",
      "765/765 [==============================] - 4s 5ms/step - loss: 153.3798 - mean_absolute_error: 153.3798 - median_error: 45.9957 - abs_percentage: 0.1873 - val_loss: 156.3748 - val_mean_absolute_error: 156.3748 - val_median_error: 44.5198 - val_abs_percentage: 0.1815\n",
      "Epoch 5/100\n",
      "765/765 [==============================] - 4s 5ms/step - loss: 153.1222 - mean_absolute_error: 153.1222 - median_error: 45.5841 - abs_percentage: 0.1859 - val_loss: 156.8411 - val_mean_absolute_error: 156.8411 - val_median_error: 44.1776 - val_abs_percentage: 0.1879\n",
      "Epoch 6/100\n",
      "765/765 [==============================] - 4s 5ms/step - loss: 151.2307 - mean_absolute_error: 151.2307 - median_error: 45.6680 - abs_percentage: 0.1869 - val_loss: 156.1528 - val_mean_absolute_error: 156.1528 - val_median_error: 44.3416 - val_abs_percentage: 0.1875\n",
      "Epoch 7/100\n",
      "765/765 [==============================] - 4s 5ms/step - loss: 151.4481 - mean_absolute_error: 151.4481 - median_error: 45.7608 - abs_percentage: 0.1863 - val_loss: 155.9667 - val_mean_absolute_error: 155.9667 - val_median_error: 45.6888 - val_abs_percentage: 0.1816\n",
      "Epoch 8/100\n",
      "765/765 [==============================] - 4s 5ms/step - loss: 152.9612 - mean_absolute_error: 152.9612 - median_error: 45.3968 - abs_percentage: 0.1856 - val_loss: 155.8784 - val_mean_absolute_error: 155.8784 - val_median_error: 45.0203 - val_abs_percentage: 0.1817\n",
      "Epoch 9/100\n",
      "765/765 [==============================] - 4s 5ms/step - loss: 152.3303 - mean_absolute_error: 152.3303 - median_error: 45.5787 - abs_percentage: 0.1852 - val_loss: 156.2221 - val_mean_absolute_error: 156.2221 - val_median_error: 44.5025 - val_abs_percentage: 0.1976\n",
      "Epoch 10/100\n",
      "765/765 [==============================] - 4s 6ms/step - loss: 151.1344 - mean_absolute_error: 151.1344 - median_error: 45.6267 - abs_percentage: 0.1860 - val_loss: 156.0335 - val_mean_absolute_error: 156.0335 - val_median_error: 46.1386 - val_abs_percentage: 0.1864\n",
      "Epoch 11/100\n",
      "765/765 [==============================] - 4s 6ms/step - loss: 151.2826 - mean_absolute_error: 151.2826 - median_error: 45.4695 - abs_percentage: 0.1848 - val_loss: 155.8904 - val_mean_absolute_error: 155.8904 - val_median_error: 47.0347 - val_abs_percentage: 0.1843\n",
      "Epoch 12/100\n",
      "765/765 [==============================] - 4s 5ms/step - loss: 152.3569 - mean_absolute_error: 152.3569 - median_error: 45.2336 - abs_percentage: 0.1849 - val_loss: 155.9211 - val_mean_absolute_error: 155.9211 - val_median_error: 44.4428 - val_abs_percentage: 0.1836\n",
      "Epoch 13/100\n",
      "765/765 [==============================] - 4s 6ms/step - loss: 150.6360 - mean_absolute_error: 150.6360 - median_error: 45.4755 - abs_percentage: 0.1845 - val_loss: 158.8110 - val_mean_absolute_error: 158.8110 - val_median_error: 51.5133 - val_abs_percentage: 0.1963\n",
      "Epoch 14/100\n",
      "765/765 [==============================] - 4s 5ms/step - loss: 152.5825 - mean_absolute_error: 152.5825 - median_error: 45.5639 - abs_percentage: 0.1855 - val_loss: 155.9431 - val_mean_absolute_error: 155.9431 - val_median_error: 45.6193 - val_abs_percentage: 0.1826\n"
     ]
    },
    {
     "output_type": "execute_result",
     "data": {
      "text/plain": [
       "<tensorflow.python.keras.callbacks.History at 0x1cbb66025b0>"
      ]
     },
     "metadata": {},
     "execution_count": 14
    }
   ],
   "source": [
    "# Run model on whole set\n",
    "X_train, X_test, y_train, y_test = train_test_split(X, Y, test_size=0.2, stratify=Y_class)\n",
    "\n",
    "shape = X_train.shape[1]\n",
    "model = define_model(shape, \"input\")\n",
    "\n",
    "# Compile and test model\n",
    "model.compile(\n",
    "    optimizer=define_optimizer(),\n",
    "    loss='mean_absolute_error',\n",
    "    metrics=[\n",
    "        \"mean_absolute_error\",\n",
    "        median_error,\n",
    "        abs_percentage,\n",
    "    ])\n",
    "\n",
    "model.fit(\n",
    "    x=X_train,\n",
    "    y=y_train,\n",
    "    epochs=100,\n",
    "    verbose=1,\n",
    "    batch_size=1024,\n",
    "    validation_split=0.2,\n",
    "    callbacks=[\n",
    "        EarlyStopping(\n",
    "            monitor=\"val_loss\",\n",
    "            patience=12,\n",
    "            min_delta=1.0,\n",
    "            restore_best_weights=True,\n",
    "        ),\n",
    "    ]\n",
    ")"
   ]
  },
  {
   "cell_type": "code",
   "execution_count": 15,
   "metadata": {},
   "outputs": [
    {
     "output_type": "stream",
     "name": "stdout",
     "text": [
      "7648/7648 [==============================] - 7s 910us/step - loss: 153.4822 - mean_absolute_error: 153.4822 - median_error: 45.5425 - abs_percentage: 0.1836\n",
      "Test accuracy:\n",
      "Mean Absolute Error (MAE):        153.482\n",
      "Median Absolute Error (MAE):       45.542\n",
      "Absolute Percentage Error (MAPE):  18.359\n"
     ]
    }
   ],
   "source": [
    "# Evaluate model\n",
    "loss, mean_absolute_error, median_absolute_error, absolute_percentage_error = model.evaluate(X_test, y_test, verbose=1)\n",
    "\n",
    "print(\"Test accuracy:\")\n",
    "print(f\"Mean Absolute Error (MAE):        {pad(str(round(mean_absolute_error, 3)), 3, 3)}\")\n",
    "print(f\"Median Absolute Error (MAE):      {pad(str(round(median_absolute_error, 3)), 3, 3)}\")\n",
    "print(f\"Absolute Percentage Error (MAPE): {pad(str(round(absolute_percentage_error * 100, 3)), 3, 3)}\")"
   ]
  },
  {
   "cell_type": "code",
   "execution_count": 16,
   "metadata": {},
   "outputs": [],
   "source": [
    "# Lets add it back to the original data and visually inspect the results\n",
    "df = pd.read_sql_query(\"SELECT * FROM 'buildings' ORDER BY RANDOM();\", db_cnx)\n",
    "\n",
    "scaler = StandardScaler()\n",
    "cols = ['area', 'perimeter', 'ipq']\n",
    "\n",
    "x = df_scaled = scaler.fit_transform(df[cols])\n",
    "\n",
    "pred = model.predict(x)"
   ]
  },
  {
   "cell_type": "code",
   "execution_count": 17,
   "metadata": {},
   "outputs": [],
   "source": [
    "# Add the predictions back to the list\n",
    "df['pred_vol'] = pred\n",
    "df['abs_p_err'] = (abs(df['vol_sum'] - df['pred_vol'])) / df['vol_sum']\n",
    "\n",
    "# The original volume if it works, otherwise the infered volume.\n",
    "df['use_vol'] = df['vol_sum']\n",
    "df.loc[(df['area_vol_ratio'] < 1) | (df['vol_sum'] < 1), 'use_vol'] = df['pred_vol']"
   ]
  },
  {
   "cell_type": "code",
   "execution_count": 18,
   "metadata": {},
   "outputs": [],
   "source": [
    "# Set the error to -1 when it's an infered value\n",
    "df.loc[(df['area_vol_ratio'] < 1) | (df['vol_sum'] < 1), 'abs_p_err'] = -1"
   ]
  },
  {
   "cell_type": "code",
   "execution_count": 19,
   "metadata": {},
   "outputs": [
    {
     "output_type": "stream",
     "name": "stdout",
     "text": [
      "2021-01-25 12:25:48,865 INFO sqlalchemy.engine.base.Engine SELECT CAST('test plain returns' AS VARCHAR(60)) AS anon_1\n",
      "2021-01-25 12:25:48,866 INFO sqlalchemy.engine.base.Engine ()\n",
      "2021-01-25 12:25:48,867 INFO sqlalchemy.engine.base.Engine SELECT CAST('test unicode returns' AS VARCHAR(60)) AS anon_1\n",
      "2021-01-25 12:25:48,869 INFO sqlalchemy.engine.base.Engine ()\n",
      "2021-01-25 12:25:48,873 INFO sqlalchemy.engine.base.Engine PRAGMA main.table_info(\"buildings_pred\")\n",
      "2021-01-25 12:25:48,875 INFO sqlalchemy.engine.base.Engine ()\n",
      "2021-01-25 12:25:48,877 INFO sqlalchemy.engine.base.Engine PRAGMA temp.table_info(\"buildings_pred\")\n",
      "2021-01-25 12:25:48,878 INFO sqlalchemy.engine.base.Engine ()\n",
      "2021-01-25 12:25:48,880 INFO sqlalchemy.engine.base.Engine \n",
      "CREATE TABLE buildings_pred (\n",
      "\t\"index\" BIGINT, \n",
      "\togc_fid BIGINT, \n",
      "\tfid BIGINT, \n",
      "\thot_mean FLOAT, \n",
      "\tvol_sum FLOAT, \n",
      "\tarea FLOAT, \n",
      "\tperimeter FLOAT, \n",
      "\tipq FLOAT, \n",
      "\tarea_vol_ratio FLOAT, \n",
      "\tpred_vol FLOAT, \n",
      "\tabs_p_err FLOAT, \n",
      "\tuse_vol FLOAT\n",
      ")\n",
      "\n",
      "\n",
      "2021-01-25 12:25:48,881 INFO sqlalchemy.engine.base.Engine ()\n",
      "2021-01-25 12:25:48,888 INFO sqlalchemy.engine.base.Engine COMMIT\n",
      "2021-01-25 12:25:48,889 INFO sqlalchemy.engine.base.Engine CREATE INDEX ix_buildings_pred_index ON buildings_pred (\"index\")\n",
      "2021-01-25 12:25:48,890 INFO sqlalchemy.engine.base.Engine ()\n",
      "2021-01-25 12:25:48,897 INFO sqlalchemy.engine.base.Engine COMMIT\n",
      "2021-01-25 12:25:49,775 INFO sqlalchemy.engine.base.Engine BEGIN (implicit)\n",
      "2021-01-25 12:26:04,798 INFO sqlalchemy.engine.base.Engine INSERT INTO buildings_pred (\"index\", ogc_fid, fid, hot_mean, vol_sum, area, perimeter, ipq, area_vol_ratio, pred_vol, abs_p_err, use_vol) VALUES (?, ?, ?, ?, ?, ?, ?, ?, ?, ?, ?, ?)\n",
      "2021-01-25 12:26:04,840 INFO sqlalchemy.engine.base.Engine ((0, 1328335, 1328335, 3.5124218827587064, 563.6734637451169, 160.10158887840703, 56.358303857146474, 0.6334169452790323, 3.520723733561521, 596.0094604492188, 0.05736654070826295, 563.6734637451169), (1, 993720, 993720, 3.705192837426671, 166.58546997070306, 47.15218310965347, 30.357738871760073, 0.6429435252275038, 3.5329322840324227, 161.6708984375, 0.029501801892250094, 166.58546997070306), (2, 374538, 374538, 3.91896131370641, 396.2853680419916, 101.19006947612179, 40.796700249707115, 0.7640076074177875, 3.916247612968628, 450.4346923828125, 0.13664225002393496, 396.2853680419916), (3, 546149, 546149, 2.2385534979217683, 143.98376098632792, 63.99541480078359, 39.66272823925726, 0.5112031884089827, 2.2499074571912128, 230.74949645996094, 0.6026077863174578, 143.98376098632792), (4, 157418, 157418, 2.3181349579544315, 115.35039550781256, 50.00181103404677, 29.176475795276282, 0.7381250311350559, 2.3069243517853635, 187.64321899414062, 0.626723672407623, 115.35039550781256), (5, 1085440, 1085440, 5.9415943641401725, 1807.195341796876, 293.39296331248573, 122.27723846330039, 0.24658594205061443, 6.159641054076937, 925.2666625976562, 0.48800960184100906, 1807.195341796876), (6, 394433, 394433, 1.957790446281433, 6.264929428100587, 3.206326252457557, 8.877475078289931, 0.5112562749203816, 1.9539276214635672, 12.843700408935547, 1.0500949861185465, 6.264929428100587), (7, 469404, 469404, 3.596581362728374, 404.54347167968757, 114.48707190123686, 44.22478315906791, 0.7355884268035787, 3.5335297248991577, 487.62640380859375, 0.2053745467302713, 404.54347167968757)  ... displaying 10 of 1799817 total bound parameter sets ...  (1799815, 933367, 933367, 2.510041583668102, 17.67069274902344, 8.323296381619565, 16.48604993971554, 0.3848327297971386, 2.1230401921101647, 34.57178497314453, 0.9564476313502264, 17.67069274902344), (1799816, 172379, 172379, 1.711415560740345, 14.512803955078123, 8.430194580813785, 11.685175439585864, 0.7758486137044746, 1.7215265692808208, 21.065677642822266, 0.4515236137708075, 14.512803955078123))\n",
      "2021-01-25 12:26:11,031 INFO sqlalchemy.engine.base.Engine COMMIT\n"
     ]
    }
   ],
   "source": [
    "from sqlalchemy import create_engine\n",
    "\n",
    "engine = create_engine('sqlite:///C:/Users/caspe/Desktop/Paper_2_StructuralVolume/buildings/buildings_pred.sqlite', echo=True)\n",
    "sqlite_connection = engine.connect()\n",
    "\n",
    "df.to_sql('buildings_pred', sqlite_connection, if_exists='fail')\n",
    "sqlite_connection.close()"
   ]
  }
 ]
}