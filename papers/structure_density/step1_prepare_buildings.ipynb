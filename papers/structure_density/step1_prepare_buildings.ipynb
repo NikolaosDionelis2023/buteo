{
 "metadata": {
  "language_info": {
   "codemirror_mode": {
    "name": "ipython",
    "version": 3
   },
   "file_extension": ".py",
   "mimetype": "text/x-python",
   "name": "python",
   "nbconvert_exporter": "python",
   "pygments_lexer": "ipython3",
   "version": "3.8.3-final"
  },
  "orig_nbformat": 2,
  "kernelspec": {
   "name": "green",
   "display_name": "green",
   "language": "python"
  }
 },
 "nbformat": 4,
 "nbformat_minor": 2,
 "cells": [
  {
   "source": [
    "## Read sklearn and the yellow toolbox"
   ],
   "cell_type": "markdown",
   "metadata": {}
  },
  {
   "cell_type": "code",
   "execution_count": 1,
   "metadata": {},
   "outputs": [],
   "source": [
    "yellow_follow = 'C:/Users/caspe/Desktop/yellow/lib'\n",
    "\n",
    "import sys; sys.path.append(yellow_follow) \n",
    "import sqlite3\n",
    "import pandas as pd\n",
    "import ml_utils\n",
    "import numpy as np\n",
    "\n",
    "from sklearn.model_selection import train_test_split, StratifiedShuffleSplit\n",
    "from sklearn.preprocessing import StandardScaler"
   ]
  },
  {
   "cell_type": "code",
   "execution_count": 2,
   "metadata": {},
   "outputs": [],
   "source": [
    "import tensorflow as tf\n",
    "import tensorflow_addons as tfa\n",
    "from tensorflow.keras import Model, Input\n",
    "from tensorflow.keras.layers import Dense\n",
    "from tensorflow.keras.optimizers import Adam\n",
    "from tensorflow.keras.callbacks import EarlyStopping"
   ]
  },
  {
   "source": [
    "## Load datasets and scale them"
   ],
   "cell_type": "markdown",
   "metadata": {}
  },
  {
   "cell_type": "code",
   "execution_count": 3,
   "metadata": {},
   "outputs": [],
   "source": [
    "# Local folder\n",
    "folder = \"C:/Users/caspe/Desktop/Paper_2_StructuralVolume/raw/\"\n",
    "\n",
    "in_path = folder + \"buildings.sqlite\"\n",
    "\n",
    "db_cnx = sqlite3.connect(in_path)\n",
    "\n",
    "df = pd.read_sql_query(\"SELECT * FROM 'buildings' WHERE buildings.area_vol_ratio >= 1 AND buildings.vol_sum > 1 ORDER BY RANDOM();\", db_cnx)\n",
    "df['pred_vol'] = np.nan\n",
    "\n",
    "scaler = StandardScaler()\n",
    "cols = ['area', 'perimeter', 'ipq']"
   ]
  },
  {
   "cell_type": "code",
   "execution_count": 4,
   "metadata": {},
   "outputs": [
    {
     "output_type": "execute_result",
     "data": {
      "text/plain": [
       "522.8423209885112"
      ]
     },
     "metadata": {},
     "execution_count": 4
    }
   ],
   "source": [
    "# What is the mean building size?\n",
    "df['vol_sum'].mean()"
   ]
  },
  {
   "cell_type": "code",
   "execution_count": 5,
   "metadata": {},
   "outputs": [
    {
     "output_type": "execute_result",
     "data": {
      "text/plain": [
       "178.02704305648808"
      ]
     },
     "metadata": {},
     "execution_count": 5
    }
   ],
   "source": [
    "# What is the mean building size?\n",
    "df['vol_sum'].median()"
   ]
  },
  {
   "cell_type": "code",
   "execution_count": 9,
   "metadata": {},
   "outputs": [
    {
     "output_type": "stream",
     "name": "stdout",
     "text": [
      "Total out out sync: 125547\nTotal: 1674270\nPercent: 7.5\n"
     ]
    }
   ],
   "source": [
    "# How many are taken out for reevaluation?\n",
    "df_total = pd.read_sql_query(\"SELECT * FROM 'buildings' WHERE buildings.area_vol_ratio < 1 OR buildings.vol_sum <= 1;\", db_cnx)\n",
    "print(f\"Total out out sync: {len(df_total)}\")\n",
    "print(f\"Total: {len(df)}\")\n",
    "print(f\"Percent: {round((len(df_total) / len(df)) * 100, 2)}\")\n",
    "del df_total"
   ]
  },
  {
   "cell_type": "code",
   "execution_count": 10,
   "metadata": {},
   "outputs": [],
   "source": [
    "# Ready the traning data\n",
    "x = df_scaled = scaler.fit_transform(df[cols])\n",
    "y = df[['vol_sum']].values"
   ]
  },
  {
   "cell_type": "code",
   "execution_count": 11,
   "metadata": {},
   "outputs": [],
   "source": [
    "# Create a balance mask, to ensure the classes are balanced\n",
    "labels = [50, 150, 300, 500, 800]\n",
    "truth_labels = np.rot90(np.digitize(y, labels))[0]\n",
    "freq = ml_utils.count_freq(truth_labels)\n",
    "minority = freq.min(axis=0)[1]\n",
    "balance_mask = ml_utils.minority_class_mask(truth_labels, minority)"
   ]
  },
  {
   "source": [
    "## Investigate the classes"
   ],
   "cell_type": "markdown",
   "metadata": {}
  },
  {
   "cell_type": "code",
   "execution_count": 12,
   "metadata": {},
   "outputs": [
    {
     "output_type": "execute_result",
     "data": {
      "text/plain": [
       "array([[     0, 402273],\n",
       "       [     1, 383556],\n",
       "       [     2, 203936],\n",
       "       [     3, 212904],\n",
       "       [     4, 237773],\n",
       "       [     5, 233828]], dtype=int64)"
      ]
     },
     "metadata": {},
     "execution_count": 12
    }
   ],
   "source": [
    "freq"
   ]
  },
  {
   "cell_type": "code",
   "execution_count": 13,
   "metadata": {},
   "outputs": [],
   "source": [
    "X = x[balance_mask]\n",
    "Y = y[balance_mask]\n",
    "Y_class = truth_labels[balance_mask]"
   ]
  },
  {
   "source": [
    "# Deep Learning step"
   ],
   "cell_type": "markdown",
   "metadata": {}
  },
  {
   "cell_type": "code",
   "execution_count": 14,
   "metadata": {},
   "outputs": [],
   "source": [
    "# Define model\n",
    "def define_model(shape, name):\n",
    "    model_input = Input(shape=shape, name=\"input\")\n",
    "    model = Dense(128, activation=tfa.activations.mish, kernel_initializer=\"he_normal\")(model_input)\n",
    "    model = Dense(64, activation=tfa.activations.mish, kernel_initializer=\"he_normal\")(model)\n",
    "    model = Dense(16, activation=tfa.activations.mish, kernel_initializer=\"he_normal\")(model)\n",
    "    model = Dense(8, activation=tfa.activations.mish, kernel_initializer=\"he_normal\")(model)\n",
    "\n",
    "    predictions = Dense(1, activation=\"relu\", dtype=\"float32\")(model) # Relu because we know volume will always be positive\n",
    "\n",
    "    return Model(inputs=[model_input], outputs=predictions)"
   ]
  },
  {
   "cell_type": "code",
   "execution_count": 15,
   "metadata": {},
   "outputs": [],
   "source": [
    "# Define Optimizer\n",
    "def define_optimizer():\n",
    "    return tfa.optimizers.Lookahead(\n",
    "        Adam(\n",
    "            learning_rate=tfa.optimizers.TriangularCyclicalLearningRate(\n",
    "                initial_learning_rate=1e-5,\n",
    "                maximal_learning_rate=1e-2,\n",
    "                step_size=9,\n",
    "                scale_mode='cycle',\n",
    "                name='TriangularCyclicalLearningRate',\n",
    "            ),\n",
    "            name=\"Adam\",\n",
    "        )\n",
    "    )"
   ]
  },
  {
   "cell_type": "code",
   "execution_count": 16,
   "metadata": {
    "tags": [
     "outputPrepend"
    ]
   },
   "outputs": [
    {
     "output_type": "stream",
     "name": "stdout",
     "text": [
      "rror: 18.1589 - val_loss: 178.0352 - val_mean_absolute_error: 178.0352 - val_mean_absolute_percentage_error: 28.2013 - val_median_absolute_error: 35.3929 - val_median_absolute_percentage_error: 23.9182\n",
      "Epoch 20/100\n",
      "655/655 [==============================] - 9s 13ms/step - loss: 140.4516 - mean_absolute_error: 140.4516 - mean_absolute_percentage_error: 28.4938 - median_absolute_error: 30.6523 - median_absolute_percentage_error: 20.0829 - val_loss: 127.9746 - val_mean_absolute_error: 127.9746 - val_mean_absolute_percentage_error: 24.5158 - val_median_absolute_error: 30.0894 - val_median_absolute_percentage_error: 17.8210\n",
      "Epoch 21/100\n",
      "655/655 [==============================] - 10s 15ms/step - loss: 128.1977 - mean_absolute_error: 128.1977 - mean_absolute_percentage_error: 24.8206 - median_absolute_error: 29.2359 - median_absolute_percentage_error: 18.1211 - val_loss: 127.9749 - val_mean_absolute_error: 127.9749 - val_mean_absolute_percentage_error: 24.1140 - val_median_absolute_error: 29.0838 - val_median_absolute_percentage_error: 17.7100\n",
      "Epoch 22/100\n",
      "655/655 [==============================] - 9s 14ms/step - loss: 129.0470 - mean_absolute_error: 129.0470 - mean_absolute_percentage_error: 24.8690 - median_absolute_error: 28.9773 - median_absolute_percentage_error: 18.1275 - val_loss: 131.3209 - val_mean_absolute_error: 131.3209 - val_mean_absolute_percentage_error: 27.9674 - val_median_absolute_error: 33.4990 - val_median_absolute_percentage_error: 22.5490\n",
      "Epoch 23/100\n",
      "655/655 [==============================] - 8s 12ms/step - loss: 129.3258 - mean_absolute_error: 129.3258 - mean_absolute_percentage_error: 25.0759 - median_absolute_error: 29.1941 - median_absolute_percentage_error: 18.3705 - val_loss: 128.2911 - val_mean_absolute_error: 128.2911 - val_mean_absolute_percentage_error: 25.0562 - val_median_absolute_error: 27.1142 - val_median_absolute_percentage_error: 18.0993\n",
      "Epoch 24/100\n",
      "655/655 [==============================] - 8s 12ms/step - loss: 128.9260 - mean_absolute_error: 128.9260 - mean_absolute_percentage_error: 24.7515 - median_absolute_error: 28.7911 - median_absolute_percentage_error: 18.1627 - val_loss: 127.4218 - val_mean_absolute_error: 127.4218 - val_mean_absolute_percentage_error: 24.4717 - val_median_absolute_error: 29.1800 - val_median_absolute_percentage_error: 17.8668\n",
      "5233/5233 [==============================] - 23s 4ms/step - loss: 130.5105 - mean_absolute_error: 130.5105 - mean_absolute_percentage_error: 24.4762 - median_absolute_error: 29.7639 - median_absolute_percentage_error: 17.6277\n",
      "Epoch 1/100\n",
      "655/655 [==============================] - 12s 16ms/step - loss: 236.9026 - mean_absolute_error: 236.9026 - mean_absolute_percentage_error: 76.7337 - median_absolute_error: 69.8157 - median_absolute_percentage_error: 43.7239 - val_loss: 132.5748 - val_mean_absolute_error: 132.5748 - val_mean_absolute_percentage_error: 28.0568 - val_median_absolute_error: 32.3918 - val_median_absolute_percentage_error: 20.2752\n",
      "Epoch 2/100\n",
      "655/655 [==============================] - 9s 13ms/step - loss: 130.8107 - mean_absolute_error: 130.8107 - mean_absolute_percentage_error: 27.2436 - median_absolute_error: 30.1541 - median_absolute_percentage_error: 19.2358 - val_loss: 132.4684 - val_mean_absolute_error: 132.4684 - val_mean_absolute_percentage_error: 39.0569 - val_median_absolute_error: 30.0133 - val_median_absolute_percentage_error: 19.4774\n",
      "Epoch 3/100\n",
      "655/655 [==============================] - 10s 15ms/step - loss: 129.9325 - mean_absolute_error: 129.9325 - mean_absolute_percentage_error: 26.9746 - median_absolute_error: 29.4220 - median_absolute_percentage_error: 18.8869 - val_loss: 132.0156 - val_mean_absolute_error: 132.0156 - val_mean_absolute_percentage_error: 25.2773 - val_median_absolute_error: 27.5132 - val_median_absolute_percentage_error: 18.4289\n",
      "Epoch 4/100\n",
      "655/655 [==============================] - 10s 15ms/step - loss: 130.8863 - mean_absolute_error: 130.8863 - mean_absolute_percentage_error: 26.9552 - median_absolute_error: 29.5724 - median_absolute_percentage_error: 19.0234 - val_loss: 182.1424 - val_mean_absolute_error: 182.1424 - val_mean_absolute_percentage_error: 34.5053 - val_median_absolute_error: 35.6446 - val_median_absolute_percentage_error: 27.0594\n",
      "Epoch 5/100\n",
      "655/655 [==============================] - 9s 13ms/step - loss: 131.5188 - mean_absolute_error: 131.5188 - mean_absolute_percentage_error: 27.2444 - median_absolute_error: 29.9281 - median_absolute_percentage_error: 19.0835 - val_loss: 129.8693 - val_mean_absolute_error: 129.8693 - val_mean_absolute_percentage_error: 27.4043 - val_median_absolute_error: 32.0722 - val_median_absolute_percentage_error: 19.1772\n",
      "Epoch 6/100\n",
      "655/655 [==============================] - 10s 15ms/step - loss: 129.4468 - mean_absolute_error: 129.4468 - mean_absolute_percentage_error: 26.1052 - median_absolute_error: 29.5623 - median_absolute_percentage_error: 18.5784 - val_loss: 128.9185 - val_mean_absolute_error: 128.9185 - val_mean_absolute_percentage_error: 25.7043 - val_median_absolute_error: 30.0741 - val_median_absolute_percentage_error: 18.6872\n",
      "Epoch 7/100\n",
      "655/655 [==============================] - 11s 16ms/step - loss: 128.6929 - mean_absolute_error: 128.6929 - mean_absolute_percentage_error: 25.8777 - median_absolute_error: 29.3614 - median_absolute_percentage_error: 18.5182 - val_loss: 132.2150 - val_mean_absolute_error: 132.2150 - val_mean_absolute_percentage_error: 25.9600 - val_median_absolute_error: 29.5502 - val_median_absolute_percentage_error: 18.6054\n",
      "Epoch 8/100\n",
      "655/655 [==============================] - 10s 15ms/step - loss: 130.4927 - mean_absolute_error: 130.4927 - mean_absolute_percentage_error: 26.1811 - median_absolute_error: 29.5306 - median_absolute_percentage_error: 18.6396 - val_loss: 128.6497 - val_mean_absolute_error: 128.6497 - val_mean_absolute_percentage_error: 25.0987 - val_median_absolute_error: 29.6520 - val_median_absolute_percentage_error: 18.2904\n",
      "Epoch 9/100\n",
      "655/655 [==============================] - 9s 14ms/step - loss: 128.5550 - mean_absolute_error: 128.5550 - mean_absolute_percentage_error: 25.8375 - median_absolute_error: 29.4100 - median_absolute_percentage_error: 18.5625 - val_loss: 131.3535 - val_mean_absolute_error: 131.3535 - val_mean_absolute_percentage_error: 29.6637 - val_median_absolute_error: 32.6742 - val_median_absolute_percentage_error: 21.4636\n",
      "Epoch 10/100\n",
      "655/655 [==============================] - 9s 14ms/step - loss: 130.2112 - mean_absolute_error: 130.2112 - mean_absolute_percentage_error: 25.9753 - median_absolute_error: 29.4540 - median_absolute_percentage_error: 18.5230 - val_loss: 129.2569 - val_mean_absolute_error: 129.2569 - val_mean_absolute_percentage_error: 25.7427 - val_median_absolute_error: 30.2621 - val_median_absolute_percentage_error: 18.6348\n",
      "Epoch 11/100\n",
      "655/655 [==============================] - 9s 14ms/step - loss: 130.0846 - mean_absolute_error: 130.0846 - mean_absolute_percentage_error: 25.1757 - median_absolute_error: 29.1783 - median_absolute_percentage_error: 18.3260 - val_loss: 130.2630 - val_mean_absolute_error: 130.2630 - val_mean_absolute_percentage_error: 25.5901 - val_median_absolute_error: 29.2099 - val_median_absolute_percentage_error: 18.8620\n",
      "Epoch 12/100\n",
      "655/655 [==============================] - 7s 11ms/step - loss: 128.0793 - mean_absolute_error: 128.0793 - mean_absolute_percentage_error: 25.4695 - median_absolute_error: 29.2776 - median_absolute_percentage_error: 18.4268 - val_loss: 130.8049 - val_mean_absolute_error: 130.8049 - val_mean_absolute_percentage_error: 25.7944 - val_median_absolute_error: 31.5459 - val_median_absolute_percentage_error: 19.0120\n",
      "Epoch 13/100\n",
      "655/655 [==============================] - 7s 11ms/step - loss: 128.4476 - mean_absolute_error: 128.4476 - mean_absolute_percentage_error: 25.1341 - median_absolute_error: 29.3331 - median_absolute_percentage_error: 18.3326 - val_loss: 128.3475 - val_mean_absolute_error: 128.3475 - val_mean_absolute_percentage_error: 24.2936 - val_median_absolute_error: 29.3346 - val_median_absolute_percentage_error: 17.9608\n",
      "Epoch 14/100\n",
      "655/655 [==============================] - 8s 12ms/step - loss: 130.7178 - mean_absolute_error: 130.7178 - mean_absolute_percentage_error: 25.1080 - median_absolute_error: 29.0905 - median_absolute_percentage_error: 18.2749 - val_loss: 130.6667 - val_mean_absolute_error: 130.6667 - val_mean_absolute_percentage_error: 27.0834 - val_median_absolute_error: 31.5648 - val_median_absolute_percentage_error: 19.3702\n",
      "Epoch 15/100\n",
      "655/655 [==============================] - 9s 14ms/step - loss: 129.7837 - mean_absolute_error: 129.7837 - mean_absolute_percentage_error: 25.0848 - median_absolute_error: 29.0666 - median_absolute_percentage_error: 18.3011 - val_loss: 130.0318 - val_mean_absolute_error: 130.0318 - val_mean_absolute_percentage_error: 30.4637 - val_median_absolute_error: 28.2843 - val_median_absolute_percentage_error: 22.0456\n",
      "Epoch 16/100\n",
      "655/655 [==============================] - 9s 13ms/step - loss: 130.0949 - mean_absolute_error: 130.0949 - mean_absolute_percentage_error: 25.1409 - median_absolute_error: 29.1705 - median_absolute_percentage_error: 18.4355 - val_loss: 129.7781 - val_mean_absolute_error: 129.7781 - val_mean_absolute_percentage_error: 26.1953 - val_median_absolute_error: 28.8051 - val_median_absolute_percentage_error: 19.5892\n",
      "Epoch 17/100\n",
      "655/655 [==============================] - 9s 14ms/step - loss: 130.9220 - mean_absolute_error: 130.9220 - mean_absolute_percentage_error: 25.0620 - median_absolute_error: 29.3338 - median_absolute_percentage_error: 18.3610 - val_loss: 130.7056 - val_mean_absolute_error: 130.7056 - val_mean_absolute_percentage_error: 26.6217 - val_median_absolute_error: 32.0053 - val_median_absolute_percentage_error: 19.4898\n",
      "Epoch 18/100\n",
      "655/655 [==============================] - 9s 14ms/step - loss: 129.1607 - mean_absolute_error: 129.1607 - mean_absolute_percentage_error: 24.7826 - median_absolute_error: 29.3775 - median_absolute_percentage_error: 18.1782 - val_loss: 128.3785 - val_mean_absolute_error: 128.3785 - val_mean_absolute_percentage_error: 24.4647 - val_median_absolute_error: 28.8038 - val_median_absolute_percentage_error: 18.1719\n",
      "Epoch 19/100\n",
      "655/655 [==============================] - 10s 15ms/step - loss: 130.6252 - mean_absolute_error: 130.6252 - mean_absolute_percentage_error: 24.9170 - median_absolute_error: 29.1940 - median_absolute_percentage_error: 18.2461 - val_loss: 130.7761 - val_mean_absolute_error: 130.7761 - val_mean_absolute_percentage_error: 24.9552 - val_median_absolute_error: 31.0690 - val_median_absolute_percentage_error: 19.4735\n",
      "Epoch 20/100\n",
      "655/655 [==============================] - 9s 14ms/step - loss: 129.2074 - mean_absolute_error: 129.2074 - mean_absolute_percentage_error: 24.9000 - median_absolute_error: 28.8828 - median_absolute_percentage_error: 18.3020 - val_loss: 130.1341 - val_mean_absolute_error: 130.1341 - val_mean_absolute_percentage_error: 24.2812 - val_median_absolute_error: 27.9692 - val_median_absolute_percentage_error: 18.9884\n",
      "5233/5233 [==============================] - 20s 4ms/step - loss: 127.3152 - mean_absolute_error: 127.3152 - mean_absolute_percentage_error: 24.9312 - median_absolute_error: 29.7444 - median_absolute_percentage_error: 17.8201\n",
      "Epoch 1/100\n",
      "655/655 [==============================] - 11s 14ms/step - loss: 267.6239 - mean_absolute_error: 267.6239 - mean_absolute_percentage_error: 69.6336 - median_absolute_error: 78.2465 - median_absolute_percentage_error: 47.6128 - val_loss: 133.0220 - val_mean_absolute_error: 133.0220 - val_mean_absolute_percentage_error: 49.1763 - val_median_absolute_error: 33.8311 - val_median_absolute_percentage_error: 27.4363\n",
      "Epoch 2/100\n",
      "655/655 [==============================] - 8s 12ms/step - loss: 130.6638 - mean_absolute_error: 130.6638 - mean_absolute_percentage_error: 27.9691 - median_absolute_error: 29.8168 - median_absolute_percentage_error: 19.4933 - val_loss: 127.6731 - val_mean_absolute_error: 127.6731 - val_mean_absolute_percentage_error: 25.7537 - val_median_absolute_error: 30.3270 - val_median_absolute_percentage_error: 18.5130\n",
      "Epoch 3/100\n",
      "655/655 [==============================] - 9s 14ms/step - loss: 129.9480 - mean_absolute_error: 129.9480 - mean_absolute_percentage_error: 26.6385 - median_absolute_error: 29.6073 - median_absolute_percentage_error: 19.0532 - val_loss: 127.1136 - val_mean_absolute_error: 127.1136 - val_mean_absolute_percentage_error: 25.4784 - val_median_absolute_error: 29.6553 - val_median_absolute_percentage_error: 18.3668\n",
      "Epoch 4/100\n",
      "655/655 [==============================] - 10s 15ms/step - loss: 130.6997 - mean_absolute_error: 130.6997 - mean_absolute_percentage_error: 26.2871 - median_absolute_error: 29.5713 - median_absolute_percentage_error: 18.8512 - val_loss: 137.0732 - val_mean_absolute_error: 137.0732 - val_mean_absolute_percentage_error: 54.6026 - val_median_absolute_error: 38.0435 - val_median_absolute_percentage_error: 26.5324\n",
      "Epoch 5/100\n",
      "655/655 [==============================] - 10s 15ms/step - loss: 130.2868 - mean_absolute_error: 130.2868 - mean_absolute_percentage_error: 26.5104 - median_absolute_error: 29.5968 - median_absolute_percentage_error: 18.9115 - val_loss: 127.4553 - val_mean_absolute_error: 127.4553 - val_mean_absolute_percentage_error: 26.8401 - val_median_absolute_error: 30.4148 - val_median_absolute_percentage_error: 18.6817\n",
      "Epoch 6/100\n",
      "655/655 [==============================] - 9s 14ms/step - loss: 130.7464 - mean_absolute_error: 130.7464 - mean_absolute_percentage_error: 25.7132 - median_absolute_error: 28.9602 - median_absolute_percentage_error: 18.5462 - val_loss: 126.8081 - val_mean_absolute_error: 126.8081 - val_mean_absolute_percentage_error: 26.5960 - val_median_absolute_error: 30.5210 - val_median_absolute_percentage_error: 18.9103\n",
      "Epoch 7/100\n",
      "655/655 [==============================] - 8s 12ms/step - loss: 129.6451 - mean_absolute_error: 129.6451 - mean_absolute_percentage_error: 25.9050 - median_absolute_error: 29.3990 - median_absolute_percentage_error: 18.6356 - val_loss: 129.5377 - val_mean_absolute_error: 129.5377 - val_mean_absolute_percentage_error: 37.4753 - val_median_absolute_error: 32.4952 - val_median_absolute_percentage_error: 19.5286\n",
      "Epoch 8/100\n",
      "655/655 [==============================] - 9s 14ms/step - loss: 131.4095 - mean_absolute_error: 131.4095 - mean_absolute_percentage_error: 26.1573 - median_absolute_error: 29.4512 - median_absolute_percentage_error: 18.6385 - val_loss: 126.4540 - val_mean_absolute_error: 126.4540 - val_mean_absolute_percentage_error: 25.2265 - val_median_absolute_error: 28.1073 - val_median_absolute_percentage_error: 18.0148\n",
      "Epoch 9/100\n",
      "655/655 [==============================] - 9s 14ms/step - loss: 130.6624 - mean_absolute_error: 130.6624 - mean_absolute_percentage_error: 25.7674 - median_absolute_error: 29.6319 - median_absolute_percentage_error: 18.6037 - val_loss: 132.0995 - val_mean_absolute_error: 132.0995 - val_mean_absolute_percentage_error: 69.7410 - val_median_absolute_error: 35.9332 - val_median_absolute_percentage_error: 23.8341\n",
      "Epoch 10/100\n",
      "655/655 [==============================] - 9s 13ms/step - loss: 129.6189 - mean_absolute_error: 129.6189 - mean_absolute_percentage_error: 28.3893 - median_absolute_error: 29.5536 - median_absolute_percentage_error: 18.7770 - val_loss: 137.8518 - val_mean_absolute_error: 137.8518 - val_mean_absolute_percentage_error: 24.8461 - val_median_absolute_error: 27.4276 - val_median_absolute_percentage_error: 18.5230\n",
      "Epoch 11/100\n",
      "655/655 [==============================] - 9s 13ms/step - loss: 130.1994 - mean_absolute_error: 130.1994 - mean_absolute_percentage_error: 25.3779 - median_absolute_error: 29.2586 - median_absolute_percentage_error: 18.4121 - val_loss: 153.4657 - val_mean_absolute_error: 153.4657 - val_mean_absolute_percentage_error: 30.7788 - val_median_absolute_error: 36.6963 - val_median_absolute_percentage_error: 23.7213\n",
      "Epoch 12/100\n",
      "655/655 [==============================] - 9s 14ms/step - loss: 131.5648 - mean_absolute_error: 131.5648 - mean_absolute_percentage_error: 26.4872 - median_absolute_error: 29.5743 - median_absolute_percentage_error: 19.2319 - val_loss: 131.8412 - val_mean_absolute_error: 131.8412 - val_mean_absolute_percentage_error: 24.7671 - val_median_absolute_error: 27.7434 - val_median_absolute_percentage_error: 18.6218\n",
      "Epoch 13/100\n",
      "655/655 [==============================] - 10s 15ms/step - loss: 129.8212 - mean_absolute_error: 129.8212 - mean_absolute_percentage_error: 25.5929 - median_absolute_error: 29.3062 - median_absolute_percentage_error: 18.5768 - val_loss: 125.9436 - val_mean_absolute_error: 125.9436 - val_mean_absolute_percentage_error: 24.6888 - val_median_absolute_error: 28.5502 - val_median_absolute_percentage_error: 18.1399\n",
      "Epoch 14/100\n",
      "655/655 [==============================] - 8s 13ms/step - loss: 128.9780 - mean_absolute_error: 128.9780 - mean_absolute_percentage_error: 25.2934 - median_absolute_error: 28.9661 - median_absolute_percentage_error: 18.2935 - val_loss: 128.2498 - val_mean_absolute_error: 128.2498 - val_mean_absolute_percentage_error: 25.2807 - val_median_absolute_error: 28.0032 - val_median_absolute_percentage_error: 18.4040\n",
      "Epoch 15/100\n",
      "655/655 [==============================] - 9s 14ms/step - loss: 129.4883 - mean_absolute_error: 129.4883 - mean_absolute_percentage_error: 25.5871 - median_absolute_error: 29.2274 - median_absolute_percentage_error: 18.4881 - val_loss: 127.1537 - val_mean_absolute_error: 127.1537 - val_mean_absolute_percentage_error: 26.0962 - val_median_absolute_error: 27.1976 - val_median_absolute_percentage_error: 18.3826\n",
      "Epoch 16/100\n",
      "655/655 [==============================] - 10s 15ms/step - loss: 129.0631 - mean_absolute_error: 129.0631 - mean_absolute_percentage_error: 25.4045 - median_absolute_error: 29.1866 - median_absolute_percentage_error: 18.3920 - val_loss: 133.6259 - val_mean_absolute_error: 133.6259 - val_mean_absolute_percentage_error: 25.5179 - val_median_absolute_error: 26.8924 - val_median_absolute_percentage_error: 19.2875\n",
      "Epoch 17/100\n",
      "655/655 [==============================] - 9s 13ms/step - loss: 129.2255 - mean_absolute_error: 129.2255 - mean_absolute_percentage_error: 25.7182 - median_absolute_error: 29.3025 - median_absolute_percentage_error: 18.8340 - val_loss: 196.7138 - val_mean_absolute_error: 196.7138 - val_mean_absolute_percentage_error: 42.2899 - val_median_absolute_error: 43.9667 - val_median_absolute_percentage_error: 30.7271\n",
      "Epoch 18/100\n",
      "655/655 [==============================] - 8s 12ms/step - loss: 138.0241 - mean_absolute_error: 138.0241 - mean_absolute_percentage_error: 26.9744 - median_absolute_error: 30.1280 - median_absolute_percentage_error: 19.6518 - val_loss: 125.9712 - val_mean_absolute_error: 125.9712 - val_mean_absolute_percentage_error: 25.0251 - val_median_absolute_error: 28.7423 - val_median_absolute_percentage_error: 18.0389\n",
      "Epoch 19/100\n",
      "655/655 [==============================] - 9s 14ms/step - loss: 128.1861 - mean_absolute_error: 128.1861 - mean_absolute_percentage_error: 24.9195 - median_absolute_error: 29.0100 - median_absolute_percentage_error: 18.1380 - val_loss: 130.5294 - val_mean_absolute_error: 130.5294 - val_mean_absolute_percentage_error: 41.7047 - val_median_absolute_error: 34.5126 - val_median_absolute_percentage_error: 22.3885\n",
      "Epoch 20/100\n",
      "655/655 [==============================] - 9s 14ms/step - loss: 129.5963 - mean_absolute_error: 129.5963 - mean_absolute_percentage_error: 26.5140 - median_absolute_error: 29.6946 - median_absolute_percentage_error: 18.8262 - val_loss: 127.3983 - val_mean_absolute_error: 127.3983 - val_mean_absolute_percentage_error: 23.9445 - val_median_absolute_error: 27.3542 - val_median_absolute_percentage_error: 17.6875\n",
      "5233/5233 [==============================] - 21s 4ms/step - loss: 126.9605 - mean_absolute_error: 126.9605 - mean_absolute_percentage_error: 25.1604 - median_absolute_error: 28.1200 - median_absolute_percentage_error: 17.7133\n"
     ]
    }
   ],
   "source": [
    "# Scores for the kfolds\n",
    "scores =  {\n",
    "    \"mean_absolute_error\": [],\n",
    "    \"mean_absolute_percentage_error\": [],\n",
    "    \"median_absolute_error\": [],\n",
    "    \"median_absolute_percentage_error\": [],\n",
    "}\n",
    "\n",
    "skf = StratifiedShuffleSplit(n_splits=5, test_size=0.1, train_size=0.5, random_state=42)\n",
    "\n",
    "for train_index, test_index in skf.split(x, truth_labels):\n",
    "    X_train, X_test = x[train_index], x[test_index]\n",
    "    y_train, y_test = y[train_index], y[test_index]\n",
    "\n",
    "    shape = X_train.shape[1]\n",
    "    model = define_model(shape, \"input\")\n",
    "\n",
    "    # Compile and test model\n",
    "    model.compile(\n",
    "        optimizer=define_optimizer(),\n",
    "        loss='mean_absolute_error',\n",
    "        metrics=[\n",
    "            \"mean_absolute_error\",\n",
    "            \"mean_absolute_percentage_error\",\n",
    "            ml_utils.median_absolute_error,\n",
    "            ml_utils.median_absolute_percentage_error,\n",
    "        ])\n",
    "\n",
    "    model.fit(\n",
    "        x=X_train,\n",
    "        y=y_train,\n",
    "        epochs=100,\n",
    "        verbose=1,\n",
    "        batch_size=1024,\n",
    "        validation_split=0.2,\n",
    "        callbacks=[\n",
    "            EarlyStopping(\n",
    "                monitor=\"val_loss\",\n",
    "                patience=9,\n",
    "                min_delta=1.0,\n",
    "                restore_best_weights=True,\n",
    "            ),\n",
    "        ]\n",
    "    )\n",
    "\n",
    "    # Evaluate model\n",
    "    loss, mean_absolute_error, mean_absolute_percentage_error, median_absolute_error, median_absolute_percentage_error = model.evaluate(X_test, y_test, verbose=1)\n",
    "\n",
    "    scores[\"mean_absolute_error\"].append(mean_absolute_error)\n",
    "    scores[\"mean_absolute_percentage_error\"].append(mean_absolute_percentage_error)\n",
    "    scores[\"median_absolute_error\"].append(median_absolute_error)\n",
    "    scores[\"median_absolute_percentage_error\"].append(median_absolute_percentage_error)"
   ]
  },
  {
   "cell_type": "code",
   "execution_count": 21,
   "metadata": {},
   "outputs": [
    {
     "output_type": "stream",
     "name": "stdout",
     "text": [
      "    Combined Score:\n    Mean Absolute Error (MAE):                 128.722 (    1.369 stdev)\n    Mean Absolute Percentage Error (MAPE):      25.092 (    0.368 stdev)\n    Median Absolute Error (MeAE):               29.269 (    0.618 stdev)\n    Median Absolute Percentage Error (MAPE):    17.772 (    0.111 stdev)\n\n"
     ]
    }
   ],
   "source": [
    "# scores\n",
    "mae_mean = np.array(scores['mean_absolute_error']).mean()\n",
    "mae_std = np.array(scores['mean_absolute_error']).std()\n",
    "\n",
    "mape_mean = np.array(scores['mean_absolute_percentage_error']).mean()\n",
    "mape_std = np.array(scores['mean_absolute_percentage_error']).std()\n",
    "\n",
    "meae_mean = np.array(scores['median_absolute_error']).mean()\n",
    "meae_std = np.array(scores['median_absolute_error']).std()\n",
    "\n",
    "meape_mean = np.array(scores['median_absolute_percentage_error']).mean()\n",
    "meapee_std = np.array(scores['median_absolute_percentage_error']).std()\n",
    "\n",
    "\n",
    "print(f\"    Combined Score:\")\n",
    "print(f\"    Mean Absolute Error (MAE):               {ml_utils.pad(str(round(mae_mean, 3)), 5, 3)} ({ml_utils.pad(str(round(mae_std, 3)), 5, 3)} stdev)\")\n",
    "print(f\"    Mean Absolute Percentage Error (MAPE):   {ml_utils.pad(str(round(mape_mean, 3)), 5, 3)} ({ml_utils.pad(str(round(mape_std, 3)), 5, 3)} stdev)\")\n",
    "print(f\"    Median Absolute Error (MeAE):            {ml_utils.pad(str(round(meae_mean, 3)), 5, 3)} ({ml_utils.pad(str(round(meae_std, 3)), 5, 3)} stdev)\")\n",
    "print(f\"    Median Absolute Percentage Error (MAPE): {ml_utils.pad(str(round(meape_mean, 3)), 5, 3)} ({ml_utils.pad(str(round(meapee_std, 3)), 5, 3)} stdev)\")\n",
    "print(\"\")"
   ]
  },
  {
   "cell_type": "code",
   "execution_count": 23,
   "metadata": {},
   "outputs": [
    {
     "output_type": "stream",
     "name": "stdout",
     "text": [
      "Epoch 1/100\n",
      "765/765 [==============================] - 11s 12ms/step - loss: 287.3545 - mean_absolute_error: 287.3545 - mean_absolute_percentage_error: 65.4996 - median_absolute_error: 113.0679 - median_absolute_percentage_error: 42.2918 - val_loss: 153.9412 - val_mean_absolute_error: 153.9412 - val_mean_absolute_percentage_error: 24.9115 - val_median_absolute_error: 46.7029 - val_median_absolute_percentage_error: 18.5188\n",
      "Epoch 2/100\n",
      "765/765 [==============================] - 9s 11ms/step - loss: 156.6558 - mean_absolute_error: 156.6558 - mean_absolute_percentage_error: 25.7295 - median_absolute_error: 46.7025 - median_absolute_percentage_error: 19.0191 - val_loss: 151.7629 - val_mean_absolute_error: 151.7629 - val_mean_absolute_percentage_error: 25.2764 - val_median_absolute_error: 46.6092 - val_median_absolute_percentage_error: 18.5808\n",
      "Epoch 3/100\n",
      "765/765 [==============================] - 9s 11ms/step - loss: 155.7495 - mean_absolute_error: 155.7495 - mean_absolute_percentage_error: 25.6536 - median_absolute_error: 46.3199 - median_absolute_percentage_error: 18.9643 - val_loss: 151.5152 - val_mean_absolute_error: 151.5152 - val_mean_absolute_percentage_error: 26.2685 - val_median_absolute_error: 45.5961 - val_median_absolute_percentage_error: 18.8680\n",
      "Epoch 4/100\n",
      "765/765 [==============================] - 8s 11ms/step - loss: 153.9308 - mean_absolute_error: 153.9308 - mean_absolute_percentage_error: 25.3798 - median_absolute_error: 46.2041 - median_absolute_percentage_error: 18.8115 - val_loss: 151.1813 - val_mean_absolute_error: 151.1813 - val_mean_absolute_percentage_error: 25.1367 - val_median_absolute_error: 47.6488 - val_median_absolute_percentage_error: 18.7588\n",
      "Epoch 5/100\n",
      "765/765 [==============================] - 8s 11ms/step - loss: 153.8814 - mean_absolute_error: 153.8814 - mean_absolute_percentage_error: 25.4276 - median_absolute_error: 46.2367 - median_absolute_percentage_error: 18.8406 - val_loss: 150.7016 - val_mean_absolute_error: 150.7016 - val_mean_absolute_percentage_error: 24.4829 - val_median_absolute_error: 45.8046 - val_median_absolute_percentage_error: 18.3825\n",
      "Epoch 6/100\n",
      "765/765 [==============================] - 9s 11ms/step - loss: 152.6485 - mean_absolute_error: 152.6485 - mean_absolute_percentage_error: 25.2735 - median_absolute_error: 45.8959 - median_absolute_percentage_error: 18.7476 - val_loss: 150.7070 - val_mean_absolute_error: 150.7070 - val_mean_absolute_percentage_error: 24.5458 - val_median_absolute_error: 46.1436 - val_median_absolute_percentage_error: 18.4401\n",
      "Epoch 7/100\n",
      "765/765 [==============================] - 7s 9ms/step - loss: 153.8331 - mean_absolute_error: 153.8331 - mean_absolute_percentage_error: 25.1138 - median_absolute_error: 45.9440 - median_absolute_percentage_error: 18.6958 - val_loss: 151.5911 - val_mean_absolute_error: 151.5911 - val_mean_absolute_percentage_error: 25.8686 - val_median_absolute_error: 43.7605 - val_median_absolute_percentage_error: 19.7249\n",
      "Epoch 8/100\n",
      "765/765 [==============================] - 9s 12ms/step - loss: 153.8084 - mean_absolute_error: 153.8084 - mean_absolute_percentage_error: 25.0239 - median_absolute_error: 45.7871 - median_absolute_percentage_error: 18.6726 - val_loss: 150.6732 - val_mean_absolute_error: 150.6732 - val_mean_absolute_percentage_error: 24.3998 - val_median_absolute_error: 45.0287 - val_median_absolute_percentage_error: 18.1886\n",
      "Epoch 9/100\n",
      "765/765 [==============================] - 10s 13ms/step - loss: 154.2971 - mean_absolute_error: 154.2971 - mean_absolute_percentage_error: 24.9875 - median_absolute_error: 45.9648 - median_absolute_percentage_error: 18.6232 - val_loss: 150.9557 - val_mean_absolute_error: 150.9557 - val_mean_absolute_percentage_error: 24.5946 - val_median_absolute_error: 46.3786 - val_median_absolute_percentage_error: 18.3077\n",
      "Epoch 10/100\n",
      "765/765 [==============================] - 11s 15ms/step - loss: 153.0495 - mean_absolute_error: 153.0495 - mean_absolute_percentage_error: 24.8939 - median_absolute_error: 45.5793 - median_absolute_percentage_error: 18.5513 - val_loss: 151.4056 - val_mean_absolute_error: 151.4056 - val_mean_absolute_percentage_error: 24.5299 - val_median_absolute_error: 44.4821 - val_median_absolute_percentage_error: 18.2914\n",
      "Epoch 11/100\n",
      "765/765 [==============================] - 11s 14ms/step - loss: 152.9860 - mean_absolute_error: 152.9860 - mean_absolute_percentage_error: 24.9218 - median_absolute_error: 45.7482 - median_absolute_percentage_error: 18.6024 - val_loss: 150.7458 - val_mean_absolute_error: 150.7458 - val_mean_absolute_percentage_error: 24.3229 - val_median_absolute_error: 45.6145 - val_median_absolute_percentage_error: 18.2899\n",
      "Epoch 12/100\n",
      "765/765 [==============================] - 11s 14ms/step - loss: 151.9831 - mean_absolute_error: 151.9831 - mean_absolute_percentage_error: 24.8337 - median_absolute_error: 45.7343 - median_absolute_percentage_error: 18.5142 - val_loss: 150.2109 - val_mean_absolute_error: 150.2109 - val_mean_absolute_percentage_error: 24.6469 - val_median_absolute_error: 46.0152 - val_median_absolute_percentage_error: 18.4273\n",
      "Epoch 13/100\n",
      "765/765 [==============================] - 11s 14ms/step - loss: 152.2301 - mean_absolute_error: 152.2301 - mean_absolute_percentage_error: 24.8329 - median_absolute_error: 45.6157 - median_absolute_percentage_error: 18.5330 - val_loss: 150.9359 - val_mean_absolute_error: 150.9359 - val_mean_absolute_percentage_error: 24.5398 - val_median_absolute_error: 43.7814 - val_median_absolute_percentage_error: 18.5257\n",
      "Epoch 14/100\n",
      "765/765 [==============================] - 11s 15ms/step - loss: 153.2633 - mean_absolute_error: 153.2633 - mean_absolute_percentage_error: 24.8047 - median_absolute_error: 45.4102 - median_absolute_percentage_error: 18.4902 - val_loss: 150.0388 - val_mean_absolute_error: 150.0388 - val_mean_absolute_percentage_error: 24.2328 - val_median_absolute_error: 44.2133 - val_median_absolute_percentage_error: 18.1763\n"
     ]
    },
    {
     "output_type": "execute_result",
     "data": {
      "text/plain": [
       "<tensorflow.python.keras.callbacks.History at 0x1b136c46700>"
      ]
     },
     "metadata": {},
     "execution_count": 23
    }
   ],
   "source": [
    "# Run model on whole set\n",
    "X_train, X_test, y_train, y_test = train_test_split(X, Y, test_size=0.2, stratify=Y_class)\n",
    "\n",
    "shape = X_train.shape[1]\n",
    "model = define_model(shape, \"input\")\n",
    "\n",
    "# Compile and test model\n",
    "model.compile(\n",
    "    optimizer=define_optimizer(),\n",
    "    loss='mean_absolute_error',\n",
    "    metrics=[\n",
    "        \"mean_absolute_error\",\n",
    "        \"mean_absolute_percentage_error\",\n",
    "        ml_utils.median_absolute_error,\n",
    "        ml_utils.median_absolute_percentage_error,\n",
    "    ])\n",
    "\n",
    "model.fit(\n",
    "    x=X_train,\n",
    "    y=y_train,\n",
    "    epochs=100,\n",
    "    verbose=1,\n",
    "    batch_size=1024,\n",
    "    validation_split=0.2,\n",
    "    callbacks=[\n",
    "        EarlyStopping(\n",
    "            monitor=\"val_loss\",\n",
    "            patience=9,\n",
    "            min_delta=1.0,\n",
    "            restore_best_weights=True,\n",
    "        ),\n",
    "    ]\n",
    ")"
   ]
  },
  {
   "cell_type": "code",
   "execution_count": 25,
   "metadata": {},
   "outputs": [
    {
     "output_type": "stream",
     "name": "stdout",
     "text": [
      "7648/7648 [==============================] - 23s 3ms/step - loss: 153.8779 - mean_absolute_error: 153.8779 - mean_absolute_percentage_error: 24.4932 - median_absolute_error: 44.9034 - median_absolute_percentage_error: 17.9861\n",
      "Test accuracy:\n",
      "Mean Absolute Error (MAE):                 153.878\n",
      "Mean Absolute Percentage Error (MAPE):      24.493\n",
      "Median Absolute Error (MAE):                44.903\n",
      "Median Absolute Percentage Error (MeAPE):   17.986\n"
     ]
    }
   ],
   "source": [
    "# Evaluate model\n",
    "loss, mean_absolute_error, mean_absolute_percentage_error, median_absolute_error, median_absolute_percentage_error = model.evaluate(X_test, y_test, verbose=1)\n",
    "print(\"Test accuracy:\")\n",
    "\n",
    "print(f\"Mean Absolute Error (MAE):                 {ml_utils.pad(str(round(mean_absolute_error, 3)), 3, 3)}\")\n",
    "print(f\"Mean Absolute Percentage Error (MAPE):     {ml_utils.pad(str(round(mean_absolute_percentage_error, 3)), 3, 3)}\")\n",
    "print(f\"Median Absolute Error (MAE):               {ml_utils.pad(str(round(median_absolute_error, 3)), 3, 3)}\")\n",
    "print(f\"Median Absolute Percentage Error (MeAPE):  {ml_utils.pad(str(round(median_absolute_percentage_error, 3)), 3, 3)}\")"
   ]
  },
  {
   "cell_type": "code",
   "execution_count": null,
   "metadata": {},
   "outputs": [],
   "source": [
    "# Lets add it back to the original data and visually inspect the results\n",
    "df = pd.read_sql_query(\"SELECT * FROM 'buildings' ORDER BY RANDOM();\", db_cnx)\n",
    "\n",
    "scaler = StandardScaler()\n",
    "cols = ['area', 'perimeter', 'ipq']\n",
    "\n",
    "x = df_scaled = scaler.fit_transform(df[cols])\n",
    "\n",
    "pred = model.predict(x)"
   ]
  },
  {
   "cell_type": "code",
   "execution_count": null,
   "metadata": {},
   "outputs": [],
   "source": [
    "# Add the predictions back to the list\n",
    "df['pred_vol'] = pred\n",
    "df['abs_p_err'] = (abs(df['vol_sum'] - df['pred_vol'])) / df['vol_sum']\n",
    "\n",
    "# The original volume if it works, otherwise the infered volume.\n",
    "df['use_vol'] = df['vol_sum']\n",
    "df.loc[(df['area_vol_ratio'] < 1) | (df['vol_sum'] < 1), 'use_vol'] = df['pred_vol']"
   ]
  },
  {
   "cell_type": "code",
   "execution_count": null,
   "metadata": {},
   "outputs": [],
   "source": [
    "# Set the error to -1 when it's an infered value\n",
    "df.loc[(df['area_vol_ratio'] < 1) | (df['vol_sum'] < 1), 'abs_p_err'] = -1"
   ]
  },
  {
   "cell_type": "code",
   "execution_count": null,
   "metadata": {},
   "outputs": [],
   "source": [
    "from sqlalchemy import create_engine\n",
    "\n",
    "engine = create_engine('sqlite:///C:/Users/caspe/Desktop/Paper_2_StructuralVolume/buildings/buildings_pred.sqlite', echo=True)\n",
    "sqlite_connection = engine.connect()\n",
    "\n",
    "df.to_sql('buildings_pred', sqlite_connection, if_exists='fail')\n",
    "sqlite_connection.close()"
   ]
  }
 ]
}