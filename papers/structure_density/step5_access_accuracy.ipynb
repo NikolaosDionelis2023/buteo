{
 "metadata": {
  "language_info": {
   "codemirror_mode": {
    "name": "ipython",
    "version": 3
   },
   "file_extension": ".py",
   "mimetype": "text/x-python",
   "name": "python",
   "nbconvert_exporter": "python",
   "pygments_lexer": "ipython3",
   "version": "3.8.3-final"
  },
  "orig_nbformat": 2,
  "kernelspec": {
   "name": "green",
   "display_name": "green",
   "language": "python"
  }
 },
 "nbformat": 4,
 "nbformat_minor": 2,
 "cells": [
  {
   "source": [
    "# Estimate errors"
   ],
   "cell_type": "markdown",
   "metadata": {}
  },
  {
   "cell_type": "code",
   "execution_count": 1,
   "metadata": {},
   "outputs": [],
   "source": [
    "# Local path, change this.\n",
    "yellow = 'C:/Users/caspe/Desktop/yellow/'\n",
    "yellow_lib = yellow + \"lib/\"\n",
    "\n",
    "import sys; sys.path.append(yellow_lib) \n",
    "import sqlite3\n",
    "import pandas as pd\n",
    "import ml_utils\n",
    "from os import path\n",
    "from glob import glob\n",
    "import re\n",
    "import sys\n",
    "from sklearn.metrics import r2_score, median_absolute_error, mean_absolute_error, mean_squared_error\n",
    "from math import sqrt"
   ]
  },
  {
   "cell_type": "code",
   "execution_count": 2,
   "metadata": {},
   "outputs": [],
   "source": [
    "def get_tablename(db_connection):\n",
    "    query = \"SELECT name FROM sqlite_master WHERE type IN ('table') AND name NOT LIKE 'sqlite_%' ORDER BY 1;\"\n",
    "    table_name = pd.read_sql_query(query, db_connection)\n",
    "    return table_name.values[0][0]\n",
    "\n",
    "def clean_cols(df):\n",
    "    replace_map = {}\n",
    "    for col in df.columns:\n",
    "        replace_map[col] = re.sub(\"\\ |\\,|\\)|\\(|\\(|\\'\", \"\", col)\n",
    "    return df.rename(columns=replace_map)"
   ]
  },
  {
   "cell_type": "code",
   "execution_count": 3,
   "metadata": {},
   "outputs": [
    {
     "output_type": "stream",
     "name": "stdout",
     "text": [
      "    Test area: lemvig - area\n",
      "    Mean Absolute Error (MAE):                   81.33\n",
      "    Median Absolute Error (MeAE):                 0.00\n",
      "    Median Absolute Percentage Error (MAPE):      0.00\n",
      "    R Squared:                                    0.877\n",
      "    Root Mean Squared Error:                    305.30\n",
      "\n",
      "    Test area: aarhus - volume\n",
      "    Mean Absolute Error (MAE):                 1947.88\n",
      "    Median Absolute Error (MeAE):                38.66\n",
      "    Median Absolute Percentage Error (MAPE):      1.14\n",
      "    R Squared:                                    0.821\n",
      "    Root Mean Squared Error:                   6931.14\n",
      "\n",
      "    Test area: lemvig - volume\n",
      "    Mean Absolute Error (MAE):                  400.74\n",
      "    Median Absolute Error (MeAE):                 0.00\n",
      "    Median Absolute Percentage Error (MAPE):      0.00\n",
      "    R Squared:                                    0.790\n",
      "    Root Mean Squared Error:                   1841.26\n",
      "\n",
      "    Test area: silkeborg - volume\n",
      "    Mean Absolute Error (MAE):                  465.74\n",
      "    Median Absolute Error (MeAE):                 0.00\n",
      "    Median Absolute Percentage Error (MAPE):      0.00\n",
      "    R Squared:                                    0.907\n",
      "    Root Mean Squared Error:                   1823.38\n",
      "\n"
     ]
    }
   ],
   "source": [
    "folder = \"C:/Users/caspe/Desktop/yellow/papers/structure_density/predictions/bsac_bsdc_s2/\"\n",
    "\n",
    "results = glob(folder + '*.sqlite')\n",
    "# result = results[0]\n",
    "\n",
    "for result in results:\n",
    "    db_cnx = sqlite3.connect(result)\n",
    "    table_name = get_tablename(db_cnx)\n",
    "    df = pd.read_sql_query(f\"SELECT * FROM '{table_name}';\", db_cnx)\n",
    "    df = clean_cols(df)\n",
    "\n",
    "    filename = os.path.splitext(os.path.basename(result))[0].split('_')\n",
    "    target = filename[2]\n",
    "    if target == \"vol\": target = \"volume\"\n",
    "    test_area = filename[3]\n",
    "\n",
    "    table_name_adj = \"_\".join(table_name.split(\"_\")[:2] + table_name.split(\"_\")[-2:])\n",
    "\n",
    "    res = pd.DataFrame({ \"pred\": df[table_name_adj].values, \"target\": df[target].values })\n",
    "\n",
    "    mae = mean_absolute_error(res[\"target\"], res[\"pred\"])\n",
    "    meae = median_absolute_error(res[\"target\"], res[\"pred\"])\n",
    "    abs_percentage_error = abs(res[\"target\"] - res[\"pred\"]) / (abs(res[\"target\"] + sys.float_info.epsilon))\n",
    "    meape = (abs_percentage_error * 100).median()\n",
    "    r2 = r2_score(res[\"target\"], res[\"pred\"])\n",
    "    rmse = sqrt(mean_squared_error(res[\"target\"], res[\"pred\"]))\n",
    "\n",
    "    print(f\"    Test area: {test_area} - {target}\")\n",
    "    print(f\"    Mean Absolute Error (MAE):                {ml_utils.pad(str(round(mae, 2)), 5, 2)}\")\n",
    "    print(f\"    Median Absolute Error (MeAE):             {ml_utils.pad(str(round(meae, 2)), 5, 2)}\")\n",
    "    print(f\"    Median Absolute Percentage Error (MAPE):  {ml_utils.pad(str(round(meape, 2)), 5, 2)}\")\n",
    "    print(f\"    R Squared:                                {ml_utils.pad(str(round(r2, 3)), 5, 3)}\")\n",
    "    print(f\"    Root Mean Squared Error:                  {ml_utils.pad(str(round(rmse, 2)), 5, 2)}\")\n",
    "    print(\"\")"
   ]
  },
  {
   "cell_type": "code",
   "execution_count": null,
   "metadata": {},
   "outputs": [],
   "source": []
  }
 ]
}